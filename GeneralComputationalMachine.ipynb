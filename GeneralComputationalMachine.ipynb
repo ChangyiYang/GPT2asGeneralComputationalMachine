{
  "cells": [
    {
      "cell_type": "markdown",
      "metadata": {
        "id": "ddgcBcEoZJdz"
      },
      "source": [
        "# Pretrained Transformer As Universal Computation Machine"
      ]
    },
    {
      "cell_type": "markdown",
      "metadata": {
        "id": "mbhWmiO2ZJd1"
      },
      "source": [
        "This assignment is made with the paper <a herf = \"https://arxiv.org/abs/2103.05247\" target = \"_blank\"> Pretrained Transformer As Universal Computation Machine</a>. "
      ]
    },
    {
      "cell_type": "markdown",
      "metadata": {
        "id": "lBv2M4sOZJd1"
      },
      "source": [
        "The transformer architecture has shown great success in deep learning, serving as backbone of larger model for tasks like NLP and images. Insipired by these successes, we aimed to explore the generalization capability of a transformer. We hypothesize transformers, if trained with on a data rich modality, such as a natural language corpus, can identify feture representations of **arbitrary* data. In this assignment, we invesigate whether pretrained language models are capable of in terms of generalizing to ther modalities with sequential structure."
      ]
    },
    {
      "cell_type": "markdown",
      "metadata": {
        "id": "K_atDoAsZJd1"
      },
      "source": [
        "To do this, we use a transformer model pretrained on natural language data: GPT-2 and only finetune the **linear input, linear ouput, positional embedding and layer norm** parameters. We will see how GPT-2 works in tasks completely different from language prediction. Then, we will show using pretrained transformer model as feature extractor has its advantage over building a new neural nets from scratch."
      ]
    },
    {
      "cell_type": "code",
      "execution_count": 1,
      "metadata": {
        "colab": {
          "base_uri": "https://localhost:8080/"
        },
        "id": "Je-7ltSAZJd2",
        "outputId": "9dbcf549-8e2f-4e34-8fc9-5fc517d14325"
      },
      "outputs": [
        {
          "name": "stdout",
          "output_type": "stream",
          "text": [
            "Requirement already satisfied: transformers in d:\\miniconda3\\envs\\182cuda\\lib\\site-packages (4.27.4)\n",
            "Requirement already satisfied: huggingface-hub<1.0,>=0.11.0 in d:\\miniconda3\\envs\\182cuda\\lib\\site-packages (from transformers) (0.13.4)\n",
            "Requirement already satisfied: regex!=2019.12.17 in d:\\miniconda3\\envs\\182cuda\\lib\\site-packages (from transformers) (2023.3.23)\n",
            "Requirement already satisfied: tqdm>=4.27 in d:\\miniconda3\\envs\\182cuda\\lib\\site-packages (from transformers) (4.64.0)\n",
            "Requirement already satisfied: tokenizers!=0.11.3,<0.14,>=0.11.1 in d:\\miniconda3\\envs\\182cuda\\lib\\site-packages (from transformers) (0.13.3)\n",
            "Requirement already satisfied: numpy>=1.17 in d:\\miniconda3\\envs\\182cuda\\lib\\site-packages (from transformers) (1.23.5)\n",
            "Requirement already satisfied: requests in d:\\miniconda3\\envs\\182cuda\\lib\\site-packages (from transformers) (2.28.1)\n",
            "Requirement already satisfied: filelock in d:\\miniconda3\\envs\\182cuda\\lib\\site-packages (from transformers) (3.11.0)\n",
            "Requirement already satisfied: pyyaml>=5.1 in d:\\miniconda3\\envs\\182cuda\\lib\\site-packages (from transformers) (6.0)\n",
            "Requirement already satisfied: packaging>=20.0 in d:\\miniconda3\\envs\\182cuda\\lib\\site-packages (from transformers) (21.3)\n",
            "Requirement already satisfied: typing-extensions>=3.7.4.3 in d:\\miniconda3\\envs\\182cuda\\lib\\site-packages (from huggingface-hub<1.0,>=0.11.0->transformers) (4.5.0)\n",
            "Requirement already satisfied: pyparsing!=3.0.5,>=2.0.2 in d:\\miniconda3\\envs\\182cuda\\lib\\site-packages (from packaging>=20.0->transformers) (3.0.4)\n",
            "Requirement already satisfied: colorama in d:\\miniconda3\\envs\\182cuda\\lib\\site-packages (from tqdm>=4.27->transformers) (0.4.4)\n",
            "Requirement already satisfied: certifi>=2017.4.17 in d:\\miniconda3\\envs\\182cuda\\lib\\site-packages (from requests->transformers) (2022.12.7)\n",
            "Requirement already satisfied: urllib3<1.27,>=1.21.1 in d:\\miniconda3\\envs\\182cuda\\lib\\site-packages (from requests->transformers) (1.26.14)\n",
            "Requirement already satisfied: idna<4,>=2.5 in d:\\miniconda3\\envs\\182cuda\\lib\\site-packages (from requests->transformers) (3.4)\n",
            "Requirement already satisfied: charset-normalizer<3,>=2 in d:\\miniconda3\\envs\\182cuda\\lib\\site-packages (from requests->transformers) (2.0.12)\n"
          ]
        }
      ],
      "source": [
        "!pip install transformers"
      ]
    },
    {
      "cell_type": "code",
      "execution_count": 1,
      "metadata": {
        "id": "606VpHvWZJd3"
      },
      "outputs": [],
      "source": [
        "import torch\n",
        "from torch import nn\n",
        "from torch.nn import functional as F\n",
        "from torch.utils.data import random_split\n",
        "import torch.optim as optim\n",
        "import torchvision\n",
        "import torchvision.transforms as transforms\n",
        "import numpy as np\n",
        "from transformers.models.gpt2.modeling_gpt2 import GPT2Model\n",
        "from typing import List, Dict\n",
        "from tqdm import tqdm\n",
        "import matplotlib.pyplot as plt\n",
        "import requests\n",
        "from PIL import Image\n",
        "import cv2\n",
        "\n",
        "from tqdm.notebook import tqdm, trange"
      ]
    },
    {
      "cell_type": "markdown",
      "metadata": {
        "id": "dqhMY8cBy3FY"
      },
      "source": [
        "### **Learn about GPT2 architecture**"
      ]
    },
    {
      "cell_type": "markdown",
      "metadata": {
        "id": "PljXgeYBzCA7"
      },
      "source": [
        "First, we introdcue the architecture of GPT2 and try build a sample model to simulate it to help you understand later parts better"
      ]
    },
    {
      "cell_type": "markdown",
      "metadata": {
        "id": "O-b32Pw7it8D"
      },
      "source": [
        "As you learned from lecture, the GPT2 is based on the transformer model, which is raised in paper, *Attention is all you need*. Here is a picture of transformer achitecture for your reference."
      ]
    },
    {
      "cell_type": "markdown",
      "metadata": {
        "id": "4FO4drgwzU9m"
      },
      "source": [
        "<div align=\"center\"><img src=https://jalammar.github.io/images/xlnet/transformer-encoder-decoder.png width=60% /> </div>"
      ]
    },
    {
      "cell_type": "markdown",
      "metadata": {
        "id": "ftdUrs66jG86"
      },
      "source": [
        "Then people find that only a stack of encoders/decoders are sufficent for taskes, which result in encoder-only transformer, such as BERT and decoder-only transformer, such as GPT2. Here are two pictures showes the architecture of encoder and decoder layer.\n"
      ]
    },
    {
      "cell_type": "markdown",
      "metadata": {
        "id": "9GmXODWtjvpt"
      },
      "source": [
        "<div align=\"center\"><img src=https://jalammar.github.io/images/xlnet/transformer-encoder-block-2.png width=60% /> </div>"
      ]
    },
    {
      "cell_type": "markdown",
      "metadata": {
        "id": "2vrRfLFCZJd4"
      },
      "source": [
        "<div align=\"center\"><img src=https://jalammar.github.io/images/xlnet/transformer-decoder-block-2.png width=60% /> </div>"
      ]
    },
    {
      "cell_type": "markdown",
      "metadata": {
        "id": "BRyb__iNkQgQ"
      },
      "source": [
        "As you can see, the biggest difference between encoder and decoder is decoder has one more layer called **MASKED** self-attention. This layer is, as the name said, a self-attention layer with mask. To be specific, in masked self-attention, the causal relationshipd is added, which means for a certain word, only the words before it can have influence on it. The difference is well demostrated in the following pictures."
      ]
    },
    {
      "cell_type": "markdown",
      "metadata": {
        "id": "xkINbHbkZJd5"
      },
      "source": [
        "<div align=\"center\"><img src=https://jalammar.github.io/images/gpt2/self-attention-and-masked-self-attention.png width=60% /> </div>"
      ]
    },
    {
      "cell_type": "markdown",
      "metadata": {
        "id": "HdUv3Q4QlIc2"
      },
      "source": [
        "Implementing the transformer or GPT2 is not the main focus of this homework. Here, we provided a detailed Pytorch implementation of a self-attention layer. You task is to apply the causual mask if `causal = True`. "
      ]
    },
    {
      "cell_type": "markdown",
      "metadata": {
        "id": "BKizjZylqjWs"
      },
      "source": [
        "The scores is computed for you. The attention scores `scores[i, j]` represent the similarity score between the i-th query vector `q[i]` and the j-th key vector `k[j]`."
      ]
    },
    {
      "cell_type": "markdown",
      "metadata": {
        "id": "EKMHBn4Cw-WJ"
      },
      "source": [
        "*Hint: `torch.triu` and `torch.masked_fill` function may be helpful.*"
      ]
    },
    {
      "cell_type": "code",
      "execution_count": 3,
      "metadata": {
        "id": "H5-k6YiVwfEA"
      },
      "outputs": [],
      "source": [
        "def dot_product_attention(q, k, v, causal=False):\n",
        "    \"\"\"\n",
        "    Computes the dot product attention scores and the attention output for a single example.\n",
        "\n",
        "    Args:\n",
        "    - q: Tensor of shape (query_length, embedding_size)\n",
        "    - k: Tensor of shape (key_length, embedding_size)\n",
        "    - v: Tensor of shape (value_length, embedding_size)\n",
        "    - causal: Boolean flag indicating whether to apply a causal mask\n",
        "\n",
        "    Returns:\n",
        "    - output: Tensor of shape (query_length, embedding_size)\n",
        "    \"\"\"\n",
        "    scores = torch.matmul(q, k.transpose(0, 1)) / (q.shape[-1] ** 0.5)  # shape: (query_length, key_length)\n",
        "    \n",
        "    if causal:\n",
        "\n",
        "      ############################################################################\n",
        "      # TODO: implement this part\n",
        "      ############################################################################\n",
        "        # Create a causal mask for the scores tensor\n",
        "        mask = torch.triu(torch.ones_like(scores), diagonal=1)\n",
        "        # print(mask)\n",
        "        scores.masked_fill_(mask == 1, float(\"-inf\"))\n",
        "        # print('scores',scores)\n",
        "\n",
        "      ############################################################################\n",
        "    \n",
        "    #print(scores)\n",
        "    weights = F.softmax(scores, dim=-1)  # shape: (query_length, key_length)\n",
        "    output = torch.matmul(weights, v)  # shape: (query_length, embedding_size)\n",
        "    \n",
        "    return output\n"
      ]
    },
    {
      "cell_type": "code",
      "execution_count": 4,
      "metadata": {
        "colab": {
          "base_uri": "https://localhost:8080/"
        },
        "id": "SbQki1KQx9sy",
        "outputId": "b36101e5-065e-4a1f-8eb4-3f36438ce802"
      },
      "outputs": [
        {
          "name": "stdout",
          "output_type": "stream",
          "text": [
            "tensor([[1., 2., 3.],\n",
            "        [4., 5., 6.],\n",
            "        [7., 8., 9.]])\n",
            "tensor([[6.9999, 7.9999, 8.9999],\n",
            "        [7.0000, 8.0000, 9.0000],\n",
            "        [7.0000, 8.0000, 9.0000]])\n"
          ]
        }
      ],
      "source": [
        "# test the implementation\n",
        "q = torch.tensor([[1, 2, 3], [4, 5, 6], [7, 8, 9]], dtype=torch.float)\n",
        "k = torch.tensor([[1, 2, 3], [4, 5, 6], [7, 8, 9]], dtype=torch.float)\n",
        "v = torch.tensor([[1, 2, 3], [4, 5, 6], [7, 8, 9]], dtype=torch.float)\n",
        "\n",
        "print(dot_product_attention(q, k, v, True))\n",
        "print(dot_product_attention(q, k, v, False))\n",
        "\n",
        "\n"
      ]
    },
    {
      "cell_type": "markdown",
      "metadata": {
        "id": "97GYemo2ZJd6"
      },
      "source": [
        "### **Application of GPT-2 in a Simple Language Task**"
      ]
    },
    {
      "cell_type": "markdown",
      "metadata": {
        "id": "FLzP2gIdZJd6"
      },
      "source": [
        "In this part, we use GPT2 to do some language task, which is its original domain, to learn about how to adapt and fine tune GPT-2."
      ]
    },
    {
      "cell_type": "code",
      "execution_count": 5,
      "metadata": {
        "colab": {
          "base_uri": "https://localhost:8080/",
          "height": 1000
        },
        "id": "O6NlWjmpZJd6",
        "outputId": "6fb1af4e-d4a9-445c-f35c-316d270292c6"
      },
      "outputs": [
        {
          "name": "stderr",
          "output_type": "stream",
          "text": [
            "d:\\miniconda3\\envs\\182cuda\\lib\\site-packages\\transformers\\generation\\utils.py:1201: UserWarning: You have modified the pretrained model configuration to control generation. This is a deprecated strategy to control generation and will be removed soon, in a future version. Please use a generation configuration file (see https://huggingface.co/docs/transformers/main_classes/text_generation)\n",
            "  warnings.warn(\n",
            "Setting `pad_token_id` to `eos_token_id`:50256 for open-end generation.\n"
          ]
        },
        {
          "name": "stdout",
          "output_type": "stream",
          "text": [
            "The 0th result begins:\n",
            "Hello, I'm a language model, I love a language modeling. It's like writing in JavaScript, to do a set of actions. That would be cool. [Append: We've come up with some nice ideas for our project.]\n",
            "\n",
            "The 0th result ends\n",
            "\n",
            "The 1th result begins:\n",
            "Hello, I'm a language model, not I. I'm a writer that tries to figure out what is and isn't possible. I do not do things without understanding what's actually happening.\n",
            "\n",
            "\n",
            "Sometimes a problem comes to me and I'm\n",
            "The 1th result ends\n",
            "\n",
            "The 2th result begins:\n",
            "Hello, I'm a language model, you can write more languages. When you write anything in a language, you want as many things as possible to be written. Then you want it to be easy to program and to learn about it. So when\n",
            "The 2th result ends\n",
            "\n"
          ]
        },
        {
          "name": "stderr",
          "output_type": "stream",
          "text": [
            "Setting `pad_token_id` to `eos_token_id`:50256 for open-end generation.\n"
          ]
        },
        {
          "name": "stdout",
          "output_type": "stream",
          "text": [
            "My dog is cute and I love her. She is a great dog and I am very happy with her. I am very happy with my dog and she is a great dog.\n",
            "\n",
            "I am a big fan of the dog and she is a\n"
          ]
        }
      ],
      "source": [
        "# This code demonstrates GPT-2's language task ability\n",
        "from transformers import GPT2Tokenizer, GPT2Model, GPT2LMHeadModel, pipeline, set_seed\n",
        "\n",
        "############################################################################\n",
        "# TODO: implement this part\n",
        "############################################################################\n",
        "prompt = \"Hello, I'm a language model,\"\n",
        "generator = pipeline('text-generation', model='gpt2')\n",
        "generated_result = generator(prompt, max_length=50, num_return_sequences=3)\n",
        "############################################################################\n",
        "\n",
        "for i, result in enumerate(generated_result):\n",
        "    print(\"The {}th result begins:\\n{}\\nThe {}th result ends\\n\".format(i,result[\"generated_text\"],i))\n",
        "\n",
        "\"\"\"\n",
        "    Despite using pipeline directly provided by transformers, it is also good to take a closer look\n",
        "\"\"\"\n",
        "############################################################################\n",
        "# TODO: implement this part\n",
        "############################################################################\n",
        "prompt = \"My dog is cute\"\n",
        "############################################################################\n",
        "tokenizer = GPT2Tokenizer.from_pretrained('gpt2')\n",
        "model = GPT2LMHeadModel.from_pretrained('gpt2')\n",
        "\n",
        "# tokens is a dictionary of multiple GPT2 parameters \n",
        "tokens = tokenizer(prompt, return_tensors=\"pt\")\n",
        "\n",
        "outputs = model.generate(\n",
        "    **tokens,\n",
        "    max_length=50\n",
        ")\n",
        "\n",
        "# Convert the outputs into words\n",
        "text = tokenizer.decode(outputs[0], skip_special_tokens=True)\n",
        "print(text)"
      ]
    },
    {
      "cell_type": "markdown",
      "metadata": {
        "id": "WcBQ6IeRZJd6"
      },
      "source": [
        "### **Versatility of GPT-2 for tasks in other Domains**"
      ]
    },
    {
      "cell_type": "markdown",
      "metadata": {
        "id": "vDxA-qO_ZJd7"
      },
      "source": [
        "In this part, we will demonstrate how to adpat and finetune GPT-2 for tasks outside the language domain, including a math operation finding and image classification."
      ]
    },
    {
      "cell_type": "markdown",
      "metadata": {
        "id": "lYCPE45rZJd7"
      },
      "source": [
        "#### Task 1: Bit-wise operation"
      ]
    },
    {
      "cell_type": "markdown",
      "metadata": {
        "id": "qzBcPYprZJd7"
      },
      "source": [
        "In this section, we show GPT-2 can well learn the bit-wise operation such as `AND`, `OR` and `XOR`. We will see it shows a extremely high accuracy on this task."
      ]
    },
    {
      "cell_type": "markdown",
      "metadata": {
        "id": "6ioHKhQ8ZJd7"
      },
      "source": [
        "First, we need to create a dataset for fine tuning."
      ]
    },
    {
      "cell_type": "code",
      "execution_count": 8,
      "metadata": {
        "id": "k5ROWnWuZJd7"
      },
      "outputs": [],
      "source": [
        "if torch.cuda.is_available():\n",
        "   device = 'cuda'\n",
        "else:\n",
        "   device = 'cpu'"
      ]
    },
    {
      "cell_type": "markdown",
      "metadata": {
        "id": "9lhKExEbZJd7"
      },
      "source": [
        "Here, we choose the `XOR` operator as our training goal. You are feel free to change the function below to test on other operators."
      ]
    },
    {
      "cell_type": "code",
      "execution_count": 9,
      "metadata": {
        "id": "iUkDgpYWZJd7"
      },
      "outputs": [],
      "source": [
        "# randomly generate two n-bits strings and its ground-truth and result\n",
        "def generate_example(n):\n",
        "  bits = np.random.randint(low=0, high=2, size=(2, n)) \n",
        "  \n",
        "  # change this line to change the operator\n",
        "  XOR = np.logical_xor(bits[0], bits[1]).astype(np.long) \n",
        "  # ----------------------------------------------------\n",
        "  \n",
        "  return bits.reshape((2*n)), XOR"
      ]
    },
    {
      "cell_type": "code",
      "execution_count": null,
      "metadata": {
        "id": "0E8Z0arhZJd7"
      },
      "outputs": [],
      "source": [
        "class BitWiseDataset(torch.utils.data.Dataset):\n",
        "  def __init__(self, n, size):\n",
        "    self.n = n\n",
        "    self.size = size\n",
        "\n",
        "  def __len__(self):\n",
        "    return self.size\n",
        "\n",
        "  def __getitem__(self, idx):\n",
        "    bits = np.random.randint(low=0, high=2, size=(2, self.n))\n",
        "    And = np.logical_xor(bits[0], bits[1]).astype(np.int64)\n",
        "    return torch.tensor(bits.reshape((2*self.n)), dtype=torch.long).to(device), torch.tensor(And, dtype=torch.long).to(device)\n",
        "\n",
        "def generate_data_loaders(n, batch_size, data_size = 1000, train_size=0.8):\n",
        "  dataset = BitWiseDataset(n, size=data_size)\n",
        "  train_size = int(train_size * len(dataset))\n",
        "  test_size = len(dataset) - train_size\n",
        "  train_dataset, test_dataset = torch.utils.data.random_split(dataset, [train_size, test_size])\n",
        "\n",
        "  train_loader = torch.utils.data.DataLoader(train_dataset, batch_size=batch_size, shuffle=True)\n",
        "  test_loader = torch.utils.data.DataLoader(test_dataset, batch_size=batch_size, shuffle=False)\n",
        "\n",
        "  return train_loader, test_loader\n"
      ]
    },
    {
      "cell_type": "markdown",
      "metadata": {
        "id": "xHpTaJ-rZJd7"
      },
      "source": [
        "Then, to fine tune on the GPT-2 model, we need to freeze the weights of the self-attention layer and feedforward layer. Only keep the layer norm layer and positional encnding changeable."
      ]
    },
    {
      "cell_type": "code",
      "execution_count": null,
      "metadata": {
        "id": "MWZfOTDIZJd8"
      },
      "outputs": [],
      "source": [
        "# load the GP2 model\n",
        "gpt2 = GPT2Model.from_pretrained('gpt2')"
      ]
    },
    {
      "cell_type": "code",
      "execution_count": null,
      "metadata": {
        "colab": {
          "base_uri": "https://localhost:8080/"
        },
        "id": "MAjL6RDLZJd8",
        "outputId": "5ee49bce-3eca-47f4-eabc-7510c8f09f7d"
      },
      "outputs": [
        {
          "name": "stdout",
          "output_type": "stream",
          "text": [
            "wte.weight\n",
            "wpe.weight\n",
            "h.0.ln_1.weight\n",
            "h.0.ln_1.bias\n",
            "h.0.attn.c_attn.weight\n",
            "h.0.attn.c_attn.bias\n",
            "h.0.attn.c_proj.weight\n",
            "h.0.attn.c_proj.bias\n",
            "h.0.ln_2.weight\n",
            "h.0.ln_2.bias\n",
            "h.0.mlp.c_fc.weight\n",
            "h.0.mlp.c_fc.bias\n",
            "h.0.mlp.c_proj.weight\n",
            "h.0.mlp.c_proj.bias\n",
            "h.1.ln_1.weight\n",
            "h.1.ln_1.bias\n",
            "h.1.attn.c_attn.weight\n",
            "h.1.attn.c_attn.bias\n",
            "h.1.attn.c_proj.weight\n",
            "h.1.attn.c_proj.bias\n",
            "h.1.ln_2.weight\n",
            "h.1.ln_2.bias\n",
            "h.1.mlp.c_fc.weight\n",
            "h.1.mlp.c_fc.bias\n",
            "h.1.mlp.c_proj.weight\n",
            "h.1.mlp.c_proj.bias\n",
            "h.2.ln_1.weight\n",
            "h.2.ln_1.bias\n",
            "h.2.attn.c_attn.weight\n",
            "h.2.attn.c_attn.bias\n",
            "h.2.attn.c_proj.weight\n",
            "h.2.attn.c_proj.bias\n",
            "h.2.ln_2.weight\n",
            "h.2.ln_2.bias\n",
            "h.2.mlp.c_fc.weight\n",
            "h.2.mlp.c_fc.bias\n",
            "h.2.mlp.c_proj.weight\n",
            "h.2.mlp.c_proj.bias\n",
            "h.3.ln_1.weight\n",
            "h.3.ln_1.bias\n",
            "h.3.attn.c_attn.weight\n",
            "h.3.attn.c_attn.bias\n",
            "h.3.attn.c_proj.weight\n",
            "h.3.attn.c_proj.bias\n",
            "h.3.ln_2.weight\n",
            "h.3.ln_2.bias\n",
            "h.3.mlp.c_fc.weight\n",
            "h.3.mlp.c_fc.bias\n",
            "h.3.mlp.c_proj.weight\n",
            "h.3.mlp.c_proj.bias\n",
            "h.4.ln_1.weight\n",
            "h.4.ln_1.bias\n",
            "h.4.attn.c_attn.weight\n",
            "h.4.attn.c_attn.bias\n",
            "h.4.attn.c_proj.weight\n",
            "h.4.attn.c_proj.bias\n",
            "h.4.ln_2.weight\n",
            "h.4.ln_2.bias\n",
            "h.4.mlp.c_fc.weight\n",
            "h.4.mlp.c_fc.bias\n",
            "h.4.mlp.c_proj.weight\n",
            "h.4.mlp.c_proj.bias\n",
            "h.5.ln_1.weight\n",
            "h.5.ln_1.bias\n",
            "h.5.attn.c_attn.weight\n",
            "h.5.attn.c_attn.bias\n",
            "h.5.attn.c_proj.weight\n",
            "h.5.attn.c_proj.bias\n",
            "h.5.ln_2.weight\n",
            "h.5.ln_2.bias\n",
            "h.5.mlp.c_fc.weight\n",
            "h.5.mlp.c_fc.bias\n",
            "h.5.mlp.c_proj.weight\n",
            "h.5.mlp.c_proj.bias\n",
            "h.6.ln_1.weight\n",
            "h.6.ln_1.bias\n",
            "h.6.attn.c_attn.weight\n",
            "h.6.attn.c_attn.bias\n",
            "h.6.attn.c_proj.weight\n",
            "h.6.attn.c_proj.bias\n",
            "h.6.ln_2.weight\n",
            "h.6.ln_2.bias\n",
            "h.6.mlp.c_fc.weight\n",
            "h.6.mlp.c_fc.bias\n",
            "h.6.mlp.c_proj.weight\n",
            "h.6.mlp.c_proj.bias\n",
            "h.7.ln_1.weight\n",
            "h.7.ln_1.bias\n",
            "h.7.attn.c_attn.weight\n",
            "h.7.attn.c_attn.bias\n",
            "h.7.attn.c_proj.weight\n",
            "h.7.attn.c_proj.bias\n",
            "h.7.ln_2.weight\n",
            "h.7.ln_2.bias\n",
            "h.7.mlp.c_fc.weight\n",
            "h.7.mlp.c_fc.bias\n",
            "h.7.mlp.c_proj.weight\n",
            "h.7.mlp.c_proj.bias\n",
            "h.8.ln_1.weight\n",
            "h.8.ln_1.bias\n",
            "h.8.attn.c_attn.weight\n",
            "h.8.attn.c_attn.bias\n",
            "h.8.attn.c_proj.weight\n",
            "h.8.attn.c_proj.bias\n",
            "h.8.ln_2.weight\n",
            "h.8.ln_2.bias\n",
            "h.8.mlp.c_fc.weight\n",
            "h.8.mlp.c_fc.bias\n",
            "h.8.mlp.c_proj.weight\n",
            "h.8.mlp.c_proj.bias\n",
            "h.9.ln_1.weight\n",
            "h.9.ln_1.bias\n",
            "h.9.attn.c_attn.weight\n",
            "h.9.attn.c_attn.bias\n",
            "h.9.attn.c_proj.weight\n",
            "h.9.attn.c_proj.bias\n",
            "h.9.ln_2.weight\n",
            "h.9.ln_2.bias\n",
            "h.9.mlp.c_fc.weight\n",
            "h.9.mlp.c_fc.bias\n",
            "h.9.mlp.c_proj.weight\n",
            "h.9.mlp.c_proj.bias\n",
            "h.10.ln_1.weight\n",
            "h.10.ln_1.bias\n",
            "h.10.attn.c_attn.weight\n",
            "h.10.attn.c_attn.bias\n",
            "h.10.attn.c_proj.weight\n",
            "h.10.attn.c_proj.bias\n",
            "h.10.ln_2.weight\n",
            "h.10.ln_2.bias\n",
            "h.10.mlp.c_fc.weight\n",
            "h.10.mlp.c_fc.bias\n",
            "h.10.mlp.c_proj.weight\n",
            "h.10.mlp.c_proj.bias\n",
            "h.11.ln_1.weight\n",
            "h.11.ln_1.bias\n",
            "h.11.attn.c_attn.weight\n",
            "h.11.attn.c_attn.bias\n",
            "h.11.attn.c_proj.weight\n",
            "h.11.attn.c_proj.bias\n",
            "h.11.ln_2.weight\n",
            "h.11.ln_2.bias\n",
            "h.11.mlp.c_fc.weight\n",
            "h.11.mlp.c_fc.bias\n",
            "h.11.mlp.c_proj.weight\n",
            "h.11.mlp.c_proj.bias\n",
            "ln_f.weight\n",
            "ln_f.bias\n"
          ]
        }
      ],
      "source": [
        "# show the name of all the para your are able to modified in this model\n",
        "for name, param in gpt2.named_parameters():\n",
        "  print(name)"
      ]
    },
    {
      "cell_type": "code",
      "execution_count": null,
      "metadata": {
        "id": "Dp9_wLQhZJd8"
      },
      "outputs": [],
      "source": [
        "for name, param in gpt2.named_parameters():\n",
        "# freeze all parameters except the layernorm and positional embeddings \n",
        "  if 'ln' in name or 'wpe' in name:\n",
        "    param.requires_grad = True \n",
        "  else:\n",
        "    param.requires_grad = False"
      ]
    },
    {
      "cell_type": "markdown",
      "metadata": {
        "id": "v9LfUStCZJd8"
      },
      "source": [
        "After we have our dataset and pretrained model ready, we need to adapt the model to our task, which means adding a embedding layer before the model and a linear output layer after the model."
      ]
    },
    {
      "cell_type": "code",
      "execution_count": null,
      "metadata": {
        "id": "jeddpgCzZJd8"
      },
      "outputs": [],
      "source": [
        "class Bit_wise_transformer(nn.Module):\n",
        "  def __init__(self, engine, bitLength, input_dim, engine_embed_dim, n_class = 2, output_attentions=False):\n",
        "    super().__init__()\n",
        "    self.n = bitLength\n",
        "    self.input_embed = nn.Embedding(input_dim, engine_embed_dim)\n",
        "    self.engine = engine\n",
        "    self.output_layer = nn.Linear(engine_embed_dim, n_class)\n",
        "    self.output_attentions = output_attentions\n",
        "    self.attn_output = None\n",
        "  def forward(self, x):\n",
        "    embeddings = self.input_embed(x)\n",
        "    transformer_output = self.engine(\n",
        "        inputs_embeds=embeddings, \n",
        "        output_attentions=self.output_attentions\n",
        "    )\n",
        "    if self.output_attentions:\n",
        "      self.attn_output = transformer_output.attentions\n",
        "    hidden_state = transformer_output.last_hidden_state[:, self.n:]\n",
        "    logits = self.output_layer(hidden_state)\n",
        "    return logits"
      ]
    },
    {
      "cell_type": "markdown",
      "metadata": {
        "id": "T1YdSrDvZJd9"
      },
      "source": [
        "Now, we are ready for the training! Generate the train and set set first, and train the model."
      ]
    },
    {
      "cell_type": "code",
      "execution_count": null,
      "metadata": {
        "id": "cnDL1fkFZJd9"
      },
      "outputs": [],
      "source": [
        "# generate the training and testing data\n",
        "train_loader, test_loader = generate_data_loaders(n=8, batch_size=32,data_size = 20000, train_size=0.8)"
      ]
    },
    {
      "cell_type": "code",
      "execution_count": null,
      "metadata": {
        "colab": {
          "base_uri": "https://localhost:8080/",
          "height": 1000,
          "referenced_widgets": [
            "48b1bdf53dca43828691c5ff1781a424",
            "4c6324e0cef54ae8ae6a11334f97cc12",
            "d97f00cdf4df4c818c6fb8db5f0109e4",
            "70703cb8d8bf46aeba813b933ff206f8",
            "c34ea308297649cd9cd7802c2a1b8418",
            "f8fa56c5aced471bb04e6cf84a3e165b",
            "11b9d3b5481e4c80aeb63dffe2cef1ff",
            "92542a79d4934c0eb0dd2122c6c98c1d",
            "1fa47f5868cb436fb75c70a0a9be7be2",
            "452016ad2efc41a78363c279f0b4be8a",
            "cb9991f461f5465bb55fb99777fe9dc0",
            "9d5b484835a049238944c6bfac1346b4",
            "f069bc36070a4a718eb11a0efb75b4f2",
            "28f6f9040c3640abbabb25f901c5917e",
            "1223c059d4c54ab79c73eab6332a7b21",
            "357dea336ada4bf3bdc62859ed4678cc",
            "f8e4b60b7378481393823426f117e573",
            "ea499c0b028f42558f79a3528e053af9",
            "e8b42eb62eea4301994f76354406a91d",
            "59118c9dbc2f4e038b3e85726e1c3933",
            "8ed5d5e90be846a7947e779494532d0f",
            "4334fa50c83c44ebbfc2a74268a28797",
            "5eb581f298e34272a721ff0587ffa370",
            "a83fc498fb9842cbb51e5dc0d01f04e6",
            "2b19c04654584a90938f176e93adf8e4",
            "4fce80732d7c4d94b6be0612f007be6d",
            "5d7135c15bca4cb983f1a013eb73b374",
            "9a7fed3a82da410b995ecd7ea7eb58d2",
            "bde794a54abd48d08fd9493272f7d84b",
            "0ba02577b1754ecf99ad336ee988200b",
            "4e4f5a370cc240c3a8f46826fb8a695b",
            "c33cb9677b6a44498725b11f3098892c",
            "b9d057b630204818afecb0a169c252e8",
            "0554d1cbdcbb47d492a32cd6e1b2f5eb",
            "a0292f82e5cd484bb35589af7060f84c",
            "ce1e49a7de9c4c3787b6bad2fa973f5e",
            "23c13eb3b37643ba86d9880f51fb0d77",
            "9fa7093957a94af0a717cda28e788048",
            "f6c6bfe769a8484cbe79877fc680567c",
            "d286c40d3629447ea371158663dbaa1d",
            "200e7ea481564426ad7c1b6bfca21bdd",
            "ad4bc0f1ddc740459e1a04a8662f41e3",
            "49fc0ec812f64f029df0bcaeed008bfc",
            "2c77e6bb19024878af2fff9f73f187ed"
          ]
        },
        "id": "P6vhv3YaZJd9",
        "outputId": "55c18da0-84ab-4dff-ca59-f9e52c4508e6"
      },
      "outputs": [
        {
          "data": {
            "application/vnd.jupyter.widget-view+json": {
              "model_id": "48b1bdf53dca43828691c5ff1781a424",
              "version_major": 2,
              "version_minor": 0
            },
            "text/plain": [
              "  0%|          | 0/3 [00:00<?, ?it/s]"
            ]
          },
          "metadata": {},
          "output_type": "display_data"
        },
        {
          "data": {
            "application/vnd.jupyter.widget-view+json": {
              "model_id": "9d5b484835a049238944c6bfac1346b4",
              "version_major": 2,
              "version_minor": 0
            },
            "text/plain": [
              "  0%|          | 0/500 [00:00<?, ?it/s]"
            ]
          },
          "metadata": {},
          "output_type": "display_data"
        },
        {
          "data": {
            "application/vnd.jupyter.widget-view+json": {
              "model_id": "5eb581f298e34272a721ff0587ffa370",
              "version_major": 2,
              "version_minor": 0
            },
            "text/plain": [
              "  0%|          | 0/500 [00:00<?, ?it/s]"
            ]
          },
          "metadata": {},
          "output_type": "display_data"
        },
        {
          "data": {
            "application/vnd.jupyter.widget-view+json": {
              "model_id": "0554d1cbdcbb47d492a32cd6e1b2f5eb",
              "version_major": 2,
              "version_minor": 0
            },
            "text/plain": [
              "  0%|          | 0/500 [00:00<?, ?it/s]"
            ]
          },
          "metadata": {},
          "output_type": "display_data"
        },
        {
          "data": {
            "image/png": "[encoded data removed]",
            "text/plain": [
              "<Figure size 640x480 with 1 Axes>"
            ]
          },
          "metadata": {},
          "output_type": "display_data"
        },
        {
          "data": {
            "image/png": "[encoded data removed]",
            "text/plain": [
              "<Figure size 640x480 with 1 Axes>"
            ]
          },
          "metadata": {},
          "output_type": "display_data"
        },
        {
          "data": {
            "image/png": "[encoded data removed]",
            "text/plain": [
              "<Figure size 640x480 with 1 Axes>"
            ]
          },
          "metadata": {},
          "output_type": "display_data"
        }
      ],
      "source": [
        "# create an instance of the model\n",
        "Bit_length = 8\n",
        "\n",
        "model = Bit_wise_transformer(\n",
        "      gpt2, \n",
        "      bitLength = Bit_length,\n",
        "      input_dim = 2, \n",
        "      engine_embed_dim = 768,\n",
        ").to(device)\n",
        "\n",
        "\n",
        "# define the optimizer and loss\n",
        "optimizer = torch.optim.Adam(model.parameters(), lr=0.001)\n",
        "criterion = nn.CrossEntropyLoss()\n",
        "\n",
        "\n",
        "losses = []\n",
        "train_acc = []\n",
        "all_val_acc = []\n",
        "best_val_acc = 0\n",
        "num_epochs = 3\n",
        "\n",
        "epoch_iterator = trange(num_epochs)\n",
        "for epoch in epoch_iterator:\n",
        "    # Training loop\n",
        "    running_loss = 0.0\n",
        "    data_iterator = tqdm(train_loader)\n",
        "    for i, (inputs, labels) in enumerate(data_iterator):\n",
        "        optimizer.zero_grad()\n",
        "        outputs = model(inputs)\n",
        "        loss = criterion(outputs.view(-1, 2), labels.view(-1))\n",
        "        accuracy = torch.mean((torch.argmax(outputs, dim=-1).flatten() == labels.flatten()).float())\n",
        "        loss.backward()\n",
        "        optimizer.step()\n",
        "\n",
        "        data_iterator.set_postfix(loss=loss.item())\n",
        "\n",
        "        running_loss += loss.item()\n",
        "        if (i + 1) % 50 == 0:\n",
        "              #print(f'Epoch [{epoch + 1}/{num_epochs}], Batch [{i * 50 + 1}/{len(train_loader)}], Loss: {running_loss / 50:.4f}')\n",
        "            running_loss = 0.0\n",
        "            losses.append(loss.item())\n",
        "            train_acc.append(accuracy.item())\n",
        "        \n",
        "    # Validation\n",
        "    val_acc = []\n",
        "    model.eval()\n",
        "    with torch.no_grad():\n",
        "      for inputs, labels in test_loader:\n",
        "          inputs = inputs.to(device=device, dtype=torch.long)\n",
        "          labels = labels.to(device=device, dtype=torch.long)\n",
        "          outputs = model(inputs)\n",
        "          accuracy = torch.mean((torch.argmax(outputs, dim=-1).flatten() == labels.flatten()).float())\n",
        "          val_acc.append(accuracy.item())\n",
        "    model.train()\n",
        "\n",
        "    all_val_acc.append(np.mean(val_acc))\n",
        "    # Save best model\n",
        "    if np.mean(val_acc) > best_val_acc:\n",
        "        best_val_acc = np.mean(val_acc)\n",
        "\n",
        "    epoch_iterator.set_postfix(val_acc=np.mean(val_acc), best_val_acc=best_val_acc)\n",
        "\n",
        "\n",
        "plt.plot(losses)\n",
        "plt.title('Train Loss')\n",
        "plt.figure()\n",
        "plt.plot(train_acc)\n",
        "plt.title('Train Accuracy')\n",
        "plt.figure()\n",
        "plt.plot(all_val_acc)\n",
        "plt.title('Val Accuracy')\n",
        "torch.cuda.empty_cache()"
      ]
    },
    {
      "cell_type": "markdown",
      "metadata": {
        "id": "rhYQpOhhANSY"
      },
      "source": [
        "some visualization of the attention matrix"
      ]
    },
    {
      "cell_type": "code",
      "execution_count": null,
      "metadata": {
        "id": "p5gQrJJBAL9d"
      },
      "outputs": [],
      "source": [
        "def visualize_bitxor_attn(model, input_bits, n_layer=0):\n",
        "  model.output_attentions = True\n",
        "  input_bits_t = torch.tensor(input_bits).type(torch.long)\n",
        "  if len(input_bits_t.shape) < 2:\n",
        "    input_bits_t = input_bits_t.unsqueeze(0)\n",
        "  \n",
        "  pred = model(input_bits_t.to(device))\n",
        "  pred = torch.argmax(pred, dim=-1).squeeze(0).cpu().numpy()\n",
        "  attentions = model.attn_output[n_layer].squeeze(0)  # first layer, first in batch\n",
        "  mean_attentions = attentions.mean(dim=0)           # take the mean over heads\n",
        "  mean_attentions = mean_attentions.detach().cpu().numpy()\n",
        "\n",
        "  n_bit = int(input_bits_t.shape[-1]/2)\n",
        "  plt.xlabel('Input Tokens', size=16)\n",
        "  plt.xticks(range(n_bit * 2), input_bits)\n",
        "  plt.ylabel('Output Tokens', size=16)\n",
        "  plt.yticks(range(n_bit * 2), ['*'] * n_bit + list(pred))\n",
        "  plt.title(f'attention map of layer {n_layer}')\n",
        "\n",
        "  plt.imshow(mean_attentions)\n"
      ]
    },
    {
      "cell_type": "code",
      "execution_count": null,
      "metadata": {
        "colab": {
          "base_uri": "https://localhost:8080/",
          "height": 496
        },
        "id": "BJim89TfDEFz",
        "outputId": "c0cd388b-43b6-441d-b537-d6b2ee6ca1d6"
      },
      "outputs": [
        {
          "name": "stdout",
          "output_type": "stream",
          "text": [
            "correct out:  [1, 1, 1, 0, 0, 1, 1, 0]\n"
          ]
        },
        {
          "data": {
            "image/png": "[encoded data removed]",
            "text/plain": [
              "<Figure size 640x480 with 1 Axes>"
            ]
          },
          "metadata": {},
          "output_type": "display_data"
        }
      ],
      "source": [
        "input_bits = [\n",
        "    1, 1, 0, 1, 1, 0, 1, 1,\n",
        "    0, 0, 1, 1, 1, 1, 0, 1\n",
        "]\n",
        "ground_truth = [i ^ j for i, j in zip(input_bits[:8], input_bits[8:])]\n",
        "print('correct out: ', ground_truth)\n",
        "visualize_bitxor_attn(model, input_bits, n_layer=11)"
      ]
    },
    {
      "cell_type": "markdown",
      "metadata": {
        "id": "05e7qBQMZJd9"
      },
      "source": [
        "Here, in the final plots of training and testing accuracy, you should see GPT-2 achieve a extremely good result."
      ]
    },
    {
      "cell_type": "markdown",
      "metadata": {
        "id": "m9lOF9h3ZJd9"
      },
      "source": [
        "#### Task 4: Bit Memory"
      ]
    },
    {
      "cell_type": "markdown",
      "metadata": {
        "id": "fzD2BpvyZJd9"
      },
      "source": [
        "In this part, we train on bit memory. In particular, this task is that we have 5 bit strings and have one of them being half masked. The model should judge what is the original bit string from the five."
      ]
    },
    {
      "cell_type": "markdown",
      "metadata": {
        "id": "_Za2yMeBZJd9"
      },
      "source": [
        "Let's create dataset first. "
      ]
    },
    {
      "cell_type": "code",
      "execution_count": null,
      "metadata": {
        "id": "W_c-3D9HZJd-"
      },
      "outputs": [],
      "source": [
        "class BitMemoryDataset(torch.utils.data.Dataset):\n",
        "  def __init__(self,bit_length =1000, num_patterns=5, size = 100):\n",
        "    self.bit_length = bit_length\n",
        "    self.num_patterns = num_patterns\n",
        "    self.size = size\n",
        "\n",
        "  def __len__(self):\n",
        "    return self.size\n",
        "\n",
        "  def __getitem__(self, idx):\n",
        "    bits = np.random.randint(low=0, high=2, size=(1, self.num_patterns, self.bit_length))\n",
        "    bits = 2 * bits - 1\n",
        "    query_inds = np.random.randint(low=0, high=self.num_patterns, size=1)\n",
        "    query_bits = bits[range(1), query_inds]\n",
        "    mask = np.random.randint(low=1, high=2, size=query_bits.shape)\n",
        "    masked_query_bits = mask * query_bits\n",
        "    masked_query_bits = masked_query_bits.reshape(1, 1, self.bit_length)\n",
        "    x = np.concatenate([bits, masked_query_bits], axis=1)\n",
        "    y = query_bits\n",
        "\n",
        "    return torch.tensor(x, dtype=torch.float32).squeeze(), torch.tensor(y, dtype=torch.long).squeeze()\n",
        "\n",
        "\n",
        "\n",
        "def generate_data_loaders(size = 100,bit_length = 1000, batch_size = 1, train_size=0.8):\n",
        "  dataset = BitMemoryDataset(bit_length = bit_length, size=size)\n",
        "  train_size = int(train_size * len(dataset))\n",
        "  test_size = len(dataset) - train_size\n",
        "  train_dataset, test_dataset = torch.utils.data.random_split(dataset, [train_size, test_size])\n",
        "\n",
        "  train_loader = torch.utils.data.DataLoader(train_dataset, batch_size=batch_size, shuffle=True)\n",
        "  test_loader = torch.utils.data.DataLoader(test_dataset, batch_size=batch_size, shuffle=False)\n",
        "\n",
        "  return train_loader, test_loader"
      ]
    },
    {
      "cell_type": "markdown",
      "metadata": {
        "id": "LxYPVJ3wZJd-"
      },
      "source": [
        "As before, load the pretrained model and freeze necessary part."
      ]
    },
    {
      "cell_type": "code",
      "execution_count": null,
      "metadata": {
        "id": "YhkeRnCTZJd-"
      },
      "outputs": [],
      "source": [
        "# load the GP2 model\n",
        "gpt2 = GPT2Model.from_pretrained('gpt2')"
      ]
    },
    {
      "cell_type": "code",
      "execution_count": null,
      "metadata": {
        "id": "9AhwNE8UZJd-",
        "outputId": "b1c6feeb-d8e2-4ffc-a3fc-fba57b8e6f5a"
      },
      "outputs": [
        {
          "name": "stdout",
          "output_type": "stream",
          "text": [
            "wte.weight\n",
            "wpe.weight\n",
            "h.0.ln_1.weight\n",
            "h.0.ln_1.bias\n",
            "h.0.attn.c_attn.weight\n",
            "h.0.attn.c_attn.bias\n",
            "h.0.attn.c_proj.weight\n",
            "h.0.attn.c_proj.bias\n",
            "h.0.ln_2.weight\n",
            "h.0.ln_2.bias\n",
            "h.0.mlp.c_fc.weight\n",
            "h.0.mlp.c_fc.bias\n",
            "h.0.mlp.c_proj.weight\n",
            "h.0.mlp.c_proj.bias\n",
            "h.1.ln_1.weight\n",
            "h.1.ln_1.bias\n",
            "h.1.attn.c_attn.weight\n",
            "h.1.attn.c_attn.bias\n",
            "h.1.attn.c_proj.weight\n",
            "h.1.attn.c_proj.bias\n",
            "h.1.ln_2.weight\n",
            "h.1.ln_2.bias\n",
            "h.1.mlp.c_fc.weight\n",
            "h.1.mlp.c_fc.bias\n",
            "h.1.mlp.c_proj.weight\n",
            "h.1.mlp.c_proj.bias\n",
            "h.2.ln_1.weight\n",
            "h.2.ln_1.bias\n",
            "h.2.attn.c_attn.weight\n",
            "h.2.attn.c_attn.bias\n",
            "h.2.attn.c_proj.weight\n",
            "h.2.attn.c_proj.bias\n",
            "h.2.ln_2.weight\n",
            "h.2.ln_2.bias\n",
            "h.2.mlp.c_fc.weight\n",
            "h.2.mlp.c_fc.bias\n",
            "h.2.mlp.c_proj.weight\n",
            "h.2.mlp.c_proj.bias\n",
            "h.3.ln_1.weight\n",
            "h.3.ln_1.bias\n",
            "h.3.attn.c_attn.weight\n",
            "h.3.attn.c_attn.bias\n",
            "h.3.attn.c_proj.weight\n",
            "h.3.attn.c_proj.bias\n",
            "h.3.ln_2.weight\n",
            "h.3.ln_2.bias\n",
            "h.3.mlp.c_fc.weight\n",
            "h.3.mlp.c_fc.bias\n",
            "h.3.mlp.c_proj.weight\n",
            "h.3.mlp.c_proj.bias\n",
            "h.4.ln_1.weight\n",
            "h.4.ln_1.bias\n",
            "h.4.attn.c_attn.weight\n",
            "h.4.attn.c_attn.bias\n",
            "h.4.attn.c_proj.weight\n",
            "h.4.attn.c_proj.bias\n",
            "h.4.ln_2.weight\n",
            "h.4.ln_2.bias\n",
            "h.4.mlp.c_fc.weight\n",
            "h.4.mlp.c_fc.bias\n",
            "h.4.mlp.c_proj.weight\n",
            "h.4.mlp.c_proj.bias\n",
            "h.5.ln_1.weight\n",
            "h.5.ln_1.bias\n",
            "h.5.attn.c_attn.weight\n",
            "h.5.attn.c_attn.bias\n",
            "h.5.attn.c_proj.weight\n",
            "h.5.attn.c_proj.bias\n",
            "h.5.ln_2.weight\n",
            "h.5.ln_2.bias\n",
            "h.5.mlp.c_fc.weight\n",
            "h.5.mlp.c_fc.bias\n",
            "h.5.mlp.c_proj.weight\n",
            "h.5.mlp.c_proj.bias\n",
            "h.6.ln_1.weight\n",
            "h.6.ln_1.bias\n",
            "h.6.attn.c_attn.weight\n",
            "h.6.attn.c_attn.bias\n",
            "h.6.attn.c_proj.weight\n",
            "h.6.attn.c_proj.bias\n",
            "h.6.ln_2.weight\n",
            "h.6.ln_2.bias\n",
            "h.6.mlp.c_fc.weight\n",
            "h.6.mlp.c_fc.bias\n",
            "h.6.mlp.c_proj.weight\n",
            "h.6.mlp.c_proj.bias\n",
            "h.7.ln_1.weight\n",
            "h.7.ln_1.bias\n",
            "h.7.attn.c_attn.weight\n",
            "h.7.attn.c_attn.bias\n",
            "h.7.attn.c_proj.weight\n",
            "h.7.attn.c_proj.bias\n",
            "h.7.ln_2.weight\n",
            "h.7.ln_2.bias\n",
            "h.7.mlp.c_fc.weight\n",
            "h.7.mlp.c_fc.bias\n",
            "h.7.mlp.c_proj.weight\n",
            "h.7.mlp.c_proj.bias\n",
            "h.8.ln_1.weight\n",
            "h.8.ln_1.bias\n",
            "h.8.attn.c_attn.weight\n",
            "h.8.attn.c_attn.bias\n",
            "h.8.attn.c_proj.weight\n",
            "h.8.attn.c_proj.bias\n",
            "h.8.ln_2.weight\n",
            "h.8.ln_2.bias\n",
            "h.8.mlp.c_fc.weight\n",
            "h.8.mlp.c_fc.bias\n",
            "h.8.mlp.c_proj.weight\n",
            "h.8.mlp.c_proj.bias\n",
            "h.9.ln_1.weight\n",
            "h.9.ln_1.bias\n",
            "h.9.attn.c_attn.weight\n",
            "h.9.attn.c_attn.bias\n",
            "h.9.attn.c_proj.weight\n",
            "h.9.attn.c_proj.bias\n",
            "h.9.ln_2.weight\n",
            "h.9.ln_2.bias\n",
            "h.9.mlp.c_fc.weight\n",
            "h.9.mlp.c_fc.bias\n",
            "h.9.mlp.c_proj.weight\n",
            "h.9.mlp.c_proj.bias\n",
            "h.10.ln_1.weight\n",
            "h.10.ln_1.bias\n",
            "h.10.attn.c_attn.weight\n",
            "h.10.attn.c_attn.bias\n",
            "h.10.attn.c_proj.weight\n",
            "h.10.attn.c_proj.bias\n",
            "h.10.ln_2.weight\n",
            "h.10.ln_2.bias\n",
            "h.10.mlp.c_fc.weight\n",
            "h.10.mlp.c_fc.bias\n",
            "h.10.mlp.c_proj.weight\n",
            "h.10.mlp.c_proj.bias\n",
            "h.11.ln_1.weight\n",
            "h.11.ln_1.bias\n",
            "h.11.attn.c_attn.weight\n",
            "h.11.attn.c_attn.bias\n",
            "h.11.attn.c_proj.weight\n",
            "h.11.attn.c_proj.bias\n",
            "h.11.ln_2.weight\n",
            "h.11.ln_2.bias\n",
            "h.11.mlp.c_fc.weight\n",
            "h.11.mlp.c_fc.bias\n",
            "h.11.mlp.c_proj.weight\n",
            "h.11.mlp.c_proj.bias\n",
            "ln_f.weight\n",
            "ln_f.bias\n"
          ]
        }
      ],
      "source": [
        "# show the name of all the para your are able to modified in this model\n",
        "for name, param in gpt2.named_parameters():\n",
        "  print(name)"
      ]
    },
    {
      "cell_type": "code",
      "execution_count": null,
      "metadata": {
        "id": "1vAyxGn1ZJd-"
      },
      "outputs": [],
      "source": [
        "for name, param in gpt2.named_parameters():\n",
        "# freeze all parameters except the layernorm and positional embeddings \n",
        "  if 'ln' in name or 'wpe' in name:\n",
        "    param.requires_grad = True \n",
        "  else:\n",
        "    param.requires_grad = False"
      ]
    },
    {
      "cell_type": "markdown",
      "metadata": {
        "id": "AZEMFEgDZJd-"
      },
      "source": [
        "Design and train your own network using pretrained GPT2 model as universal computational engine. You need to design\n",
        "\n",
        "*   An input embedding layer, which projects your input to accommodate GPT2 input demension\n",
        "\n",
        "*   An output Linear layer and loss function"
      ]
    },
    {
      "cell_type": "code",
      "execution_count": null,
      "metadata": {
        "id": "4yUqah1rZJd-"
      },
      "outputs": [],
      "source": [
        "class Bit_Memory_transformer(nn.Module):\n",
        "  def __init__(self, engine,input_dim, engine_embed_dim, n_class, patch_size):\n",
        "    super().__init__()\n",
        "    self.input_dim = input_dim\n",
        "    self.output_dim = n_class\n",
        "    self.input_embed = nn.Linear(input_dim, engine_embed_dim)\n",
        "    self.engine = engine\n",
        "    self.output_layer = nn.Linear(engine_embed_dim, n_class)\n",
        "  def forward(self, x):\n",
        "        orig_dim = x.shape[-1]\n",
        "        ratio = orig_dim // self.input_dim\n",
        "        x = x.reshape(x.shape[0], x.shape[1] * ratio, self.input_dim)\n",
        "        flattened_input = x.view(-1, 50)\n",
        "\n",
        "        x = self.input_embed(flattened_input)\n",
        "        \n",
        "        x = self.engine(inputs_embeds = x.unsqueeze(0)).last_hidden_state\n",
        "        x = x[:,-ratio:]\n",
        "        x = self.output_layer(x)\n",
        "\n",
        "        x = x.reshape(x.shape[0], x.shape[1] // ratio, ratio * self.output_dim)\n",
        "        return x\n",
        "        \n",
        "\n",
        "    "
      ]
    },
    {
      "cell_type": "code",
      "execution_count": null,
      "metadata": {
        "id": "HE7RkyLSZJd_"
      },
      "outputs": [],
      "source": [
        "ce_loss = torch.nn.CrossEntropyLoss()\n",
        "def loss_fn(out, y, x=None, bit_length = 1000):\n",
        "  out = torch.reshape(out, (-1, bit_length, 2))\n",
        "  ids = torch.zeros(y.shape).to(device=y.device).long()\n",
        "  ids[y < 0], ids[y > 0] = 0, 1\n",
        "  out, ids = torch.reshape(out, (-1, 2)), torch.reshape(ids, (-1,))\n",
        "  return ce_loss(out, ids)\n",
        "\n",
        "def accuracy_fn(preds, true, x=None, bit_length = 1000):\n",
        "        preds = preds.reshape(-1, bit_length, 2).argmax(-1) * 2 - 1\n",
        "        return (np.sign(preds) == np.sign(true)).mean()\n",
        "\n",
        "def get_loss(x,y,bit_length ,return_acc = True):\n",
        "  out = model(x)\n",
        "  loss = loss_fn(out, y, x=x, bit_length = bit_length)\n",
        "  accs = accuracy_fn(\n",
        "                out.detach().cpu().numpy(),\n",
        "                y.detach().cpu().numpy(),\n",
        "                x=x.detach().cpu().numpy(),\n",
        "                bit_length = bit_length\n",
        "            )\n",
        "  return loss, accs"
      ]
    },
    {
      "cell_type": "code",
      "execution_count": null,
      "metadata": {
        "id": "35_gULUrZJd_"
      },
      "outputs": [],
      "source": [
        "model = Bit_Memory_transformer(\n",
        "    gpt2, \n",
        "    input_dim = 50, \n",
        "    engine_embed_dim = 768,\n",
        "    n_class= 2*50,\n",
        "    patch_size = 50\n",
        ")\n"
      ]
    },
    {
      "cell_type": "code",
      "execution_count": null,
      "metadata": {
        "colab": {
          "referenced_widgets": [
            "4bc53a019eb44bb4aac72ae3c5e4774c",
            "65f5167220f745a4b014dc780fdd5392",
            "77f96ecc3a744dc78e5b11a2b6aab17f"
          ]
        },
        "id": "u2PccfdCZJd_",
        "outputId": "c0639f6a-88e9-4108-b159-0de41c552d8f"
      },
      "outputs": [
        {
          "data": {
            "application/vnd.jupyter.widget-view+json": {
              "model_id": "4bc53a019eb44bb4aac72ae3c5e4774c",
              "version_major": 2,
              "version_minor": 0
            },
            "text/plain": [
              "  0%|          | 0/2 [00:00<?, ?it/s]"
            ]
          },
          "metadata": {},
          "output_type": "display_data"
        },
        {
          "data": {
            "application/vnd.jupyter.widget-view+json": {
              "model_id": "65f5167220f745a4b014dc780fdd5392",
              "version_major": 2,
              "version_minor": 0
            },
            "text/plain": [
              "  0%|          | 0/80 [00:00<?, ?it/s]"
            ]
          },
          "metadata": {},
          "output_type": "display_data"
        },
        {
          "data": {
            "application/vnd.jupyter.widget-view+json": {
              "model_id": "77f96ecc3a744dc78e5b11a2b6aab17f",
              "version_major": 2,
              "version_minor": 0
            },
            "text/plain": [
              "  0%|          | 0/80 [00:00<?, ?it/s]"
            ]
          },
          "metadata": {},
          "output_type": "display_data"
        },
        {
          "data": {
            "text/plain": [
              "Text(0.5, 1.0, 'Val Accuracy')"
            ]
          },
          "execution_count": 82,
          "metadata": {},
          "output_type": "execute_result"
        },
        {
          "data": {
            "image/png": "[encoded data removed]",
            "text/plain": [
              "<Figure size 432x288 with 1 Axes>"
            ]
          },
          "metadata": {
            "needs_background": "light"
          },
          "output_type": "display_data"
        },
        {
          "data": {
            "image/png": "[encoded data removed]",
            "text/plain": [
              "<Figure size 432x288 with 1 Axes>"
            ]
          },
          "metadata": {
            "needs_background": "light"
          },
          "output_type": "display_data"
        },
        {
          "data": {
            "image/png": "[encoded data removed]",
            "text/plain": [
              "<Figure size 432x288 with 1 Axes>"
            ]
          },
          "metadata": {
            "needs_background": "light"
          },
          "output_type": "display_data"
        }
      ],
      "source": [
        "bit_length = 1000\n",
        "data_size = 100\n",
        "\n",
        "train_loader, test_loader = generate_data_loaders(bit_length = bit_length, size = data_size, batch_size=1, train_size=0.8)\n",
        "\n",
        "# define the optimizer and loss\n",
        "optimizer = torch.optim.Adam(model.parameters(), lr=0.001)\n",
        "\n",
        "losses = []\n",
        "train_acc = []\n",
        "all_val_acc = []\n",
        "best_val_acc = 0\n",
        "num_epochs = 2\n",
        "\n",
        "epoch_iterator = trange(num_epochs)\n",
        "for epoch in epoch_iterator:\n",
        "    # Training loop\n",
        "    data_iterator = tqdm(train_loader)\n",
        "    for i, (inputs, labels) in enumerate(data_iterator):\n",
        "      loss, acc = get_loss(inputs, labels,bit_length, return_acc=True)\n",
        "      loss.backward()\n",
        "      optimizer.step()\n",
        "      optimizer.zero_grad()\n",
        "\n",
        "      data_iterator.set_postfix(loss=loss.item())\n",
        "\n",
        "      if (i + 1) % 10 == 0:\n",
        "            losses.append(loss.item())\n",
        "            train_acc.append(acc.item())\n",
        "\n",
        "    # validation loop\n",
        "    val_acc = []\n",
        "    model.eval()\n",
        "    with torch.no_grad():\n",
        "      for inputs, labels in test_loader:\n",
        "        loss, acc = get_loss(inputs, labels,bit_length, return_acc=True)\n",
        "        val_acc.append(acc.item())\n",
        "    model.train()\n",
        "\n",
        "    all_val_acc.append(np.mean(val_acc))\n",
        "    # Save best model\n",
        "    if np.mean(val_acc) > best_val_acc:\n",
        "        best_val_acc = np.mean(val_acc)\n",
        "\n",
        "    epoch_iterator.set_postfix(val_acc=np.mean(val_acc), best_val_acc=best_val_acc)\n",
        "\n",
        "plt.plot(losses)\n",
        "plt.title('Train Loss')\n",
        "plt.figure()\n",
        "plt.plot(train_acc)\n",
        "plt.title('Train Accuracy')\n",
        "plt.figure()\n",
        "plt.plot(all_val_acc)\n",
        "plt.title('Val Accuracy')"
      ]
    },
    {
      "cell_type": "markdown",
      "metadata": {
        "id": "vrWPH0GHZJd_"
      },
      "source": [
        "#### Task 3: Image classfication"
      ]
    },
    {
      "cell_type": "markdown",
      "metadata": {
        "id": "1QGln5_nZJd_"
      },
      "source": [
        "For sure the last task is quite simple and may not so convincing to show the generality of GPT-2. Now we move to a more complex domain, image classfication. We will do the task on the famous hand-written dataset MNIST and reach a good result"
      ]
    },
    {
      "cell_type": "markdown",
      "metadata": {
        "id": "aBYMiRukZJd_"
      },
      "source": [
        "Still, we need to freeze some parameters in GPT-2 first."
      ]
    },
    {
      "cell_type": "code",
      "execution_count": 2,
      "metadata": {
        "id": "TZNClCngZJd_"
      },
      "outputs": [],
      "source": [
        "# A function freeze necessary parameters in GPT-2\n",
        "def gpt2_freezer(\n",
        "    model,                         \n",
        "    freeze_param_list: List[str] = None\n",
        "):\n",
        "  for (name, param) in model.named_parameters():\n",
        "    if freeze_param_list is not None:\n",
        "      if any([k in name for k in freeze_param_list]):\n",
        "        param.requires_grad = False\n",
        "    else:\n",
        "      param.requires_grad = False\n",
        "  return model"
      ]
    },
    {
      "cell_type": "code",
      "execution_count": 3,
      "metadata": {
        "id": "_6taSfX4ZJd_"
      },
      "outputs": [],
      "source": [
        "pretrained_gpt2 = GPT2Model.from_pretrained('gpt2') \n",
        "gpt2_engine = gpt2_freezer(\n",
        "    pretrained_gpt2,\n",
        "    freeze_param_list = [\"mlp\", \"attn\"]\n",
        "  )"
      ]
    },
    {
      "cell_type": "markdown",
      "metadata": {
        "id": "20Mvh2vSZJeA"
      },
      "source": [
        "Then, since the image is too large for to input, we need to patchify the image"
      ]
    },
    {
      "cell_type": "code",
      "execution_count": 4,
      "metadata": {
        "colab": {
          "base_uri": "https://localhost:8080/",
          "height": 241
        },
        "id": "_Awb1FniZJeA",
        "outputId": "27d5d606-c736-483a-ba06-34640cb01f5c"
      },
      "outputs": [
        {
          "data": {
            "image/png": "[encoded data removed]",
            "text/plain": [
              "<PIL.Image.Image image mode=RGBA size=224x224>"
            ]
          },
          "execution_count": 4,
          "metadata": {},
          "output_type": "execute_result"
        }
      ],
      "source": [
        "def tensor2PIL(tensor: torch.Tensor):\n",
        "    return transforms.ToPILImage()(tensor)\n",
        "\n",
        "def display_patches(\n",
        "    patches: torch.Tensor,\n",
        "    n_patch: int\n",
        "):\n",
        "    \n",
        "    fig, axes = plt.subplots(n_patch, n_patch)\n",
        "    for i in range(n_patch):\n",
        "        for j in range(n_patch):\n",
        "            patch = patches[i*n_patch + j,:]\n",
        "            axes[i][j].imshow(tensor2PIL(patch))\n",
        "            axes[i][j].axis('off')\n",
        "            \n",
        "    plt.show()\n",
        "\n",
        "\n",
        "def patchify(\n",
        "    img: torch.Tensor,\n",
        "    n_patch: int) -> torch.Tensor:\n",
        "    \n",
        "    b, c, h, w = img.shape\n",
        "    patch_h = h // n_patch\n",
        "    patch_w = w // n_patch\n",
        "    patches = img.unfold(-1, patch_h, patch_h) \\\n",
        "                 .permute(0, 3, 1, 4, 2) \\\n",
        "                 .unfold(-1, patch_w, patch_w) \\\n",
        "                 .permute(0, 4, 1, 2, 5, 3)\n",
        "    patches = torch.reshape(patches, (b, n_patch * n_patch, c, patch_h, patch_w,))\n",
        "                 \n",
        "    \n",
        "    return patches\n",
        "lenna = \"https://i.stack.imgur.com/XKUT9.png\"\n",
        "img = Image.open(requests.get(lenna, stream=True).raw).resize((224, 224))\n",
        "img"
      ]
    },
    {
      "cell_type": "code",
      "execution_count": 13,
      "metadata": {
        "colab": {
          "base_uri": "https://localhost:8080/",
          "height": 406
        },
        "id": "T0EzGVPrZJeA",
        "outputId": "7294eb9b-9237-4992-feb0-972de14da13a"
      },
      "outputs": [
        {
          "ename": "",
          "evalue": "",
          "output_type": "error",
          "traceback": [
            "\u001b[1;31mCanceled future for execute_request message before replies were done"
          ]
        },
        {
          "ename": "",
          "evalue": "",
          "output_type": "error",
          "traceback": [
            "\u001b[1;31mThe Kernel crashed while executing code in the the current cell or a previous cell. Please review the code in the cell(s) to identify a possible cause of the failure. Click <a href='https://aka.ms/vscodeJupyterKernelCrash'>here</a> for more info. View Jupyter <a href='command:jupyter.viewOutput'>log</a> for further details."
          ]
        }
      ],
      "source": [
        "# test if patchfy works correctly\n",
        "\n",
        "transform = transforms.PILToTensor()\n",
        "img = transform(img)\n",
        "patches = patchify(img.unsqueeze(0), 4)\n",
        "display_patches(patches[0], 4)"
      ]
    },
    {
      "cell_type": "markdown",
      "metadata": {
        "id": "AMzGXheJZJeA"
      },
      "source": [
        "Here, some prepocessing"
      ]
    },
    {
      "cell_type": "code",
      "execution_count": 12,
      "metadata": {
        "id": "G9gPUr7lZJeA"
      },
      "outputs": [],
      "source": [
        "img_size = (28, 28)\n",
        "batch_size = 32\n",
        "transform = transforms.Compose([\n",
        "      transforms.Resize(img_size),\n",
        "      transforms.ToTensor(),\n",
        "      transforms.Normalize((0.1307,), (0.3081,))\n",
        "      ])\n",
        "dataset = torchvision.datasets.MNIST('./data', train=True, download=True,\n",
        "                    transform=transform)\n",
        "\n",
        "train_val_split = 0.8\n",
        "train_size = int(train_val_split * len(dataset))\n",
        "val_size = len(dataset) - train_size\n",
        "train_dataset, val_dataset = torch.utils.data.random_split(dataset, [train_size, val_size])\n",
        "\n",
        "train_dataloader = torch.utils.data.DataLoader(train_dataset, batch_size=batch_size,\n",
        "                                          shuffle=True, num_workers=2)\n",
        "val_dataloader = torch.utils.data.DataLoader(val_dataset, batch_size=batch_size,\n",
        "                                          shuffle=True, num_workers=2)\n",
        "\n",
        "\n",
        "test_dataset = torchvision.datasets.MNIST('./data', train=False,\n",
        "                      transform=transform)\n",
        "test_dataloader = torch.utils.data.DataLoader(test_dataset, batch_size=batch_size,\n",
        "                                         shuffle=False, num_workers=2)"
      ]
    },
    {
      "cell_type": "markdown",
      "metadata": {
        "id": "8oZPGfxRZJeA"
      },
      "source": [
        "Now, it is time to design and train your own network using pretrained GPT2 model as main computational engine. You need to design\n",
        "  * An input embedding layer, which projects your input to accommodate GPT2 input dimension\n",
        "  * An output Linear layer and loss function"
      ]
    },
    {
      "cell_type": "code",
      "execution_count": 10,
      "metadata": {
        "id": "RmdkEBcRZJeA"
      },
      "outputs": [],
      "source": [
        "class MNIST_clf(nn.Module):\n",
        "  def __init__(self, engine, n_patch, input_dim, engine_embed_dim, n_class=10):\n",
        "    super().__init__()\n",
        "    self.n_patch = n_patch\n",
        "    self.input_flatten = nn.Flatten(start_dim=-3, end_dim=-1)\n",
        "    self.input_embed = nn.Linear(input_dim, engine_embed_dim)\n",
        "    self.cls_token = nn.Parameter(torch.randn(1, 1, engine_embed_dim) * 0.02)\n",
        "    self.engine = engine\n",
        "    self.out = nn.Linear(engine_embed_dim, n_class)\n",
        "    self.attn_output = None\n",
        "  def forward(self, x, output_attentions=False):\n",
        "    x = patchify(x, self.n_patch)\n",
        "    embeds = F.relu(\n",
        "        self.input_embed(self.input_flatten(x))\n",
        "    )\n",
        "    # embeds = torch.concat([embeds, self.cls_token.repeat(B, 1, 1)], dim=-2)\n",
        "\n",
        "    gpt2_output = self.engine(inputs_embeds=embeds, output_attentions=output_attentions)\n",
        "    output = self.out(gpt2_output.last_hidden_state[:,-1])\n",
        "    if output_attentions:\n",
        "      self.attn_output = gpt2_output.attentions\n",
        "    return output"
      ]
    },
    {
      "cell_type": "markdown",
      "metadata": {
        "id": "lTcKNj_WZJeB"
      },
      "source": [
        "To help you better understand what happens in attention layer, here are some visualization functions."
      ]
    },
    {
      "cell_type": "code",
      "execution_count": null,
      "metadata": {
        "id": "phlrOX-fZJeB"
      },
      "outputs": [],
      "source": [
        "def MNIST_unnormalize(x):\n",
        "  return (x * 0.3081 + 0.1307) * 255\n",
        "\n",
        "\n",
        "def logits_with_temp(logits, temp=0.2):\n",
        "  logits = torch.exp(logits/temp)\n",
        "  logits = logits / torch.sum(logits)\n",
        "  return logits\n",
        "\n",
        "def visualize_attn_on_image(img, model, mode='last_embed'):\n",
        "  '''\n",
        "      Input: \n",
        "        img   -> normalized img\n",
        "        model -> transformer model to obtain attention map for each layer\n",
        "  '''\n",
        "  # nifty way to check whether model is on cuda\n",
        "  img = img.to(next(model.parameters()).device)\n",
        "\n",
        "  with torch.no_grad():\n",
        "    model(img.unsqueeze(0), output_attentions=True)\n",
        "    attentions = model.attn_output\n",
        "  \n",
        "  attentions = torch.stack([attn.squeeze(0).mean(dim=0) for attn in attentions], dim=0).cpu()\n",
        "\n",
        "  # accounting for residual connnection, then renormalize attention\n",
        "  augmented_attn = attentions + torch.eye(attentions.shape[-1])\n",
        "  augmented_attn = augmented_attn / augmented_attn.sum(dim=-1).unsqueeze(-1)\n",
        "\n",
        "  # rolled_out_attn = torch.eye(augmented_attn.shape[-1])\n",
        "  # for layer_idx in range(augmented_attn.shape[0]):\n",
        "  #   rolled_out_attn = augmented_attn[layer_idx] @ rolled_out_attn\n",
        "\n",
        "  mask = logits_with_temp(augmented_attn[-1,-1], 0.3) \\\n",
        "         .reshape(4, -1)\n",
        "\n",
        "  mask = np.ascontiguousarray(\n",
        "      (mask/mask.max()).detach().numpy()\n",
        "  )\n",
        "  mask = cv2.resize(mask, (28, 28))\n",
        "\n",
        "  img = MNIST_unnormalize(\n",
        "      img.squeeze(0).cpu().detach().numpy()\n",
        "  )\n",
        "  return (img * mask).astype('uint8')\n",
        "\n",
        "def display_MNIST_with_attn(img_batch, model, img_size=(16,16)):\n",
        "  n = img_batch.shape[0]\n",
        "  fig, axs = plt.subplots(nrows=n, ncols=2, figsize=img_size)\n",
        "\n",
        "  axs[0, 0].set_title('Original')\n",
        "  axs[0, 1].set_title('Attention Map')\n",
        "  for i, img in enumerate(img_batch):\n",
        "\n",
        "    attn_map = visualize_attn_on_image(\n",
        "        img, \n",
        "        model\n",
        "    )\n",
        "    img = MNIST_unnormalize(img).squeeze(0).cpu().numpy().astype('uint8')\n",
        "\n",
        "    axs[i, 0].imshow(img)\n",
        "    axs[i, 1].imshow(attn_map)\n",
        "  fig.tight_layout()\n"
      ]
    },
    {
      "cell_type": "code",
      "execution_count": null,
      "metadata": {
        "colab": {
          "base_uri": "https://localhost:8080/"
        },
        "id": "YaBeQ64aZJeB",
        "outputId": "805e6cb4-5a41-496c-aa29-97219eb833d8"
      },
      "outputs": [
        {
          "data": {
            "text/plain": [
              "True"
            ]
          },
          "execution_count": 84,
          "metadata": {},
          "output_type": "execute_result"
        }
      ],
      "source": [
        "torch.cuda.is_available()"
      ]
    },
    {
      "cell_type": "markdown",
      "metadata": {
        "id": "3oySIdLUZJeB"
      },
      "source": [
        "First, we check how's the prediction result before training"
      ]
    },
    {
      "cell_type": "code",
      "execution_count": 13,
      "metadata": {
        "colab": {
          "base_uri": "https://localhost:8080/"
        },
        "id": "bhflf6C9ZJeB",
        "outputId": "0ff3c44f-eb25-45b4-dd20-d4c887d87a46"
      },
      "outputs": [
        {
          "name": "stdout",
          "output_type": "stream",
          "text": [
            "Accuracy: 9.75%\n"
          ]
        }
      ],
      "source": [
        "assert torch.cuda.is_available()\n",
        "device = torch.device('cuda')\n",
        "model = MNIST_clf(\n",
        "    gpt2_engine, \n",
        "    n_patch = 4,\n",
        "    input_dim = 49, \n",
        "    engine_embed_dim = 768\n",
        ").to(device)\n",
        "\n",
        "model = model.to(device)\n",
        "\n",
        "acc = 0\n",
        "model.eval()\n",
        "for i, data in enumerate(test_dataloader):\n",
        "  inputs, labels = data\n",
        "  inputs = inputs.to(device); labels = labels.to(device)\n",
        "  with torch.no_grad():\n",
        "    pred = model(inputs).argmax(-1)\n",
        "    acc += sum(pred == labels)\n",
        "\n",
        "print(\"Accuracy: {:.2f}%\".format(100 * acc/len(test_dataloader.dataset)))"
      ]
    },
    {
      "cell_type": "markdown",
      "metadata": {
        "id": "rXB0fXE8ZJeB"
      },
      "source": [
        "Then, treat the GPT2 as a main computation engine and do the training"
      ]
    },
    {
      "cell_type": "code",
      "execution_count": 14,
      "metadata": {
        "colab": {
          "base_uri": "https://localhost:8080/",
          "height": 145,
          "referenced_widgets": [
            "e004699e6e0d46328eb51e5355231caf",
            "9ef45bb9f7f9452085ab9ddc0b93cda4",
            "25b764e1987d4d4c838c1c906e9432a2",
            "08de2ffee3ba4c7c916fec1af7f3daca",
            "84ffc7946e0a4c1da5f1ad01f3077ffc",
            "f188aff25f2a433ea126fb6b64322be4",
            "59d7aaf0304d4b4f890768223a45b3b9",
            "4e067eaed661446da131e6dded5f1249",
            "06f7287861f74a55898fd93c76ad5e98",
            "816da4867c1149c8bead35d2d84c9a65",
            "aa243c7b446a4fb983a1a74a8d558396",
            "538695fe9eb54f44aea3c35505c7f0ab",
            "1abc358a6274423e95474ced97f473a0",
            "e23b5257e6ad43aba551376fd5e8a287",
            "63aee226c0d74ad5b81ab19221a99e1e",
            "464b3c8e5d3a4e02ac019bd12c9202ba",
            "0577080e7e824c9cab25b77af1ec6670",
            "07fa8d3be5c148d4addba6906f341614",
            "971166d8d778495abf24ec3a7badfaf4",
            "616647b4c43a4e82a3db32a5fd6dd49c",
            "fd294eba64fb456ea236a7cc2514f6bd",
            "6caaec24b5ac4a27ac0b7bdbd0d5a446",
            "a520f01c551c446f9141f6efbe3d8515",
            "a6438c7f750c49b08cb720ae6c2e40dd",
            "0c552c813a3b4dc0a5bb35a037941af4",
            "b58225fb8c5c4e5f9be7a8523e9a4757",
            "4db9aeefcaa64f5891044109a3a12d39",
            "b878181f55f8476d9d2ea7276623b55c",
            "e0c109d2113d4338aedd7aeb1a439d53",
            "aa87888f52274c089087f367a95fec99",
            "dc49084231aa4c2ca4e68a2b142b503a",
            "6ce960a58597429dae8789746e4f9a41",
            "90bfc0192ff34ab1ad48600b50b573e2",
            "4da7f76643634c12a11b0947dcb42bf1",
            "f207b8fc38074d4d9b95cc06cc9d14a8",
            "bf3ed18ac1da40a0ab360224849138ce",
            "37c1f6e3c8c445f1936b8dc7ce1114a1",
            "672e9f840886437e9f94f1ef1c42a81b",
            "b142d3e7f8df429f909da96e528a8d94",
            "eea1fee8cac34dfd9ccc38845a5c9966",
            "df8cb89900e14792bc6f9874fd638353",
            "8cc1a272cfbc44538de9b37cd5f7299d",
            "b2e27757c69740d19427ae9f78b78afd",
            "c16470a55b9f49e68447a3fc4e20cf97"
          ]
        },
        "id": "Y5KJPnEjZJeB",
        "outputId": "e893df35-8bff-43a3-ed34-52be7c50930a"
      },
      "outputs": [
        {
          "data": {
            "application/vnd.jupyter.widget-view+json": {
              "model_id": "74aa09f72b6343ea884a9e480808002d",
              "version_major": 2,
              "version_minor": 0
            },
            "text/plain": [
              "  0%|          | 0/3 [00:00<?, ?it/s]"
            ]
          },
          "metadata": {},
          "output_type": "display_data"
        },
        {
          "data": {
            "application/vnd.jupyter.widget-view+json": {
              "model_id": "cb36373fb5c54b1b9ab8ca6f739ce867",
              "version_major": 2,
              "version_minor": 0
            },
            "text/plain": [
              "  0%|          | 0/1500 [00:00<?, ?it/s]"
            ]
          },
          "metadata": {},
          "output_type": "display_data"
        },
        {
          "ename": "KeyboardInterrupt",
          "evalue": "",
          "output_type": "error",
          "traceback": [
            "\u001b[1;31m---------------------------------------------------------------------------\u001b[0m",
            "\u001b[1;31mKeyboardInterrupt\u001b[0m                         Traceback (most recent call last)",
            "\u001b[1;32mc:\\Users\\47088\\Desktop\\COMPSCI 182\\Project\\upload-ws\\GPT2asGeneralComputationalMachine\\GeneralComputationalMachine.ipynb Cell 77\u001b[0m in \u001b[0;36m<cell line: 18>\u001b[1;34m()\u001b[0m\n\u001b[0;32m     <a href='vscode-notebook-cell:/c%3A/Users/47088/Desktop/COMPSCI%20182/Project/upload-ws/GPT2asGeneralComputationalMachine/GeneralComputationalMachine.ipynb#Y136sZmlsZQ%3D%3D?line=20'>21</a>\u001b[0m \u001b[39m# running_loss = 0.0\u001b[39;00m\n\u001b[0;32m     <a href='vscode-notebook-cell:/c%3A/Users/47088/Desktop/COMPSCI%20182/Project/upload-ws/GPT2asGeneralComputationalMachine/GeneralComputationalMachine.ipynb#Y136sZmlsZQ%3D%3D?line=21'>22</a>\u001b[0m \n\u001b[0;32m     <a href='vscode-notebook-cell:/c%3A/Users/47088/Desktop/COMPSCI%20182/Project/upload-ws/GPT2asGeneralComputationalMachine/GeneralComputationalMachine.ipynb#Y136sZmlsZQ%3D%3D?line=22'>23</a>\u001b[0m \u001b[39m# training loop\u001b[39;00m\n\u001b[0;32m     <a href='vscode-notebook-cell:/c%3A/Users/47088/Desktop/COMPSCI%20182/Project/upload-ws/GPT2asGeneralComputationalMachine/GeneralComputationalMachine.ipynb#Y136sZmlsZQ%3D%3D?line=23'>24</a>\u001b[0m model\u001b[39m.\u001b[39mtrain()\n\u001b[1;32m---> <a href='vscode-notebook-cell:/c%3A/Users/47088/Desktop/COMPSCI%20182/Project/upload-ws/GPT2asGeneralComputationalMachine/GeneralComputationalMachine.ipynb#Y136sZmlsZQ%3D%3D?line=24'>25</a>\u001b[0m \u001b[39mfor\u001b[39;00m i, data \u001b[39min\u001b[39;00m \u001b[39menumerate\u001b[39m(data_iterator):\n\u001b[0;32m     <a href='vscode-notebook-cell:/c%3A/Users/47088/Desktop/COMPSCI%20182/Project/upload-ws/GPT2asGeneralComputationalMachine/GeneralComputationalMachine.ipynb#Y136sZmlsZQ%3D%3D?line=25'>26</a>\u001b[0m     inputs, labels \u001b[39m=\u001b[39m data\n\u001b[0;32m     <a href='vscode-notebook-cell:/c%3A/Users/47088/Desktop/COMPSCI%20182/Project/upload-ws/GPT2asGeneralComputationalMachine/GeneralComputationalMachine.ipynb#Y136sZmlsZQ%3D%3D?line=26'>27</a>\u001b[0m     inputs \u001b[39m=\u001b[39m inputs\u001b[39m.\u001b[39mto(device); labels \u001b[39m=\u001b[39m labels\u001b[39m.\u001b[39mto(device)\n",
            "File \u001b[1;32md:\\miniconda3\\envs\\182cuda\\lib\\site-packages\\tqdm\\notebook.py:258\u001b[0m, in \u001b[0;36mtqdm_notebook.__iter__\u001b[1;34m(self)\u001b[0m\n\u001b[0;32m    256\u001b[0m \u001b[39mtry\u001b[39;00m:\n\u001b[0;32m    257\u001b[0m     it \u001b[39m=\u001b[39m \u001b[39msuper\u001b[39m(tqdm_notebook, \u001b[39mself\u001b[39m)\u001b[39m.\u001b[39m\u001b[39m__iter__\u001b[39m()\n\u001b[1;32m--> 258\u001b[0m     \u001b[39mfor\u001b[39;00m obj \u001b[39min\u001b[39;00m it:\n\u001b[0;32m    259\u001b[0m         \u001b[39m# return super(tqdm...) will not catch exception\u001b[39;00m\n\u001b[0;32m    260\u001b[0m         \u001b[39myield\u001b[39;00m obj\n\u001b[0;32m    261\u001b[0m \u001b[39m# NB: except ... [ as ...] breaks IPython async KeyboardInterrupt\u001b[39;00m\n",
            "File \u001b[1;32md:\\miniconda3\\envs\\182cuda\\lib\\site-packages\\tqdm\\std.py:1195\u001b[0m, in \u001b[0;36mtqdm.__iter__\u001b[1;34m(self)\u001b[0m\n\u001b[0;32m   1192\u001b[0m time \u001b[39m=\u001b[39m \u001b[39mself\u001b[39m\u001b[39m.\u001b[39m_time\n\u001b[0;32m   1194\u001b[0m \u001b[39mtry\u001b[39;00m:\n\u001b[1;32m-> 1195\u001b[0m     \u001b[39mfor\u001b[39;00m obj \u001b[39min\u001b[39;00m iterable:\n\u001b[0;32m   1196\u001b[0m         \u001b[39myield\u001b[39;00m obj\n\u001b[0;32m   1197\u001b[0m         \u001b[39m# Update and possibly print the progressbar.\u001b[39;00m\n\u001b[0;32m   1198\u001b[0m         \u001b[39m# Note: does not call self.update(1) for speed optimisation.\u001b[39;00m\n",
            "File \u001b[1;32md:\\miniconda3\\envs\\182cuda\\lib\\site-packages\\torch\\utils\\data\\dataloader.py:444\u001b[0m, in \u001b[0;36mDataLoader.__iter__\u001b[1;34m(self)\u001b[0m\n\u001b[0;32m    442\u001b[0m     \u001b[39mreturn\u001b[39;00m \u001b[39mself\u001b[39m\u001b[39m.\u001b[39m_iterator\n\u001b[0;32m    443\u001b[0m \u001b[39melse\u001b[39;00m:\n\u001b[1;32m--> 444\u001b[0m     \u001b[39mreturn\u001b[39;00m \u001b[39mself\u001b[39;49m\u001b[39m.\u001b[39;49m_get_iterator()\n",
            "File \u001b[1;32md:\\miniconda3\\envs\\182cuda\\lib\\site-packages\\torch\\utils\\data\\dataloader.py:390\u001b[0m, in \u001b[0;36mDataLoader._get_iterator\u001b[1;34m(self)\u001b[0m\n\u001b[0;32m    388\u001b[0m \u001b[39melse\u001b[39;00m:\n\u001b[0;32m    389\u001b[0m     \u001b[39mself\u001b[39m\u001b[39m.\u001b[39mcheck_worker_number_rationality()\n\u001b[1;32m--> 390\u001b[0m     \u001b[39mreturn\u001b[39;00m _MultiProcessingDataLoaderIter(\u001b[39mself\u001b[39;49m)\n",
            "File \u001b[1;32md:\\miniconda3\\envs\\182cuda\\lib\\site-packages\\torch\\utils\\data\\dataloader.py:1077\u001b[0m, in \u001b[0;36m_MultiProcessingDataLoaderIter.__init__\u001b[1;34m(self, loader)\u001b[0m\n\u001b[0;32m   1070\u001b[0m w\u001b[39m.\u001b[39mdaemon \u001b[39m=\u001b[39m \u001b[39mTrue\u001b[39;00m\n\u001b[0;32m   1071\u001b[0m \u001b[39m# NB: Process.start() actually take some time as it needs to\u001b[39;00m\n\u001b[0;32m   1072\u001b[0m \u001b[39m#     start a process and pass the arguments over via a pipe.\u001b[39;00m\n\u001b[0;32m   1073\u001b[0m \u001b[39m#     Therefore, we only add a worker to self._workers list after\u001b[39;00m\n\u001b[0;32m   1074\u001b[0m \u001b[39m#     it started, so that we do not call .join() if program dies\u001b[39;00m\n\u001b[0;32m   1075\u001b[0m \u001b[39m#     before it starts, and __del__ tries to join but will get:\u001b[39;00m\n\u001b[0;32m   1076\u001b[0m \u001b[39m#     AssertionError: can only join a started process.\u001b[39;00m\n\u001b[1;32m-> 1077\u001b[0m w\u001b[39m.\u001b[39;49mstart()\n\u001b[0;32m   1078\u001b[0m \u001b[39mself\u001b[39m\u001b[39m.\u001b[39m_index_queues\u001b[39m.\u001b[39mappend(index_queue)\n\u001b[0;32m   1079\u001b[0m \u001b[39mself\u001b[39m\u001b[39m.\u001b[39m_workers\u001b[39m.\u001b[39mappend(w)\n",
            "File \u001b[1;32md:\\miniconda3\\envs\\182cuda\\lib\\multiprocessing\\process.py:121\u001b[0m, in \u001b[0;36mBaseProcess.start\u001b[1;34m(self)\u001b[0m\n\u001b[0;32m    118\u001b[0m \u001b[39massert\u001b[39;00m \u001b[39mnot\u001b[39;00m _current_process\u001b[39m.\u001b[39m_config\u001b[39m.\u001b[39mget(\u001b[39m'\u001b[39m\u001b[39mdaemon\u001b[39m\u001b[39m'\u001b[39m), \\\n\u001b[0;32m    119\u001b[0m        \u001b[39m'\u001b[39m\u001b[39mdaemonic processes are not allowed to have children\u001b[39m\u001b[39m'\u001b[39m\n\u001b[0;32m    120\u001b[0m _cleanup()\n\u001b[1;32m--> 121\u001b[0m \u001b[39mself\u001b[39m\u001b[39m.\u001b[39m_popen \u001b[39m=\u001b[39m \u001b[39mself\u001b[39;49m\u001b[39m.\u001b[39;49m_Popen(\u001b[39mself\u001b[39;49m)\n\u001b[0;32m    122\u001b[0m \u001b[39mself\u001b[39m\u001b[39m.\u001b[39m_sentinel \u001b[39m=\u001b[39m \u001b[39mself\u001b[39m\u001b[39m.\u001b[39m_popen\u001b[39m.\u001b[39msentinel\n\u001b[0;32m    123\u001b[0m \u001b[39m# Avoid a refcycle if the target function holds an indirect\u001b[39;00m\n\u001b[0;32m    124\u001b[0m \u001b[39m# reference to the process object (see bpo-30775)\u001b[39;00m\n",
            "File \u001b[1;32md:\\miniconda3\\envs\\182cuda\\lib\\multiprocessing\\context.py:224\u001b[0m, in \u001b[0;36mProcess._Popen\u001b[1;34m(process_obj)\u001b[0m\n\u001b[0;32m    222\u001b[0m \u001b[39m@staticmethod\u001b[39m\n\u001b[0;32m    223\u001b[0m \u001b[39mdef\u001b[39;00m \u001b[39m_Popen\u001b[39m(process_obj):\n\u001b[1;32m--> 224\u001b[0m     \u001b[39mreturn\u001b[39;00m _default_context\u001b[39m.\u001b[39;49mget_context()\u001b[39m.\u001b[39;49mProcess\u001b[39m.\u001b[39;49m_Popen(process_obj)\n",
            "File \u001b[1;32md:\\miniconda3\\envs\\182cuda\\lib\\multiprocessing\\context.py:327\u001b[0m, in \u001b[0;36mSpawnProcess._Popen\u001b[1;34m(process_obj)\u001b[0m\n\u001b[0;32m    324\u001b[0m \u001b[39m@staticmethod\u001b[39m\n\u001b[0;32m    325\u001b[0m \u001b[39mdef\u001b[39;00m \u001b[39m_Popen\u001b[39m(process_obj):\n\u001b[0;32m    326\u001b[0m     \u001b[39mfrom\u001b[39;00m \u001b[39m.\u001b[39;00m\u001b[39mpopen_spawn_win32\u001b[39;00m \u001b[39mimport\u001b[39;00m Popen\n\u001b[1;32m--> 327\u001b[0m     \u001b[39mreturn\u001b[39;00m Popen(process_obj)\n",
            "File \u001b[1;32md:\\miniconda3\\envs\\182cuda\\lib\\multiprocessing\\popen_spawn_win32.py:93\u001b[0m, in \u001b[0;36mPopen.__init__\u001b[1;34m(self, process_obj)\u001b[0m\n\u001b[0;32m     91\u001b[0m \u001b[39mtry\u001b[39;00m:\n\u001b[0;32m     92\u001b[0m     reduction\u001b[39m.\u001b[39mdump(prep_data, to_child)\n\u001b[1;32m---> 93\u001b[0m     reduction\u001b[39m.\u001b[39;49mdump(process_obj, to_child)\n\u001b[0;32m     94\u001b[0m \u001b[39mfinally\u001b[39;00m:\n\u001b[0;32m     95\u001b[0m     set_spawning_popen(\u001b[39mNone\u001b[39;00m)\n",
            "File \u001b[1;32md:\\miniconda3\\envs\\182cuda\\lib\\multiprocessing\\reduction.py:60\u001b[0m, in \u001b[0;36mdump\u001b[1;34m(obj, file, protocol)\u001b[0m\n\u001b[0;32m     58\u001b[0m \u001b[39mdef\u001b[39;00m \u001b[39mdump\u001b[39m(obj, file, protocol\u001b[39m=\u001b[39m\u001b[39mNone\u001b[39;00m):\n\u001b[0;32m     59\u001b[0m     \u001b[39m'''Replacement for pickle.dump() using ForkingPickler.'''\u001b[39;00m\n\u001b[1;32m---> 60\u001b[0m     ForkingPickler(file, protocol)\u001b[39m.\u001b[39;49mdump(obj)\n",
            "\u001b[1;31mKeyboardInterrupt\u001b[0m: "
          ]
        }
      ],
      "source": [
        "assert torch.cuda.is_available()\n",
        "device = torch.device(\"cuda\")\n",
        "\n",
        "n_epoch = 3\n",
        "\n",
        "model = MNIST_clf(\n",
        "    gpt2_engine, \n",
        "    n_patch = 4,\n",
        "    input_dim = 49, \n",
        "    engine_embed_dim = 768\n",
        ").to(device)\n",
        "\n",
        "criterion = nn.CrossEntropyLoss()\n",
        "optimizer = optim.SGD(model.parameters(), lr=0.001, momentum=0.9)\n",
        "best_val_acc = .0\n",
        "\n",
        "epoch_iterator = trange(n_epoch)\n",
        "for epoch in epoch_iterator:  \n",
        "    data_iterator = tqdm(train_dataloader)\n",
        "\n",
        "    # running_loss = 0.0\n",
        "\n",
        "    # training loop\n",
        "    model.train()\n",
        "    for i, data in enumerate(data_iterator):\n",
        "        inputs, labels = data\n",
        "        inputs = inputs.to(device); labels = labels.to(device)\n",
        "\n",
        "        optimizer.zero_grad()\n",
        "\n",
        "        outputs = model(inputs)\n",
        "        loss = criterion(outputs, labels)\n",
        "        loss.backward()\n",
        "        optimizer.step()\n",
        "\n",
        "        data_iterator.set_postfix(loss=loss.item())\n",
        "    \n",
        "    # validation loop\n",
        "    acc = 0\n",
        "    model.eval()\n",
        "    for data in val_dataloader:\n",
        "      inputs, labels = data\n",
        "      inputs = inputs.to(device); labels = labels.to(device)\n",
        "      with torch.no_grad():\n",
        "        pred = model(inputs).argmax(-1)\n",
        "        acc += sum(pred == labels).detach().cpu()\n",
        "    val_acc = acc / len(val_dataloader.dataset)\n",
        "    \n",
        "    if val_acc > best_val_acc:\n",
        "      best_val_acc = val_acc\n",
        "    \n",
        "    epoch_iterator.set_postfix(val_acc = val_acc, best_val_acc = best_val_acc)\n",
        "\n"
      ]
    },
    {
      "cell_type": "markdown",
      "metadata": {
        "id": "fMQNXSykZJeC"
      },
      "source": [
        "Test how the model perform on test set, you should see it reaches an accuracy about 80%."
      ]
    },
    {
      "cell_type": "code",
      "execution_count": null,
      "metadata": {
        "colab": {
          "base_uri": "https://localhost:8080/"
        },
        "id": "XYSvvsy5ZJeC",
        "outputId": "ea469f5c-8d20-4015-fd2b-fb0c2ea02cb7"
      },
      "outputs": [
        {
          "name": "stdout",
          "output_type": "stream",
          "text": [
            "Accuracy: 92.21%\n"
          ]
        }
      ],
      "source": [
        "# Test performance of model\n",
        "acc = 0\n",
        "model.eval()\n",
        "for i, data in enumerate(test_dataloader):\n",
        "  inputs, labels = data\n",
        "  inputs = inputs.to(device); labels = labels.to(device)\n",
        "  with torch.no_grad():\n",
        "    pred = model(inputs).argmax(-1)\n",
        "    acc += sum(pred == labels)\n",
        "\n",
        "print(\"Accuracy: {:.2f}%\".format(100 * acc/len(test_dataloader.dataset)))  # 90\n"
      ]
    },
    {
      "cell_type": "code",
      "execution_count": null,
      "metadata": {
        "colab": {
          "base_uri": "https://localhost:8080/",
          "height": 1000
        },
        "id": "9Pjcba-MOGm2",
        "outputId": "9ba480ee-abc4-4ec3-b39c-5bfe21a5e7c4"
      },
      "outputs": [
        {
          "data": {
            "image/png": "[encoded data removed]",
            "text/plain": [
              "<Figure size 1600x1600 with 10 Axes>"
            ]
          },
          "metadata": {},
          "output_type": "display_data"
        }
      ],
      "source": [
        "batch_x, batch_y = next(iter(test_dataloader))\n",
        "display_MNIST_with_attn(batch_x[:5], model)"
      ]
    },
    {
      "cell_type": "markdown",
      "metadata": {
        "id": "dDKis7NVZJeC"
      },
      "source": [
        "### **Advantages of Pre-trained Models: Speed and Accuracy**"
      ]
    },
    {
      "cell_type": "markdown",
      "metadata": {
        "id": "96gQz4xKZJeC"
      },
      "source": [
        "In previous part, you have seen the power of using GPT-2 pretrained on language tasks can do visual task as well.\n",
        "In this part, you are going to train/finetune a ResNet-50 and compare it with GPT-2"
      ]
    },
    {
      "cell_type": "code",
      "execution_count": null,
      "metadata": {
        "id": "rlvaOYYSZJeC"
      },
      "outputs": [],
      "source": [
        "from torch.utils.data import DataLoader\n",
        "# Rescale MNIST and make it 3 channel\n",
        "transform = transforms.Compose([\n",
        "    transforms.Resize(224),\n",
        "    transforms.Grayscale(num_output_channels=3),\n",
        "    transforms.ToTensor(),\n",
        "    transforms.Normalize(mean=[0.5, 0.5, 0.5], std=[0.5, 0.5, 0.5])\n",
        "])\n",
        "\n",
        "trainset = torchvision.datasets.MNIST(root='./data', train=True, download=True, transform=transform)\n",
        "testset = torchvision.datasets.MNIST(root='./data', train=False, download=True, transform=transform)\n",
        "\n",
        "# Define dataloaders\n",
        "trainloader = DataLoader(trainset, batch_size=32, shuffle=True, num_workers=2)\n",
        "testloader = DataLoader(testset, batch_size=32, shuffle=False, num_workers=2)"
      ]
    },
    {
      "cell_type": "markdown",
      "metadata": {
        "id": "rlpli-m4ZJeC"
      },
      "source": [
        "Like GPT-2, we use pretrained "
      ]
    },
    {
      "cell_type": "code",
      "execution_count": 15,
      "metadata": {
        "colab": {
          "base_uri": "https://localhost:8080/"
        },
        "id": "Y2cjiShLZJeC",
        "outputId": "84c03c77-dd1f-4a8e-9fcd-35f70d33504a"
      },
      "outputs": [
        {
          "data": {
            "text/plain": [
              "ResNet(\n",
              "  (conv1): Conv2d(3, 64, kernel_size=(7, 7), stride=(2, 2), padding=(3, 3), bias=False)\n",
              "  (bn1): BatchNorm2d(64, eps=1e-05, momentum=0.1, affine=True, track_running_stats=True)\n",
              "  (relu): ReLU(inplace=True)\n",
              "  (maxpool): MaxPool2d(kernel_size=3, stride=2, padding=1, dilation=1, ceil_mode=False)\n",
              "  (layer1): Sequential(\n",
              "    (0): Bottleneck(\n",
              "      (conv1): Conv2d(64, 64, kernel_size=(1, 1), stride=(1, 1), bias=False)\n",
              "      (bn1): BatchNorm2d(64, eps=1e-05, momentum=0.1, affine=True, track_running_stats=True)\n",
              "      (conv2): Conv2d(64, 64, kernel_size=(3, 3), stride=(1, 1), padding=(1, 1), bias=False)\n",
              "      (bn2): BatchNorm2d(64, eps=1e-05, momentum=0.1, affine=True, track_running_stats=True)\n",
              "      (conv3): Conv2d(64, 256, kernel_size=(1, 1), stride=(1, 1), bias=False)\n",
              "      (bn3): BatchNorm2d(256, eps=1e-05, momentum=0.1, affine=True, track_running_stats=True)\n",
              "      (relu): ReLU(inplace=True)\n",
              "      (downsample): Sequential(\n",
              "        (0): Conv2d(64, 256, kernel_size=(1, 1), stride=(1, 1), bias=False)\n",
              "        (1): BatchNorm2d(256, eps=1e-05, momentum=0.1, affine=True, track_running_stats=True)\n",
              "      )\n",
              "    )\n",
              "    (1): Bottleneck(\n",
              "      (conv1): Conv2d(256, 64, kernel_size=(1, 1), stride=(1, 1), bias=False)\n",
              "      (bn1): BatchNorm2d(64, eps=1e-05, momentum=0.1, affine=True, track_running_stats=True)\n",
              "      (conv2): Conv2d(64, 64, kernel_size=(3, 3), stride=(1, 1), padding=(1, 1), bias=False)\n",
              "      (bn2): BatchNorm2d(64, eps=1e-05, momentum=0.1, affine=True, track_running_stats=True)\n",
              "      (conv3): Conv2d(64, 256, kernel_size=(1, 1), stride=(1, 1), bias=False)\n",
              "      (bn3): BatchNorm2d(256, eps=1e-05, momentum=0.1, affine=True, track_running_stats=True)\n",
              "      (relu): ReLU(inplace=True)\n",
              "    )\n",
              "    (2): Bottleneck(\n",
              "      (conv1): Conv2d(256, 64, kernel_size=(1, 1), stride=(1, 1), bias=False)\n",
              "      (bn1): BatchNorm2d(64, eps=1e-05, momentum=0.1, affine=True, track_running_stats=True)\n",
              "      (conv2): Conv2d(64, 64, kernel_size=(3, 3), stride=(1, 1), padding=(1, 1), bias=False)\n",
              "      (bn2): BatchNorm2d(64, eps=1e-05, momentum=0.1, affine=True, track_running_stats=True)\n",
              "      (conv3): Conv2d(64, 256, kernel_size=(1, 1), stride=(1, 1), bias=False)\n",
              "      (bn3): BatchNorm2d(256, eps=1e-05, momentum=0.1, affine=True, track_running_stats=True)\n",
              "      (relu): ReLU(inplace=True)\n",
              "    )\n",
              "  )\n",
              "  (layer2): Sequential(\n",
              "    (0): Bottleneck(\n",
              "      (conv1): Conv2d(256, 128, kernel_size=(1, 1), stride=(1, 1), bias=False)\n",
              "      (bn1): BatchNorm2d(128, eps=1e-05, momentum=0.1, affine=True, track_running_stats=True)\n",
              "      (conv2): Conv2d(128, 128, kernel_size=(3, 3), stride=(2, 2), padding=(1, 1), bias=False)\n",
              "      (bn2): BatchNorm2d(128, eps=1e-05, momentum=0.1, affine=True, track_running_stats=True)\n",
              "      (conv3): Conv2d(128, 512, kernel_size=(1, 1), stride=(1, 1), bias=False)\n",
              "      (bn3): BatchNorm2d(512, eps=1e-05, momentum=0.1, affine=True, track_running_stats=True)\n",
              "      (relu): ReLU(inplace=True)\n",
              "      (downsample): Sequential(\n",
              "        (0): Conv2d(256, 512, kernel_size=(1, 1), stride=(2, 2), bias=False)\n",
              "        (1): BatchNorm2d(512, eps=1e-05, momentum=0.1, affine=True, track_running_stats=True)\n",
              "      )\n",
              "    )\n",
              "    (1): Bottleneck(\n",
              "      (conv1): Conv2d(512, 128, kernel_size=(1, 1), stride=(1, 1), bias=False)\n",
              "      (bn1): BatchNorm2d(128, eps=1e-05, momentum=0.1, affine=True, track_running_stats=True)\n",
              "      (conv2): Conv2d(128, 128, kernel_size=(3, 3), stride=(1, 1), padding=(1, 1), bias=False)\n",
              "      (bn2): BatchNorm2d(128, eps=1e-05, momentum=0.1, affine=True, track_running_stats=True)\n",
              "      (conv3): Conv2d(128, 512, kernel_size=(1, 1), stride=(1, 1), bias=False)\n",
              "      (bn3): BatchNorm2d(512, eps=1e-05, momentum=0.1, affine=True, track_running_stats=True)\n",
              "      (relu): ReLU(inplace=True)\n",
              "    )\n",
              "    (2): Bottleneck(\n",
              "      (conv1): Conv2d(512, 128, kernel_size=(1, 1), stride=(1, 1), bias=False)\n",
              "      (bn1): BatchNorm2d(128, eps=1e-05, momentum=0.1, affine=True, track_running_stats=True)\n",
              "      (conv2): Conv2d(128, 128, kernel_size=(3, 3), stride=(1, 1), padding=(1, 1), bias=False)\n",
              "      (bn2): BatchNorm2d(128, eps=1e-05, momentum=0.1, affine=True, track_running_stats=True)\n",
              "      (conv3): Conv2d(128, 512, kernel_size=(1, 1), stride=(1, 1), bias=False)\n",
              "      (bn3): BatchNorm2d(512, eps=1e-05, momentum=0.1, affine=True, track_running_stats=True)\n",
              "      (relu): ReLU(inplace=True)\n",
              "    )\n",
              "    (3): Bottleneck(\n",
              "      (conv1): Conv2d(512, 128, kernel_size=(1, 1), stride=(1, 1), bias=False)\n",
              "      (bn1): BatchNorm2d(128, eps=1e-05, momentum=0.1, affine=True, track_running_stats=True)\n",
              "      (conv2): Conv2d(128, 128, kernel_size=(3, 3), stride=(1, 1), padding=(1, 1), bias=False)\n",
              "      (bn2): BatchNorm2d(128, eps=1e-05, momentum=0.1, affine=True, track_running_stats=True)\n",
              "      (conv3): Conv2d(128, 512, kernel_size=(1, 1), stride=(1, 1), bias=False)\n",
              "      (bn3): BatchNorm2d(512, eps=1e-05, momentum=0.1, affine=True, track_running_stats=True)\n",
              "      (relu): ReLU(inplace=True)\n",
              "    )\n",
              "  )\n",
              "  (layer3): Sequential(\n",
              "    (0): Bottleneck(\n",
              "      (conv1): Conv2d(512, 256, kernel_size=(1, 1), stride=(1, 1), bias=False)\n",
              "      (bn1): BatchNorm2d(256, eps=1e-05, momentum=0.1, affine=True, track_running_stats=True)\n",
              "      (conv2): Conv2d(256, 256, kernel_size=(3, 3), stride=(2, 2), padding=(1, 1), bias=False)\n",
              "      (bn2): BatchNorm2d(256, eps=1e-05, momentum=0.1, affine=True, track_running_stats=True)\n",
              "      (conv3): Conv2d(256, 1024, kernel_size=(1, 1), stride=(1, 1), bias=False)\n",
              "      (bn3): BatchNorm2d(1024, eps=1e-05, momentum=0.1, affine=True, track_running_stats=True)\n",
              "      (relu): ReLU(inplace=True)\n",
              "      (downsample): Sequential(\n",
              "        (0): Conv2d(512, 1024, kernel_size=(1, 1), stride=(2, 2), bias=False)\n",
              "        (1): BatchNorm2d(1024, eps=1e-05, momentum=0.1, affine=True, track_running_stats=True)\n",
              "      )\n",
              "    )\n",
              "    (1): Bottleneck(\n",
              "      (conv1): Conv2d(1024, 256, kernel_size=(1, 1), stride=(1, 1), bias=False)\n",
              "      (bn1): BatchNorm2d(256, eps=1e-05, momentum=0.1, affine=True, track_running_stats=True)\n",
              "      (conv2): Conv2d(256, 256, kernel_size=(3, 3), stride=(1, 1), padding=(1, 1), bias=False)\n",
              "      (bn2): BatchNorm2d(256, eps=1e-05, momentum=0.1, affine=True, track_running_stats=True)\n",
              "      (conv3): Conv2d(256, 1024, kernel_size=(1, 1), stride=(1, 1), bias=False)\n",
              "      (bn3): BatchNorm2d(1024, eps=1e-05, momentum=0.1, affine=True, track_running_stats=True)\n",
              "      (relu): ReLU(inplace=True)\n",
              "    )\n",
              "    (2): Bottleneck(\n",
              "      (conv1): Conv2d(1024, 256, kernel_size=(1, 1), stride=(1, 1), bias=False)\n",
              "      (bn1): BatchNorm2d(256, eps=1e-05, momentum=0.1, affine=True, track_running_stats=True)\n",
              "      (conv2): Conv2d(256, 256, kernel_size=(3, 3), stride=(1, 1), padding=(1, 1), bias=False)\n",
              "      (bn2): BatchNorm2d(256, eps=1e-05, momentum=0.1, affine=True, track_running_stats=True)\n",
              "      (conv3): Conv2d(256, 1024, kernel_size=(1, 1), stride=(1, 1), bias=False)\n",
              "      (bn3): BatchNorm2d(1024, eps=1e-05, momentum=0.1, affine=True, track_running_stats=True)\n",
              "      (relu): ReLU(inplace=True)\n",
              "    )\n",
              "    (3): Bottleneck(\n",
              "      (conv1): Conv2d(1024, 256, kernel_size=(1, 1), stride=(1, 1), bias=False)\n",
              "      (bn1): BatchNorm2d(256, eps=1e-05, momentum=0.1, affine=True, track_running_stats=True)\n",
              "      (conv2): Conv2d(256, 256, kernel_size=(3, 3), stride=(1, 1), padding=(1, 1), bias=False)\n",
              "      (bn2): BatchNorm2d(256, eps=1e-05, momentum=0.1, affine=True, track_running_stats=True)\n",
              "      (conv3): Conv2d(256, 1024, kernel_size=(1, 1), stride=(1, 1), bias=False)\n",
              "      (bn3): BatchNorm2d(1024, eps=1e-05, momentum=0.1, affine=True, track_running_stats=True)\n",
              "      (relu): ReLU(inplace=True)\n",
              "    )\n",
              "    (4): Bottleneck(\n",
              "      (conv1): Conv2d(1024, 256, kernel_size=(1, 1), stride=(1, 1), bias=False)\n",
              "      (bn1): BatchNorm2d(256, eps=1e-05, momentum=0.1, affine=True, track_running_stats=True)\n",
              "      (conv2): Conv2d(256, 256, kernel_size=(3, 3), stride=(1, 1), padding=(1, 1), bias=False)\n",
              "      (bn2): BatchNorm2d(256, eps=1e-05, momentum=0.1, affine=True, track_running_stats=True)\n",
              "      (conv3): Conv2d(256, 1024, kernel_size=(1, 1), stride=(1, 1), bias=False)\n",
              "      (bn3): BatchNorm2d(1024, eps=1e-05, momentum=0.1, affine=True, track_running_stats=True)\n",
              "      (relu): ReLU(inplace=True)\n",
              "    )\n",
              "    (5): Bottleneck(\n",
              "      (conv1): Conv2d(1024, 256, kernel_size=(1, 1), stride=(1, 1), bias=False)\n",
              "      (bn1): BatchNorm2d(256, eps=1e-05, momentum=0.1, affine=True, track_running_stats=True)\n",
              "      (conv2): Conv2d(256, 256, kernel_size=(3, 3), stride=(1, 1), padding=(1, 1), bias=False)\n",
              "      (bn2): BatchNorm2d(256, eps=1e-05, momentum=0.1, affine=True, track_running_stats=True)\n",
              "      (conv3): Conv2d(256, 1024, kernel_size=(1, 1), stride=(1, 1), bias=False)\n",
              "      (bn3): BatchNorm2d(1024, eps=1e-05, momentum=0.1, affine=True, track_running_stats=True)\n",
              "      (relu): ReLU(inplace=True)\n",
              "    )\n",
              "  )\n",
              "  (layer4): Sequential(\n",
              "    (0): Bottleneck(\n",
              "      (conv1): Conv2d(1024, 512, kernel_size=(1, 1), stride=(1, 1), bias=False)\n",
              "      (bn1): BatchNorm2d(512, eps=1e-05, momentum=0.1, affine=True, track_running_stats=True)\n",
              "      (conv2): Conv2d(512, 512, kernel_size=(3, 3), stride=(2, 2), padding=(1, 1), bias=False)\n",
              "      (bn2): BatchNorm2d(512, eps=1e-05, momentum=0.1, affine=True, track_running_stats=True)\n",
              "      (conv3): Conv2d(512, 2048, kernel_size=(1, 1), stride=(1, 1), bias=False)\n",
              "      (bn3): BatchNorm2d(2048, eps=1e-05, momentum=0.1, affine=True, track_running_stats=True)\n",
              "      (relu): ReLU(inplace=True)\n",
              "      (downsample): Sequential(\n",
              "        (0): Conv2d(1024, 2048, kernel_size=(1, 1), stride=(2, 2), bias=False)\n",
              "        (1): BatchNorm2d(2048, eps=1e-05, momentum=0.1, affine=True, track_running_stats=True)\n",
              "      )\n",
              "    )\n",
              "    (1): Bottleneck(\n",
              "      (conv1): Conv2d(2048, 512, kernel_size=(1, 1), stride=(1, 1), bias=False)\n",
              "      (bn1): BatchNorm2d(512, eps=1e-05, momentum=0.1, affine=True, track_running_stats=True)\n",
              "      (conv2): Conv2d(512, 512, kernel_size=(3, 3), stride=(1, 1), padding=(1, 1), bias=False)\n",
              "      (bn2): BatchNorm2d(512, eps=1e-05, momentum=0.1, affine=True, track_running_stats=True)\n",
              "      (conv3): Conv2d(512, 2048, kernel_size=(1, 1), stride=(1, 1), bias=False)\n",
              "      (bn3): BatchNorm2d(2048, eps=1e-05, momentum=0.1, affine=True, track_running_stats=True)\n",
              "      (relu): ReLU(inplace=True)\n",
              "    )\n",
              "    (2): Bottleneck(\n",
              "      (conv1): Conv2d(2048, 512, kernel_size=(1, 1), stride=(1, 1), bias=False)\n",
              "      (bn1): BatchNorm2d(512, eps=1e-05, momentum=0.1, affine=True, track_running_stats=True)\n",
              "      (conv2): Conv2d(512, 512, kernel_size=(3, 3), stride=(1, 1), padding=(1, 1), bias=False)\n",
              "      (bn2): BatchNorm2d(512, eps=1e-05, momentum=0.1, affine=True, track_running_stats=True)\n",
              "      (conv3): Conv2d(512, 2048, kernel_size=(1, 1), stride=(1, 1), bias=False)\n",
              "      (bn3): BatchNorm2d(2048, eps=1e-05, momentum=0.1, affine=True, track_running_stats=True)\n",
              "      (relu): ReLU(inplace=True)\n",
              "    )\n",
              "  )\n",
              "  (avgpool): AdaptiveAvgPool2d(output_size=(1, 1))\n",
              "  (fc): Linear(in_features=2048, out_features=10, bias=True)\n",
              ")"
            ]
          },
          "execution_count": 15,
          "metadata": {},
          "output_type": "execute_result"
        }
      ],
      "source": [
        "# Frozen, only train the last layer\n",
        "res50_frozen = torchvision.models.resnet50(pretrained=True)\n",
        "for param in res50_frozen.parameters():\n",
        "    param.requires_grad = False\n",
        "num_ftrs = res50_frozen.fc.in_features\n",
        "res50_frozen.fc = nn.Linear(num_ftrs, 10)\n",
        "res50_frozen.fc.requires_grad = True\n",
        "\n",
        "device = torch.device(\"cuda:0\" if torch.cuda.is_available() else \"cpu\")\n",
        "res50_frozen.to(device)"
      ]
    },
    {
      "cell_type": "code",
      "execution_count": null,
      "metadata": {
        "colab": {
          "base_uri": "https://localhost:8080/",
          "height": 117,
          "referenced_widgets": [
            "c638d959d9b84f0fbea7f038f7a9f040",
            "ecebac53851c406bbfb714acf4fa6172",
            "8530598c3be2478c8863ae894d8cb132",
            "98c49beee4b148e7b235d1840285c7df",
            "020a7b76038f48ed8d3eb7bba6fa199f",
            "2c476815fb184d5790d781a08f9c5519",
            "357675a55e414e489933c825fe021ce6",
            "80cf1b6d7e4c4c3797c424227f49e2d2",
            "8663f67e5b1d468286a1727e837f4f9e",
            "bb71d3450077405c8fcc785e2f354484",
            "5dcbde039c13423fb0fc27151f75316c",
            "93542ed5aa4a4db7a5ac38a7b5fdf257",
            "5be1195aa25543f6a85d09442f98330c",
            "a438775e07934b0394fff82df08ed92e",
            "0cc417cee225483899bbb3a7e8c505d0",
            "f62bb698689944f583fd5ec949282efa",
            "be82c881ab91476db0207777a23cce88",
            "debb79cf17dd4ec6bc43f8295b8d8642",
            "61bc0d413a8d477c89f03ca3cb4cd82d",
            "616a589396d24e08a382050ddcedc71b",
            "3e5af7b3f0f54eb4a2e5da59dc262a4f",
            "2d96bf6eebeb45cbab01808339cbf235"
          ]
        },
        "id": "6HBw8bouZJeC",
        "outputId": "4b441b5f-19a1-4271-d655-e11485765a68"
      },
      "outputs": [
        {
          "data": {
            "application/vnd.jupyter.widget-view+json": {
              "model_id": "c638d959d9b84f0fbea7f038f7a9f040",
              "version_major": 2,
              "version_minor": 0
            },
            "text/plain": [
              "  0%|          | 0/1875 [00:00<?, ?it/s]"
            ]
          },
          "metadata": {},
          "output_type": "display_data"
        },
        {
          "data": {
            "application/vnd.jupyter.widget-view+json": {
              "model_id": "93542ed5aa4a4db7a5ac38a7b5fdf257",
              "version_major": 2,
              "version_minor": 0
            },
            "text/plain": [
              "  0%|          | 0/1875 [00:00<?, ?it/s]"
            ]
          },
          "metadata": {},
          "output_type": "display_data"
        },
        {
          "name": "stdout",
          "output_type": "stream",
          "text": [
            "Done\n",
            "Accuracy on test set: 92 %\n"
          ]
        }
      ],
      "source": [
        "############################################################################\n",
        "# TODO: Tune the hyperparameters to get the best performance on the test set\n",
        "############################################################################\n",
        "lr = 0.001\n",
        "epoch = 2\n",
        "criterion = nn.CrossEntropyLoss()\n",
        "############################################################################\n",
        "optimizer = optim.SGD(filter(lambda p: p.requires_grad, res50_frozen.parameters()), lr=lr, momentum=0.9)\n",
        "\n",
        "# Train\n",
        "for epoch in range(epoch):\n",
        "    running_loss = 0.0\n",
        "    for i, data in enumerate(tqdm(trainloader)):\n",
        "        inputs, labels = data[0].to(device), data[1].to(device) # Move the data to the specified CUDA device\n",
        "        optimizer.zero_grad()\n",
        "        outputs = res50_frozen(inputs)\n",
        "        loss = criterion(outputs, labels)\n",
        "        loss.backward()\n",
        "        optimizer.step()\n",
        "        running_loss += loss.item()\n",
        "\n",
        "print('Done')\n",
        "\n",
        "# eval\n",
        "correct = 0\n",
        "total = 0\n",
        "with torch.no_grad():\n",
        "    for data in testloader:\n",
        "        inputs, labels = data[0].to(device), data[1].to(device) # Move the data to the specified CUDA device\n",
        "        outputs = res50_frozen(inputs)\n",
        "        _, predicted = torch.max(outputs.data, 1)\n",
        "        total += labels.size(0)\n",
        "        correct += (predicted == labels).sum().item()\n",
        "\n",
        "print('Accuracy on test set: %d %%' % (100 * correct / total)) # 99%\n"
      ]
    },
    {
      "cell_type": "markdown",
      "metadata": {
        "id": "6XJax4YxZJeD"
      },
      "source": [
        "Here, we check the trainable parameter numbers of frozen resnet 50 and frozen GPT-2"
      ]
    },
    {
      "cell_type": "code",
      "execution_count": 6,
      "metadata": {},
      "outputs": [],
      "source": [
        "def get_parameter_number(model):\n",
        "    total_num = sum(p.numel() for p in model.parameters())\n",
        "    trainable_num = sum(p.numel() for p in model.parameters() if p.requires_grad)\n",
        "    return {'Total': total_num, 'Trainable': trainable_num}"
      ]
    },
    {
      "cell_type": "code",
      "execution_count": 16,
      "metadata": {
        "colab": {
          "base_uri": "https://localhost:8080/"
        },
        "id": "XCU5_glLZJeD",
        "outputId": "2a0e42eb-a9d2-4fad-c6ca-a6bf1a7d3079"
      },
      "outputs": [
        {
          "name": "stdout",
          "output_type": "stream",
          "text": [
            "ResNet50:  {'Total': 23528522, 'Trainable': 20490}\n",
            "Modified GPT2: {'Total': 124486666, 'Trainable': 39469066}\n"
          ]
        }
      ],
      "source": [
        "print(\"ResNet50: \",get_parameter_number(res50_frozen))\n",
        "print(\"Modified GPT2:\",get_parameter_number(model))\n"
      ]
    },
    {
      "cell_type": "markdown",
      "metadata": {
        "id": "HJNNelUPZJeD"
      },
      "source": [
        "### **Influence of Model Capacity on Accuracy and Training Time**"
      ]
    },
    {
      "cell_type": "markdown",
      "metadata": {
        "id": "hUfWqZV4ZJeD"
      },
      "source": [
        "In this section, we study how to model size will influence the accuracy and training time. We use small, medium and large GPT-2 for comparision. The training task is the bitwise operator you designed before."
      ]
    },
    {
      "cell_type": "markdown",
      "metadata": {
        "id": "3x8X8PG5ZJeD"
      },
      "source": [
        "In the tranning function below, we use the parameter `engine_name` to select different size model."
      ]
    },
    {
      "cell_type": "code",
      "execution_count": null,
      "metadata": {
        "id": "8ViIBU_JZJeD"
      },
      "outputs": [],
      "source": [
        "import time\n",
        "import pandas as pd\n",
        "import matplotlib.pyplot as plt\n",
        "import gc\n",
        "\n",
        "\n",
        "def train(engine_name, train_loader, test_loader, Bit_length, num_epochs = 2):\n",
        "\n",
        "  # create an instance of the model\n",
        "  gpt2_engine = GPT2Model.from_pretrained(engine_name)\n",
        "  for name, param in gpt2_engine.named_parameters():\n",
        "    # freeze all parameters except the layernorm and positional embeddings \n",
        "    if 'ln' in name or 'wpe' in name:\n",
        "      param.requires_grad = True \n",
        "    else:\n",
        "      param.requires_grad = False\n",
        "\n",
        "\n",
        "  # Choose the correct embedding size based on the GPT-2 model\n",
        "  if engine_name == \"gpt2\":\n",
        "      engine_embed_dim = 768\n",
        "  elif engine_name == \"gpt2-medium\":\n",
        "      engine_embed_dim = 1024\n",
        "  elif engine_name == \"gpt2-large\":\n",
        "      engine_embed_dim = 1280\n",
        "  elif engine_name == \"gpt2-xl\":\n",
        "      engine_embed_dim = 1600\n",
        "  else:\n",
        "      raise ValueError(f\"Invalid model name: {engine_name}\")\n",
        "\n",
        "  model = Bit_wise_transformer(\n",
        "      gpt2_engine, \n",
        "      bitLength = Bit_length,\n",
        "      input_dim = 2, \n",
        "      engine_embed_dim = engine_embed_dim\n",
        "  ).to(device)\n",
        "\n",
        "  # define the optimizer and loss\n",
        "  optimizer = torch.optim.Adam(model.parameters(), lr=0.001)\n",
        "  criterion = nn.CrossEntropyLoss()\n",
        "\n",
        "  losses = []\n",
        "  train_acc = []\n",
        "  all_val_acc = []\n",
        "  best_val_acc = 0\n",
        "\n",
        "  epoch_iterator = trange(num_epochs)\n",
        "  for epoch in epoch_iterator:\n",
        "      # Training loop\n",
        "      running_loss = 0.0\n",
        "      data_iterator = tqdm(train_loader)\n",
        "      for i, (inputs, labels) in enumerate(data_iterator):\n",
        "          optimizer.zero_grad()\n",
        "          outputs = model(inputs)\n",
        "          loss = criterion(outputs.view(-1, 2), labels.view(-1))\n",
        "          accuracy = torch.mean((torch.argmax(outputs, dim=-1).flatten() == labels.flatten()).float())\n",
        "          loss.backward()\n",
        "          optimizer.step()\n",
        "\n",
        "          data_iterator.set_postfix(loss=loss.item())\n",
        "\n",
        "          running_loss += loss.item()\n",
        "          if (i + 1) % 50 == 0:\n",
        "                #print(f'Epoch [{epoch + 1}/{num_epochs}], Batch [{i * 50 + 1}/{len(train_loader)}], Loss: {running_loss / 50:.4f}')\n",
        "              running_loss = 0.0\n",
        "              losses.append(loss.item())\n",
        "              train_acc.append(accuracy.item())\n",
        "          \n",
        "      # Validation\n",
        "      val_acc = []\n",
        "      model.eval()\n",
        "      with torch.no_grad():\n",
        "        for inputs, labels in test_loader:\n",
        "            inputs = inputs.to(device=device, dtype=torch.long)\n",
        "            labels = labels.to(device=device, dtype=torch.long)\n",
        "            outputs = model(inputs)\n",
        "            accuracy = torch.mean((torch.argmax(outputs, dim=-1).flatten() == labels.flatten()).float())\n",
        "            val_acc.append(accuracy.item())\n",
        "      model.train()\n",
        "\n",
        "      all_val_acc.append(np.mean(val_acc))\n",
        "      # Save best model\n",
        "      if np.mean(val_acc) > best_val_acc:\n",
        "          best_val_acc = np.mean(val_acc)\n",
        "\n",
        "      epoch_iterator.set_postfix(val_acc=np.mean(val_acc), best_val_acc=best_val_acc)\n",
        "\n",
        "  del model\n",
        "  gc.collect()\n",
        "  torch.cuda.empty_cache()\n",
        "  return best_val_acc"
      ]
    },
    {
      "cell_type": "markdown",
      "metadata": {
        "id": "H87x07FBZJeD"
      },
      "source": [
        "Here, we train with different model size and how accuracy changed with the size."
      ]
    },
    {
      "cell_type": "code",
      "execution_count": null,
      "metadata": {
        "id": "Wy4o_qfeZJeD"
      },
      "outputs": [],
      "source": [
        "engine_list = [\"gpt2\",\"gpt2-medium\",\"gpt2-large\"]\n",
        "# engine_list = [\"gpt2-large\"]"
      ]
    },
    {
      "cell_type": "code",
      "execution_count": null,
      "metadata": {
        "colab": {
          "base_uri": "https://localhost:8080/",
          "height": 181,
          "referenced_widgets": [
            "b43107e571814b1ea53a097db2b7f61d",
            "c1dedb85522f4b5c8a575d721c1b7a2b",
            "eb6a6d4016a3452fa5794e4b7e5e93c1",
            "7e20c96bd24743ce8b0cfa889dc10628",
            "f0275ac5826f43ee84d8fb29cc4d21ab",
            "e13d9fbf1d9b4eb98251ce1d89f3bb16",
            "d78d5a341e1f4f6584dd2477dcffa356",
            "3d9adb6616064661bddd48919e5c495d",
            "5077a83f9e684a2e9215bb7a612d551b",
            "8bffb7c067074f8792c6908fc91677f9",
            "91578b03a3a3484c89d7ee218f6b27cb",
            "7f8a80b663b44830bdb98a551ad51cc5",
            "93d4a40aed294b2c8151be1da443db8b",
            "04484ea2ebe045eca6da884cb52ed529",
            "1dd566c1977b4ce2bd470431c473982e",
            "727578899d6b4cd39a9c6a62674fb619",
            "da38c7d5d32540289df3167f8e9eaa57",
            "453dd7631cc740eba31c5217443effbb",
            "7fb205915059427bbb6301c2bd2c1605",
            "a6cadd412ea940d2a3716bf77d39c074",
            "fcea447d7e9e40ac9f851cf5c47c158c",
            "90266d6930ef4c1e93f4192bd5073705",
            "3332c07185a0464b813031e85e3092d0",
            "3d76d37a6fbf4825b83e731257b3d77f",
            "2b2343686561449fa17ecd5f3436f09c",
            "b9c86d011d2143c097642c9f536d31d3",
            "1c7e748ff08745e5b0337f8a157d55e8",
            "421c67f5afe548549497baefb520e5fe",
            "bb5c83a1a09845c3a62922b3de0ddd47",
            "8dd1909cedf242c1be6c9cedba1441f9",
            "b0a43c81b0524dcb867f6e17cb33d7ac",
            "8d2441d4a5974ea1a37b32e7c7bb9fb9",
            "409d38b7856e4e1bab300a8871c19941",
            "635b0683028e4981985499655a2538f5",
            "9b04fe10a63646668565ed7153485d75",
            "b9f96ed327cc421bb026136dd12f8c44",
            "45635780909f4c24836c2338dff08d12",
            "a7120803103442639ce19310e5538180",
            "bfef1626431a42daac24592a2d844da8",
            "aa5ab22415b54d3d91e848d390ac1706",
            "0959cf369c894c4b91301bedb159a491",
            "f76af9d9f66a44068a4e40c178c81c98",
            "416409bf0953400c8ebb35b683913f3e",
            "25c6dfc094d449d88a4a1a7035eb6634"
          ]
        },
        "id": "HW1MDgqIZJeE",
        "outputId": "be9626e6-509d-46b7-a16d-cc3e7772c8ae"
      },
      "outputs": [
        {
          "name": "stdout",
          "output_type": "stream",
          "text": [
            "We are training the model engine:  gpt2\n"
          ]
        },
        {
          "data": {
            "application/vnd.jupyter.widget-view+json": {
              "model_id": "b43107e571814b1ea53a097db2b7f61d",
              "version_major": 2,
              "version_minor": 0
            },
            "text/plain": [
              "  0%|          | 0/1 [00:00<?, ?it/s]"
            ]
          },
          "metadata": {},
          "output_type": "display_data"
        },
        {
          "data": {
            "application/vnd.jupyter.widget-view+json": {
              "model_id": "7f8a80b663b44830bdb98a551ad51cc5",
              "version_major": 2,
              "version_minor": 0
            },
            "text/plain": [
              "  0%|          | 0/438 [00:00<?, ?it/s]"
            ]
          },
          "metadata": {},
          "output_type": "display_data"
        },
        {
          "name": "stdout",
          "output_type": "stream",
          "text": [
            "We are training the model engine:  gpt2-medium\n"
          ]
        },
        {
          "data": {
            "application/vnd.jupyter.widget-view+json": {
              "model_id": "3332c07185a0464b813031e85e3092d0",
              "version_major": 2,
              "version_minor": 0
            },
            "text/plain": [
              "  0%|          | 0/1 [00:00<?, ?it/s]"
            ]
          },
          "metadata": {},
          "output_type": "display_data"
        },
        {
          "data": {
            "application/vnd.jupyter.widget-view+json": {
              "model_id": "635b0683028e4981985499655a2538f5",
              "version_major": 2,
              "version_minor": 0
            },
            "text/plain": [
              "  0%|          | 0/438 [00:00<?, ?it/s]"
            ]
          },
          "metadata": {},
          "output_type": "display_data"
        }
      ],
      "source": [
        "# train the modified model\n",
        "Bit_length = 8\n",
        "Data_size = 20000\n",
        "\n",
        "# training the model\n",
        "train_loader, test_loader = generate_data_loaders(n=Bit_length, batch_size=32,data_size = Data_size, train_size=0.7)\n",
        "\n",
        "results = []\n",
        "\n",
        "for engine_name in engine_list:\n",
        "  print(\"We are training the model engine: \", engine_name)\n",
        "  start_time = time.time()\n",
        "  best_val_acc = train(engine_name, train_loader, test_loader, Bit_length, num_epochs = 1)\n",
        "  train_time = time.time() - start_time\n",
        "  #print(\"The best val accuracy using the model engine -- \", engine_name, \": \", best_val_acc)\n",
        "\n",
        "  results.append({\n",
        "        \"model\": engine_name,\n",
        "        \"val_accuracy\": best_val_acc,\n",
        "        \"train_time\": train_time\n",
        "    })\n"
      ]
    },
    {
      "cell_type": "code",
      "execution_count": null,
      "metadata": {
        "colab": {
          "base_uri": "https://localhost:8080/"
        },
        "id": "fTLa9L-NZJeE",
        "outputId": "b1e43816-cf4a-4cf5-fc75-3d5f407a45d3"
      },
      "outputs": [
        {
          "name": "stdout",
          "output_type": "stream",
          "text": [
            "Model: gpt2\n",
            "Accuracy: 0.711415392287234\n",
            "Training Time: 41.598315954208374 seconds\n",
            "\n",
            "Model: gpt2-medium\n",
            "Accuracy: 0.7546750332446809\n",
            "Training Time: 128.36421084403992 seconds\n",
            "\n",
            "Model: gpt2-large\n",
            "Accuracy: 0.7877534906914894\n",
            "Training Time: 255.6324303150177 seconds\n",
            "\n"
          ]
        }
      ],
      "source": [
        "# Print the results\n",
        "for result in results:\n",
        "    print(f\"Model: {result['model']}\")\n",
        "    print(f\"Accuracy: {result['val_accuracy']}\")\n",
        "    print(f\"Training Time: {result['train_time']} seconds\")\n",
        "    print()"
      ]
    },
    {
      "cell_type": "code",
      "execution_count": null,
      "metadata": {
        "colab": {
          "base_uri": "https://localhost:8080/",
          "height": 634
        },
        "id": "rswBjxJPZJeE",
        "outputId": "f46a9a59-7f82-43fa-89ff-daeffb619c3a"
      },
      "outputs": [
        {
          "name": "stdout",
          "output_type": "stream",
          "text": [
            "Results Table:\n"
          ]
        },
        {
          "data": {
            "text/html": [
              "\n",
              "  <div id=\"df-834a8037-abba-4385-b8b8-9810dff32964\">\n",
              "    <div class=\"colab-df-container\">\n",
              "      <div>\n",
              "<style scoped>\n",
              "    .dataframe tbody tr th:only-of-type {\n",
              "        vertical-align: middle;\n",
              "    }\n",
              "\n",
              "    .dataframe tbody tr th {\n",
              "        vertical-align: top;\n",
              "    }\n",
              "\n",
              "    .dataframe thead th {\n",
              "        text-align: right;\n",
              "    }\n",
              "</style>\n",
              "<table border=\"1\" class=\"dataframe\">\n",
              "  <thead>\n",
              "    <tr style=\"text-align: right;\">\n",
              "      <th></th>\n",
              "      <th>model</th>\n",
              "      <th>val_accuracy</th>\n",
              "      <th>train_time</th>\n",
              "    </tr>\n",
              "  </thead>\n",
              "  <tbody>\n",
              "    <tr>\n",
              "      <th>0</th>\n",
              "      <td>gpt2</td>\n",
              "      <td>0.711415</td>\n",
              "      <td>41.598316</td>\n",
              "    </tr>\n",
              "    <tr>\n",
              "      <th>1</th>\n",
              "      <td>gpt2-medium</td>\n",
              "      <td>0.754675</td>\n",
              "      <td>128.364211</td>\n",
              "    </tr>\n",
              "    <tr>\n",
              "      <th>2</th>\n",
              "      <td>gpt2-large</td>\n",
              "      <td>0.787753</td>\n",
              "      <td>255.632430</td>\n",
              "    </tr>\n",
              "  </tbody>\n",
              "</table>\n",
              "</div>\n",
              "      <button class=\"colab-df-convert\" onclick=\"convertToInteractive('df-834a8037-abba-4385-b8b8-9810dff32964')\"\n",
              "              title=\"Convert this dataframe to an interactive table.\"\n",
              "              style=\"display:none;\">\n",
              "        \n",
              "  <svg xmlns=\"http://www.w3.org/2000/svg\" height=\"24px\"viewBox=\"0 0 24 24\"\n",
              "       width=\"24px\">\n",
              "    <path d=\"M0 0h24v24H0V0z\" fill=\"none\"/>\n",
              "    <path d=\"M18.56 5.44l.94 2.06.94-2.06 2.06-.94-2.06-.94-.94-2.06-.94 2.06-2.06.94zm-11 1L8.5 8.5l.94-2.06 2.06-.94-2.06-.94L8.5 2.5l-.94 2.06-2.06.94zm10 10l.94 2.06.94-2.06 2.06-.94-2.06-.94-.94-2.06-.94 2.06-2.06.94z\"/><path d=\"M17.41 7.96l-1.37-1.37c-.4-.4-.92-.59-1.43-.59-.52 0-1.04.2-1.43.59L10.3 9.45l-7.72 7.72c-.78.78-.78 2.05 0 2.83L4 21.41c.39.39.9.59 1.41.59.51 0 1.02-.2 1.41-.59l7.78-7.78 2.81-2.81c.8-.78.8-2.07 0-2.86zM5.41 20L4 18.59l7.72-7.72 1.47 1.35L5.41 20z\"/>\n",
              "  </svg>\n",
              "      </button>\n",
              "      \n",
              "  <style>\n",
              "    .colab-df-container {\n",
              "      display:flex;\n",
              "      flex-wrap:wrap;\n",
              "      gap: 12px;\n",
              "    }\n",
              "\n",
              "    .colab-df-convert {\n",
              "      background-color: #E8F0FE;\n",
              "      border: none;\n",
              "      border-radius: 50%;\n",
              "      cursor: pointer;\n",
              "      display: none;\n",
              "      fill: #1967D2;\n",
              "      height: 32px;\n",
              "      padding: 0 0 0 0;\n",
              "      width: 32px;\n",
              "    }\n",
              "\n",
              "    .colab-df-convert:hover {\n",
              "      background-color: #E2EBFA;\n",
              "      box-shadow: 0px 1px 2px rgba(60, 64, 67, 0.3), 0px 1px 3px 1px rgba(60, 64, 67, 0.15);\n",
              "      fill: #174EA6;\n",
              "    }\n",
              "\n",
              "    [theme=dark] .colab-df-convert {\n",
              "      background-color: #3B4455;\n",
              "      fill: #D2E3FC;\n",
              "    }\n",
              "\n",
              "    [theme=dark] .colab-df-convert:hover {\n",
              "      background-color: #434B5C;\n",
              "      box-shadow: 0px 1px 3px 1px rgba(0, 0, 0, 0.15);\n",
              "      filter: drop-shadow(0px 1px 2px rgba(0, 0, 0, 0.3));\n",
              "      fill: #FFFFFF;\n",
              "    }\n",
              "  </style>\n",
              "\n",
              "      <script>\n",
              "        const buttonEl =\n",
              "          document.querySelector('#df-834a8037-abba-4385-b8b8-9810dff32964 button.colab-df-convert');\n",
              "        buttonEl.style.display =\n",
              "          google.colab.kernel.accessAllowed ? 'block' : 'none';\n",
              "\n",
              "        async function convertToInteractive(key) {\n",
              "          const element = document.querySelector('#df-834a8037-abba-4385-b8b8-9810dff32964');\n",
              "          const dataTable =\n",
              "            await google.colab.kernel.invokeFunction('convertToInteractive',\n",
              "                                                     [key], {});\n",
              "          if (!dataTable) return;\n",
              "\n",
              "          const docLinkHtml = 'Like what you see? Visit the ' +\n",
              "            '<a target=\"_blank\" href=https://colab.research.google.com/notebooks/data_table.ipynb>data table notebook</a>'\n",
              "            + ' to learn more about interactive tables.';\n",
              "          element.innerHTML = '';\n",
              "          dataTable['output_type'] = 'display_data';\n",
              "          await google.colab.output.renderOutput(dataTable, element);\n",
              "          const docLink = document.createElement('div');\n",
              "          docLink.innerHTML = docLinkHtml;\n",
              "          element.appendChild(docLink);\n",
              "        }\n",
              "      </script>\n",
              "    </div>\n",
              "  </div>\n",
              "  "
            ],
            "text/plain": [
              "         model  val_accuracy  train_time\n",
              "0         gpt2      0.711415   41.598316\n",
              "1  gpt2-medium      0.754675  128.364211\n",
              "2   gpt2-large      0.787753  255.632430"
            ]
          },
          "metadata": {},
          "output_type": "display_data"
        },
        {
          "data": {
            "image/png": "[encoded data removed]",
            "text/plain": [
              "<Figure size 1200x400 with 2 Axes>"
            ]
          },
          "metadata": {},
          "output_type": "display_data"
        }
      ],
      "source": [
        "# Create a pandas DataFrame from the results\n",
        "results_df = pd.DataFrame(results)\n",
        "\n",
        "# Display the results in a table\n",
        "print(\"Results Table:\")\n",
        "display(results_df)\n",
        "\n",
        "# Plot accuracy and F1 score\n",
        "fig, ax = plt.subplots(1, 2, figsize=(12, 4))\n",
        "\n",
        "results_df.plot(x=\"model\", y=\"val_accuracy\", kind=\"bar\", ax=ax[0], legend=False)\n",
        "ax[0].set_title(\"Accuracy\")\n",
        "ax[0].set_ylabel(\"Accuracy\")\n",
        "ax[0].set_ylim(0, 1)\n",
        "\n",
        "results_df.plot(x=\"model\", y=\"train_time\", kind=\"bar\", ax=ax[1], legend=False)\n",
        "ax[1].set_title(\"Training Time\")\n",
        "ax[1].set_ylabel(\"Seconds\")\n",
        "\n",
        "plt.show()\n"
      ]
    },
    {
      "cell_type": "markdown",
      "metadata": {
        "id": "Uk6S_eemZJeE"
      },
      "source": [
        "### **Interpreting Attention Layers in GPT-2**"
      ]
    },
    {
      "cell_type": "markdown",
      "metadata": {
        "id": "-sBLaR6EZJeE"
      },
      "source": []
    }
  ],
  "metadata": {
    "accelerator": "GPU",
    "colab": {
      "provenance": []
    },
    "gpuClass": "standard",
    "kernelspec": {
      "display_name": "base",
      "language": "python",
      "name": "python3"
    },
    "language_info": {
      "codemirror_mode": {
        "name": "ipython",
        "version": 3
      },
      "file_extension": ".py",
      "mimetype": "text/x-python",
      "name": "python",
      "nbconvert_exporter": "python",
      "pygments_lexer": "ipython3",
      "version": "3.8.13"
    },
    "vscode": {
      "interpreter": {
        "hash": "83d8af4ff1ccf0e43da2803a684c950e5c1874edeab0ee20d27ee23b5d3b3a9c"
      }
    },
    "widgets": {
      "application/vnd.jupyter.widget-state+json": {
        "020a7b76038f48ed8d3eb7bba6fa199f": {
          "model_module": "@jupyter-widgets/base",
          "model_module_version": "1.2.0",
          "model_name": "LayoutModel",
          "state": {
            "_model_module": "@jupyter-widgets/base",
            "_model_module_version": "1.2.0",
            "_model_name": "LayoutModel",
            "_view_count": null,
            "_view_module": "@jupyter-widgets/base",
            "_view_module_version": "1.2.0",
            "_view_name": "LayoutView",
            "align_content": null,
            "align_items": null,
            "align_self": null,
            "border": null,
            "bottom": null,
            "display": null,
            "flex": null,
            "flex_flow": null,
            "grid_area": null,
            "grid_auto_columns": null,
            "grid_auto_flow": null,
            "grid_auto_rows": null,
            "grid_column": null,
            "grid_gap": null,
            "grid_row": null,
            "grid_template_areas": null,
            "grid_template_columns": null,
            "grid_template_rows": null,
            "height": null,
            "justify_content": null,
            "justify_items": null,
            "left": null,
            "margin": null,
            "max_height": null,
            "max_width": null,
            "min_height": null,
            "min_width": null,
            "object_fit": null,
            "object_position": null,
            "order": null,
            "overflow": null,
            "overflow_x": null,
            "overflow_y": null,
            "padding": null,
            "right": null,
            "top": null,
            "visibility": null,
            "width": null
          }
        },
        "04484ea2ebe045eca6da884cb52ed529": {
          "model_module": "@jupyter-widgets/controls",
          "model_module_version": "1.5.0",
          "model_name": "FloatProgressModel",
          "state": {
            "_dom_classes": [],
            "_model_module": "@jupyter-widgets/controls",
            "_model_module_version": "1.5.0",
            "_model_name": "FloatProgressModel",
            "_view_count": null,
            "_view_module": "@jupyter-widgets/controls",
            "_view_module_version": "1.5.0",
            "_view_name": "ProgressView",
            "bar_style": "success",
            "description": "",
            "description_tooltip": null,
            "layout": "IPY_MODEL_7fb205915059427bbb6301c2bd2c1605",
            "max": 438,
            "min": 0,
            "orientation": "horizontal",
            "style": "IPY_MODEL_a6cadd412ea940d2a3716bf77d39c074",
            "value": 438
          }
        },
        "0554d1cbdcbb47d492a32cd6e1b2f5eb": {
          "model_module": "@jupyter-widgets/controls",
          "model_module_version": "1.5.0",
          "model_name": "HBoxModel",
          "state": {
            "_dom_classes": [],
            "_model_module": "@jupyter-widgets/controls",
            "_model_module_version": "1.5.0",
            "_model_name": "HBoxModel",
            "_view_count": null,
            "_view_module": "@jupyter-widgets/controls",
            "_view_module_version": "1.5.0",
            "_view_name": "HBoxView",
            "box_style": "",
            "children": [
              "IPY_MODEL_a0292f82e5cd484bb35589af7060f84c",
              "IPY_MODEL_ce1e49a7de9c4c3787b6bad2fa973f5e",
              "IPY_MODEL_23c13eb3b37643ba86d9880f51fb0d77"
            ],
            "layout": "IPY_MODEL_9fa7093957a94af0a717cda28e788048"
          }
        },
        "0577080e7e824c9cab25b77af1ec6670": {
          "model_module": "@jupyter-widgets/base",
          "model_module_version": "1.2.0",
          "model_name": "LayoutModel",
          "state": {
            "_model_module": "@jupyter-widgets/base",
            "_model_module_version": "1.2.0",
            "_model_name": "LayoutModel",
            "_view_count": null,
            "_view_module": "@jupyter-widgets/base",
            "_view_module_version": "1.2.0",
            "_view_name": "LayoutView",
            "align_content": null,
            "align_items": null,
            "align_self": null,
            "border": null,
            "bottom": null,
            "display": null,
            "flex": null,
            "flex_flow": null,
            "grid_area": null,
            "grid_auto_columns": null,
            "grid_auto_flow": null,
            "grid_auto_rows": null,
            "grid_column": null,
            "grid_gap": null,
            "grid_row": null,
            "grid_template_areas": null,
            "grid_template_columns": null,
            "grid_template_rows": null,
            "height": null,
            "justify_content": null,
            "justify_items": null,
            "left": null,
            "margin": null,
            "max_height": null,
            "max_width": null,
            "min_height": null,
            "min_width": null,
            "object_fit": null,
            "object_position": null,
            "order": null,
            "overflow": null,
            "overflow_x": null,
            "overflow_y": null,
            "padding": null,
            "right": null,
            "top": null,
            "visibility": null,
            "width": null
          }
        },
        "06f7287861f74a55898fd93c76ad5e98": {
          "model_module": "@jupyter-widgets/controls",
          "model_module_version": "1.5.0",
          "model_name": "ProgressStyleModel",
          "state": {
            "_model_module": "@jupyter-widgets/controls",
            "_model_module_version": "1.5.0",
            "_model_name": "ProgressStyleModel",
            "_view_count": null,
            "_view_module": "@jupyter-widgets/base",
            "_view_module_version": "1.2.0",
            "_view_name": "StyleView",
            "bar_color": null,
            "description_width": ""
          }
        },
        "07fa8d3be5c148d4addba6906f341614": {
          "model_module": "@jupyter-widgets/controls",
          "model_module_version": "1.5.0",
          "model_name": "DescriptionStyleModel",
          "state": {
            "_model_module": "@jupyter-widgets/controls",
            "_model_module_version": "1.5.0",
            "_model_name": "DescriptionStyleModel",
            "_view_count": null,
            "_view_module": "@jupyter-widgets/base",
            "_view_module_version": "1.2.0",
            "_view_name": "StyleView",
            "description_width": ""
          }
        },
        "08de2ffee3ba4c7c916fec1af7f3daca": {
          "model_module": "@jupyter-widgets/controls",
          "model_module_version": "1.5.0",
          "model_name": "HTMLModel",
          "state": {
            "_dom_classes": [],
            "_model_module": "@jupyter-widgets/controls",
            "_model_module_version": "1.5.0",
            "_model_name": "HTMLModel",
            "_view_count": null,
            "_view_module": "@jupyter-widgets/controls",
            "_view_module_version": "1.5.0",
            "_view_name": "HTMLView",
            "description": "",
            "description_tooltip": null,
            "layout": "IPY_MODEL_816da4867c1149c8bead35d2d84c9a65",
            "placeholder": "​",
            "style": "IPY_MODEL_aa243c7b446a4fb983a1a74a8d558396",
            "value": " 3/3 [06:41&lt;00:00, 133.99s/it, best_val_acc=tensor(0.9169, device=&#x27;cuda:0&#x27;), val_acc=tensor(0.9169, device=&#x27;cuda:0&#x27;)]"
          }
        },
        "0959cf369c894c4b91301bedb159a491": {
          "model_module": "@jupyter-widgets/base",
          "model_module_version": "1.2.0",
          "model_name": "LayoutModel",
          "state": {
            "_model_module": "@jupyter-widgets/base",
            "_model_module_version": "1.2.0",
            "_model_name": "LayoutModel",
            "_view_count": null,
            "_view_module": "@jupyter-widgets/base",
            "_view_module_version": "1.2.0",
            "_view_name": "LayoutView",
            "align_content": null,
            "align_items": null,
            "align_self": null,
            "border": null,
            "bottom": null,
            "display": null,
            "flex": null,
            "flex_flow": null,
            "grid_area": null,
            "grid_auto_columns": null,
            "grid_auto_flow": null,
            "grid_auto_rows": null,
            "grid_column": null,
            "grid_gap": null,
            "grid_row": null,
            "grid_template_areas": null,
            "grid_template_columns": null,
            "grid_template_rows": null,
            "height": null,
            "justify_content": null,
            "justify_items": null,
            "left": null,
            "margin": null,
            "max_height": null,
            "max_width": null,
            "min_height": null,
            "min_width": null,
            "object_fit": null,
            "object_position": null,
            "order": null,
            "overflow": null,
            "overflow_x": null,
            "overflow_y": null,
            "padding": null,
            "right": null,
            "top": null,
            "visibility": null,
            "width": null
          }
        },
        "0ba02577b1754ecf99ad336ee988200b": {
          "model_module": "@jupyter-widgets/base",
          "model_module_version": "1.2.0",
          "model_name": "LayoutModel",
          "state": {
            "_model_module": "@jupyter-widgets/base",
            "_model_module_version": "1.2.0",
            "_model_name": "LayoutModel",
            "_view_count": null,
            "_view_module": "@jupyter-widgets/base",
            "_view_module_version": "1.2.0",
            "_view_name": "LayoutView",
            "align_content": null,
            "align_items": null,
            "align_self": null,
            "border": null,
            "bottom": null,
            "display": null,
            "flex": null,
            "flex_flow": null,
            "grid_area": null,
            "grid_auto_columns": null,
            "grid_auto_flow": null,
            "grid_auto_rows": null,
            "grid_column": null,
            "grid_gap": null,
            "grid_row": null,
            "grid_template_areas": null,
            "grid_template_columns": null,
            "grid_template_rows": null,
            "height": null,
            "justify_content": null,
            "justify_items": null,
            "left": null,
            "margin": null,
            "max_height": null,
            "max_width": null,
            "min_height": null,
            "min_width": null,
            "object_fit": null,
            "object_position": null,
            "order": null,
            "overflow": null,
            "overflow_x": null,
            "overflow_y": null,
            "padding": null,
            "right": null,
            "top": null,
            "visibility": null,
            "width": null
          }
        },
        "0c552c813a3b4dc0a5bb35a037941af4": {
          "model_module": "@jupyter-widgets/controls",
          "model_module_version": "1.5.0",
          "model_name": "FloatProgressModel",
          "state": {
            "_dom_classes": [],
            "_model_module": "@jupyter-widgets/controls",
            "_model_module_version": "1.5.0",
            "_model_name": "FloatProgressModel",
            "_view_count": null,
            "_view_module": "@jupyter-widgets/controls",
            "_view_module_version": "1.5.0",
            "_view_name": "ProgressView",
            "bar_style": "success",
            "description": "",
            "description_tooltip": null,
            "layout": "IPY_MODEL_aa87888f52274c089087f367a95fec99",
            "max": 1500,
            "min": 0,
            "orientation": "horizontal",
            "style": "IPY_MODEL_dc49084231aa4c2ca4e68a2b142b503a",
            "value": 1500
          }
        },
        "0cc417cee225483899bbb3a7e8c505d0": {
          "model_module": "@jupyter-widgets/controls",
          "model_module_version": "1.5.0",
          "model_name": "HTMLModel",
          "state": {
            "_dom_classes": [],
            "_model_module": "@jupyter-widgets/controls",
            "_model_module_version": "1.5.0",
            "_model_name": "HTMLModel",
            "_view_count": null,
            "_view_module": "@jupyter-widgets/controls",
            "_view_module_version": "1.5.0",
            "_view_name": "HTMLView",
            "description": "",
            "description_tooltip": null,
            "layout": "IPY_MODEL_3e5af7b3f0f54eb4a2e5da59dc262a4f",
            "placeholder": "​",
            "style": "IPY_MODEL_2d96bf6eebeb45cbab01808339cbf235",
            "value": " 1875/1875 [03:42&lt;00:00,  9.80it/s]"
          }
        },
        "11b9d3b5481e4c80aeb63dffe2cef1ff": {
          "model_module": "@jupyter-widgets/controls",
          "model_module_version": "1.5.0",
          "model_name": "DescriptionStyleModel",
          "state": {
            "_model_module": "@jupyter-widgets/controls",
            "_model_module_version": "1.5.0",
            "_model_name": "DescriptionStyleModel",
            "_view_count": null,
            "_view_module": "@jupyter-widgets/base",
            "_view_module_version": "1.2.0",
            "_view_name": "StyleView",
            "description_width": ""
          }
        },
        "1223c059d4c54ab79c73eab6332a7b21": {
          "model_module": "@jupyter-widgets/controls",
          "model_module_version": "1.5.0",
          "model_name": "HTMLModel",
          "state": {
            "_dom_classes": [],
            "_model_module": "@jupyter-widgets/controls",
            "_model_module_version": "1.5.0",
            "_model_name": "HTMLModel",
            "_view_count": null,
            "_view_module": "@jupyter-widgets/controls",
            "_view_module_version": "1.5.0",
            "_view_name": "HTMLView",
            "description": "",
            "description_tooltip": null,
            "layout": "IPY_MODEL_8ed5d5e90be846a7947e779494532d0f",
            "placeholder": "​",
            "style": "IPY_MODEL_4334fa50c83c44ebbfc2a74268a28797",
            "value": " 500/500 [00:42&lt;00:00, 11.84it/s, loss=0.00285]"
          }
        },
        "1abc358a6274423e95474ced97f473a0": {
          "model_module": "@jupyter-widgets/controls",
          "model_module_version": "1.5.0",
          "model_name": "HTMLModel",
          "state": {
            "_dom_classes": [],
            "_model_module": "@jupyter-widgets/controls",
            "_model_module_version": "1.5.0",
            "_model_name": "HTMLModel",
            "_view_count": null,
            "_view_module": "@jupyter-widgets/controls",
            "_view_module_version": "1.5.0",
            "_view_name": "HTMLView",
            "description": "",
            "description_tooltip": null,
            "layout": "IPY_MODEL_0577080e7e824c9cab25b77af1ec6670",
            "placeholder": "​",
            "style": "IPY_MODEL_07fa8d3be5c148d4addba6906f341614",
            "value": "100%"
          }
        },
        "1c7e748ff08745e5b0337f8a157d55e8": {
          "model_module": "@jupyter-widgets/base",
          "model_module_version": "1.2.0",
          "model_name": "LayoutModel",
          "state": {
            "_model_module": "@jupyter-widgets/base",
            "_model_module_version": "1.2.0",
            "_model_name": "LayoutModel",
            "_view_count": null,
            "_view_module": "@jupyter-widgets/base",
            "_view_module_version": "1.2.0",
            "_view_name": "LayoutView",
            "align_content": null,
            "align_items": null,
            "align_self": null,
            "border": null,
            "bottom": null,
            "display": null,
            "flex": null,
            "flex_flow": null,
            "grid_area": null,
            "grid_auto_columns": null,
            "grid_auto_flow": null,
            "grid_auto_rows": null,
            "grid_column": null,
            "grid_gap": null,
            "grid_row": null,
            "grid_template_areas": null,
            "grid_template_columns": null,
            "grid_template_rows": null,
            "height": null,
            "justify_content": null,
            "justify_items": null,
            "left": null,
            "margin": null,
            "max_height": null,
            "max_width": null,
            "min_height": null,
            "min_width": null,
            "object_fit": null,
            "object_position": null,
            "order": null,
            "overflow": null,
            "overflow_x": null,
            "overflow_y": null,
            "padding": null,
            "right": null,
            "top": null,
            "visibility": null,
            "width": null
          }
        },
        "1dd566c1977b4ce2bd470431c473982e": {
          "model_module": "@jupyter-widgets/controls",
          "model_module_version": "1.5.0",
          "model_name": "HTMLModel",
          "state": {
            "_dom_classes": [],
            "_model_module": "@jupyter-widgets/controls",
            "_model_module_version": "1.5.0",
            "_model_name": "HTMLModel",
            "_view_count": null,
            "_view_module": "@jupyter-widgets/controls",
            "_view_module_version": "1.5.0",
            "_view_name": "HTMLView",
            "description": "",
            "description_tooltip": null,
            "layout": "IPY_MODEL_fcea447d7e9e40ac9f851cf5c47c158c",
            "placeholder": "​",
            "style": "IPY_MODEL_90266d6930ef4c1e93f4192bd5073705",
            "value": " 438/438 [00:31&lt;00:00, 14.34it/s, loss=0.445]"
          }
        },
        "1fa47f5868cb436fb75c70a0a9be7be2": {
          "model_module": "@jupyter-widgets/controls",
          "model_module_version": "1.5.0",
          "model_name": "ProgressStyleModel",
          "state": {
            "_model_module": "@jupyter-widgets/controls",
            "_model_module_version": "1.5.0",
            "_model_name": "ProgressStyleModel",
            "_view_count": null,
            "_view_module": "@jupyter-widgets/base",
            "_view_module_version": "1.2.0",
            "_view_name": "StyleView",
            "bar_color": null,
            "description_width": ""
          }
        },
        "200e7ea481564426ad7c1b6bfca21bdd": {
          "model_module": "@jupyter-widgets/base",
          "model_module_version": "1.2.0",
          "model_name": "LayoutModel",
          "state": {
            "_model_module": "@jupyter-widgets/base",
            "_model_module_version": "1.2.0",
            "_model_name": "LayoutModel",
            "_view_count": null,
            "_view_module": "@jupyter-widgets/base",
            "_view_module_version": "1.2.0",
            "_view_name": "LayoutView",
            "align_content": null,
            "align_items": null,
            "align_self": null,
            "border": null,
            "bottom": null,
            "display": null,
            "flex": null,
            "flex_flow": null,
            "grid_area": null,
            "grid_auto_columns": null,
            "grid_auto_flow": null,
            "grid_auto_rows": null,
            "grid_column": null,
            "grid_gap": null,
            "grid_row": null,
            "grid_template_areas": null,
            "grid_template_columns": null,
            "grid_template_rows": null,
            "height": null,
            "justify_content": null,
            "justify_items": null,
            "left": null,
            "margin": null,
            "max_height": null,
            "max_width": null,
            "min_height": null,
            "min_width": null,
            "object_fit": null,
            "object_position": null,
            "order": null,
            "overflow": null,
            "overflow_x": null,
            "overflow_y": null,
            "padding": null,
            "right": null,
            "top": null,
            "visibility": null,
            "width": null
          }
        },
        "23c13eb3b37643ba86d9880f51fb0d77": {
          "model_module": "@jupyter-widgets/controls",
          "model_module_version": "1.5.0",
          "model_name": "HTMLModel",
          "state": {
            "_dom_classes": [],
            "_model_module": "@jupyter-widgets/controls",
            "_model_module_version": "1.5.0",
            "_model_name": "HTMLModel",
            "_view_count": null,
            "_view_module": "@jupyter-widgets/controls",
            "_view_module_version": "1.5.0",
            "_view_name": "HTMLView",
            "description": "",
            "description_tooltip": null,
            "layout": "IPY_MODEL_49fc0ec812f64f029df0bcaeed008bfc",
            "placeholder": "​",
            "style": "IPY_MODEL_2c77e6bb19024878af2fff9f73f187ed",
            "value": " 500/500 [00:37&lt;00:00, 13.49it/s, loss=0.000112]"
          }
        },
        "25b764e1987d4d4c838c1c906e9432a2": {
          "model_module": "@jupyter-widgets/controls",
          "model_module_version": "1.5.0",
          "model_name": "FloatProgressModel",
          "state": {
            "_dom_classes": [],
            "_model_module": "@jupyter-widgets/controls",
            "_model_module_version": "1.5.0",
            "_model_name": "FloatProgressModel",
            "_view_count": null,
            "_view_module": "@jupyter-widgets/controls",
            "_view_module_version": "1.5.0",
            "_view_name": "ProgressView",
            "bar_style": "success",
            "description": "",
            "description_tooltip": null,
            "layout": "IPY_MODEL_4e067eaed661446da131e6dded5f1249",
            "max": 3,
            "min": 0,
            "orientation": "horizontal",
            "style": "IPY_MODEL_06f7287861f74a55898fd93c76ad5e98",
            "value": 3
          }
        },
        "25c6dfc094d449d88a4a1a7035eb6634": {
          "model_module": "@jupyter-widgets/controls",
          "model_module_version": "1.5.0",
          "model_name": "DescriptionStyleModel",
          "state": {
            "_model_module": "@jupyter-widgets/controls",
            "_model_module_version": "1.5.0",
            "_model_name": "DescriptionStyleModel",
            "_view_count": null,
            "_view_module": "@jupyter-widgets/base",
            "_view_module_version": "1.2.0",
            "_view_name": "StyleView",
            "description_width": ""
          }
        },
        "28f6f9040c3640abbabb25f901c5917e": {
          "model_module": "@jupyter-widgets/controls",
          "model_module_version": "1.5.0",
          "model_name": "FloatProgressModel",
          "state": {
            "_dom_classes": [],
            "_model_module": "@jupyter-widgets/controls",
            "_model_module_version": "1.5.0",
            "_model_name": "FloatProgressModel",
            "_view_count": null,
            "_view_module": "@jupyter-widgets/controls",
            "_view_module_version": "1.5.0",
            "_view_name": "ProgressView",
            "bar_style": "success",
            "description": "",
            "description_tooltip": null,
            "layout": "IPY_MODEL_e8b42eb62eea4301994f76354406a91d",
            "max": 500,
            "min": 0,
            "orientation": "horizontal",
            "style": "IPY_MODEL_59118c9dbc2f4e038b3e85726e1c3933",
            "value": 500
          }
        },
        "2b19c04654584a90938f176e93adf8e4": {
          "model_module": "@jupyter-widgets/controls",
          "model_module_version": "1.5.0",
          "model_name": "FloatProgressModel",
          "state": {
            "_dom_classes": [],
            "_model_module": "@jupyter-widgets/controls",
            "_model_module_version": "1.5.0",
            "_model_name": "FloatProgressModel",
            "_view_count": null,
            "_view_module": "@jupyter-widgets/controls",
            "_view_module_version": "1.5.0",
            "_view_name": "ProgressView",
            "bar_style": "success",
            "description": "",
            "description_tooltip": null,
            "layout": "IPY_MODEL_0ba02577b1754ecf99ad336ee988200b",
            "max": 500,
            "min": 0,
            "orientation": "horizontal",
            "style": "IPY_MODEL_4e4f5a370cc240c3a8f46826fb8a695b",
            "value": 500
          }
        },
        "2b2343686561449fa17ecd5f3436f09c": {
          "model_module": "@jupyter-widgets/controls",
          "model_module_version": "1.5.0",
          "model_name": "FloatProgressModel",
          "state": {
            "_dom_classes": [],
            "_model_module": "@jupyter-widgets/controls",
            "_model_module_version": "1.5.0",
            "_model_name": "FloatProgressModel",
            "_view_count": null,
            "_view_module": "@jupyter-widgets/controls",
            "_view_module_version": "1.5.0",
            "_view_name": "ProgressView",
            "bar_style": "",
            "description": "",
            "description_tooltip": null,
            "layout": "IPY_MODEL_8dd1909cedf242c1be6c9cedba1441f9",
            "max": 1,
            "min": 0,
            "orientation": "horizontal",
            "style": "IPY_MODEL_b0a43c81b0524dcb867f6e17cb33d7ac",
            "value": 0
          }
        },
        "2c476815fb184d5790d781a08f9c5519": {
          "model_module": "@jupyter-widgets/base",
          "model_module_version": "1.2.0",
          "model_name": "LayoutModel",
          "state": {
            "_model_module": "@jupyter-widgets/base",
            "_model_module_version": "1.2.0",
            "_model_name": "LayoutModel",
            "_view_count": null,
            "_view_module": "@jupyter-widgets/base",
            "_view_module_version": "1.2.0",
            "_view_name": "LayoutView",
            "align_content": null,
            "align_items": null,
            "align_self": null,
            "border": null,
            "bottom": null,
            "display": null,
            "flex": null,
            "flex_flow": null,
            "grid_area": null,
            "grid_auto_columns": null,
            "grid_auto_flow": null,
            "grid_auto_rows": null,
            "grid_column": null,
            "grid_gap": null,
            "grid_row": null,
            "grid_template_areas": null,
            "grid_template_columns": null,
            "grid_template_rows": null,
            "height": null,
            "justify_content": null,
            "justify_items": null,
            "left": null,
            "margin": null,
            "max_height": null,
            "max_width": null,
            "min_height": null,
            "min_width": null,
            "object_fit": null,
            "object_position": null,
            "order": null,
            "overflow": null,
            "overflow_x": null,
            "overflow_y": null,
            "padding": null,
            "right": null,
            "top": null,
            "visibility": null,
            "width": null
          }
        },
        "2c77e6bb19024878af2fff9f73f187ed": {
          "model_module": "@jupyter-widgets/controls",
          "model_module_version": "1.5.0",
          "model_name": "DescriptionStyleModel",
          "state": {
            "_model_module": "@jupyter-widgets/controls",
            "_model_module_version": "1.5.0",
            "_model_name": "DescriptionStyleModel",
            "_view_count": null,
            "_view_module": "@jupyter-widgets/base",
            "_view_module_version": "1.2.0",
            "_view_name": "StyleView",
            "description_width": ""
          }
        },
        "2d96bf6eebeb45cbab01808339cbf235": {
          "model_module": "@jupyter-widgets/controls",
          "model_module_version": "1.5.0",
          "model_name": "DescriptionStyleModel",
          "state": {
            "_model_module": "@jupyter-widgets/controls",
            "_model_module_version": "1.5.0",
            "_model_name": "DescriptionStyleModel",
            "_view_count": null,
            "_view_module": "@jupyter-widgets/base",
            "_view_module_version": "1.2.0",
            "_view_name": "StyleView",
            "description_width": ""
          }
        },
        "3332c07185a0464b813031e85e3092d0": {
          "model_module": "@jupyter-widgets/controls",
          "model_module_version": "1.5.0",
          "model_name": "HBoxModel",
          "state": {
            "_dom_classes": [],
            "_model_module": "@jupyter-widgets/controls",
            "_model_module_version": "1.5.0",
            "_model_name": "HBoxModel",
            "_view_count": null,
            "_view_module": "@jupyter-widgets/controls",
            "_view_module_version": "1.5.0",
            "_view_name": "HBoxView",
            "box_style": "",
            "children": [
              "IPY_MODEL_3d76d37a6fbf4825b83e731257b3d77f",
              "IPY_MODEL_2b2343686561449fa17ecd5f3436f09c",
              "IPY_MODEL_b9c86d011d2143c097642c9f536d31d3"
            ],
            "layout": "IPY_MODEL_1c7e748ff08745e5b0337f8a157d55e8"
          }
        },
        "357675a55e414e489933c825fe021ce6": {
          "model_module": "@jupyter-widgets/controls",
          "model_module_version": "1.5.0",
          "model_name": "DescriptionStyleModel",
          "state": {
            "_model_module": "@jupyter-widgets/controls",
            "_model_module_version": "1.5.0",
            "_model_name": "DescriptionStyleModel",
            "_view_count": null,
            "_view_module": "@jupyter-widgets/base",
            "_view_module_version": "1.2.0",
            "_view_name": "StyleView",
            "description_width": ""
          }
        },
        "357dea336ada4bf3bdc62859ed4678cc": {
          "model_module": "@jupyter-widgets/base",
          "model_module_version": "1.2.0",
          "model_name": "LayoutModel",
          "state": {
            "_model_module": "@jupyter-widgets/base",
            "_model_module_version": "1.2.0",
            "_model_name": "LayoutModel",
            "_view_count": null,
            "_view_module": "@jupyter-widgets/base",
            "_view_module_version": "1.2.0",
            "_view_name": "LayoutView",
            "align_content": null,
            "align_items": null,
            "align_self": null,
            "border": null,
            "bottom": null,
            "display": null,
            "flex": null,
            "flex_flow": null,
            "grid_area": null,
            "grid_auto_columns": null,
            "grid_auto_flow": null,
            "grid_auto_rows": null,
            "grid_column": null,
            "grid_gap": null,
            "grid_row": null,
            "grid_template_areas": null,
            "grid_template_columns": null,
            "grid_template_rows": null,
            "height": null,
            "justify_content": null,
            "justify_items": null,
            "left": null,
            "margin": null,
            "max_height": null,
            "max_width": null,
            "min_height": null,
            "min_width": null,
            "object_fit": null,
            "object_position": null,
            "order": null,
            "overflow": null,
            "overflow_x": null,
            "overflow_y": null,
            "padding": null,
            "right": null,
            "top": null,
            "visibility": null,
            "width": null
          }
        },
        "37c1f6e3c8c445f1936b8dc7ce1114a1": {
          "model_module": "@jupyter-widgets/controls",
          "model_module_version": "1.5.0",
          "model_name": "HTMLModel",
          "state": {
            "_dom_classes": [],
            "_model_module": "@jupyter-widgets/controls",
            "_model_module_version": "1.5.0",
            "_model_name": "HTMLModel",
            "_view_count": null,
            "_view_module": "@jupyter-widgets/controls",
            "_view_module_version": "1.5.0",
            "_view_name": "HTMLView",
            "description": "",
            "description_tooltip": null,
            "layout": "IPY_MODEL_b2e27757c69740d19427ae9f78b78afd",
            "placeholder": "​",
            "style": "IPY_MODEL_c16470a55b9f49e68447a3fc4e20cf97",
            "value": " 1500/1500 [02:02&lt;00:00, 13.56it/s, loss=0.214]"
          }
        },
        "3d76d37a6fbf4825b83e731257b3d77f": {
          "model_module": "@jupyter-widgets/controls",
          "model_module_version": "1.5.0",
          "model_name": "HTMLModel",
          "state": {
            "_dom_classes": [],
            "_model_module": "@jupyter-widgets/controls",
            "_model_module_version": "1.5.0",
            "_model_name": "HTMLModel",
            "_view_count": null,
            "_view_module": "@jupyter-widgets/controls",
            "_view_module_version": "1.5.0",
            "_view_name": "HTMLView",
            "description": "",
            "description_tooltip": null,
            "layout": "IPY_MODEL_421c67f5afe548549497baefb520e5fe",
            "placeholder": "​",
            "style": "IPY_MODEL_bb5c83a1a09845c3a62922b3de0ddd47",
            "value": "  0%"
          }
        },
        "3d9adb6616064661bddd48919e5c495d": {
          "model_module": "@jupyter-widgets/base",
          "model_module_version": "1.2.0",
          "model_name": "LayoutModel",
          "state": {
            "_model_module": "@jupyter-widgets/base",
            "_model_module_version": "1.2.0",
            "_model_name": "LayoutModel",
            "_view_count": null,
            "_view_module": "@jupyter-widgets/base",
            "_view_module_version": "1.2.0",
            "_view_name": "LayoutView",
            "align_content": null,
            "align_items": null,
            "align_self": null,
            "border": null,
            "bottom": null,
            "display": null,
            "flex": null,
            "flex_flow": null,
            "grid_area": null,
            "grid_auto_columns": null,
            "grid_auto_flow": null,
            "grid_auto_rows": null,
            "grid_column": null,
            "grid_gap": null,
            "grid_row": null,
            "grid_template_areas": null,
            "grid_template_columns": null,
            "grid_template_rows": null,
            "height": null,
            "justify_content": null,
            "justify_items": null,
            "left": null,
            "margin": null,
            "max_height": null,
            "max_width": null,
            "min_height": null,
            "min_width": null,
            "object_fit": null,
            "object_position": null,
            "order": null,
            "overflow": null,
            "overflow_x": null,
            "overflow_y": null,
            "padding": null,
            "right": null,
            "top": null,
            "visibility": null,
            "width": null
          }
        },
        "3e5af7b3f0f54eb4a2e5da59dc262a4f": {
          "model_module": "@jupyter-widgets/base",
          "model_module_version": "1.2.0",
          "model_name": "LayoutModel",
          "state": {
            "_model_module": "@jupyter-widgets/base",
            "_model_module_version": "1.2.0",
            "_model_name": "LayoutModel",
            "_view_count": null,
            "_view_module": "@jupyter-widgets/base",
            "_view_module_version": "1.2.0",
            "_view_name": "LayoutView",
            "align_content": null,
            "align_items": null,
            "align_self": null,
            "border": null,
            "bottom": null,
            "display": null,
            "flex": null,
            "flex_flow": null,
            "grid_area": null,
            "grid_auto_columns": null,
            "grid_auto_flow": null,
            "grid_auto_rows": null,
            "grid_column": null,
            "grid_gap": null,
            "grid_row": null,
            "grid_template_areas": null,
            "grid_template_columns": null,
            "grid_template_rows": null,
            "height": null,
            "justify_content": null,
            "justify_items": null,
            "left": null,
            "margin": null,
            "max_height": null,
            "max_width": null,
            "min_height": null,
            "min_width": null,
            "object_fit": null,
            "object_position": null,
            "order": null,
            "overflow": null,
            "overflow_x": null,
            "overflow_y": null,
            "padding": null,
            "right": null,
            "top": null,
            "visibility": null,
            "width": null
          }
        },
        "409d38b7856e4e1bab300a8871c19941": {
          "model_module": "@jupyter-widgets/controls",
          "model_module_version": "1.5.0",
          "model_name": "DescriptionStyleModel",
          "state": {
            "_model_module": "@jupyter-widgets/controls",
            "_model_module_version": "1.5.0",
            "_model_name": "DescriptionStyleModel",
            "_view_count": null,
            "_view_module": "@jupyter-widgets/base",
            "_view_module_version": "1.2.0",
            "_view_name": "StyleView",
            "description_width": ""
          }
        },
        "416409bf0953400c8ebb35b683913f3e": {
          "model_module": "@jupyter-widgets/base",
          "model_module_version": "1.2.0",
          "model_name": "LayoutModel",
          "state": {
            "_model_module": "@jupyter-widgets/base",
            "_model_module_version": "1.2.0",
            "_model_name": "LayoutModel",
            "_view_count": null,
            "_view_module": "@jupyter-widgets/base",
            "_view_module_version": "1.2.0",
            "_view_name": "LayoutView",
            "align_content": null,
            "align_items": null,
            "align_self": null,
            "border": null,
            "bottom": null,
            "display": null,
            "flex": null,
            "flex_flow": null,
            "grid_area": null,
            "grid_auto_columns": null,
            "grid_auto_flow": null,
            "grid_auto_rows": null,
            "grid_column": null,
            "grid_gap": null,
            "grid_row": null,
            "grid_template_areas": null,
            "grid_template_columns": null,
            "grid_template_rows": null,
            "height": null,
            "justify_content": null,
            "justify_items": null,
            "left": null,
            "margin": null,
            "max_height": null,
            "max_width": null,
            "min_height": null,
            "min_width": null,
            "object_fit": null,
            "object_position": null,
            "order": null,
            "overflow": null,
            "overflow_x": null,
            "overflow_y": null,
            "padding": null,
            "right": null,
            "top": null,
            "visibility": null,
            "width": null
          }
        },
        "421c67f5afe548549497baefb520e5fe": {
          "model_module": "@jupyter-widgets/base",
          "model_module_version": "1.2.0",
          "model_name": "LayoutModel",
          "state": {
            "_model_module": "@jupyter-widgets/base",
            "_model_module_version": "1.2.0",
            "_model_name": "LayoutModel",
            "_view_count": null,
            "_view_module": "@jupyter-widgets/base",
            "_view_module_version": "1.2.0",
            "_view_name": "LayoutView",
            "align_content": null,
            "align_items": null,
            "align_self": null,
            "border": null,
            "bottom": null,
            "display": null,
            "flex": null,
            "flex_flow": null,
            "grid_area": null,
            "grid_auto_columns": null,
            "grid_auto_flow": null,
            "grid_auto_rows": null,
            "grid_column": null,
            "grid_gap": null,
            "grid_row": null,
            "grid_template_areas": null,
            "grid_template_columns": null,
            "grid_template_rows": null,
            "height": null,
            "justify_content": null,
            "justify_items": null,
            "left": null,
            "margin": null,
            "max_height": null,
            "max_width": null,
            "min_height": null,
            "min_width": null,
            "object_fit": null,
            "object_position": null,
            "order": null,
            "overflow": null,
            "overflow_x": null,
            "overflow_y": null,
            "padding": null,
            "right": null,
            "top": null,
            "visibility": null,
            "width": null
          }
        },
        "4334fa50c83c44ebbfc2a74268a28797": {
          "model_module": "@jupyter-widgets/controls",
          "model_module_version": "1.5.0",
          "model_name": "DescriptionStyleModel",
          "state": {
            "_model_module": "@jupyter-widgets/controls",
            "_model_module_version": "1.5.0",
            "_model_name": "DescriptionStyleModel",
            "_view_count": null,
            "_view_module": "@jupyter-widgets/base",
            "_view_module_version": "1.2.0",
            "_view_name": "StyleView",
            "description_width": ""
          }
        },
        "452016ad2efc41a78363c279f0b4be8a": {
          "model_module": "@jupyter-widgets/base",
          "model_module_version": "1.2.0",
          "model_name": "LayoutModel",
          "state": {
            "_model_module": "@jupyter-widgets/base",
            "_model_module_version": "1.2.0",
            "_model_name": "LayoutModel",
            "_view_count": null,
            "_view_module": "@jupyter-widgets/base",
            "_view_module_version": "1.2.0",
            "_view_name": "LayoutView",
            "align_content": null,
            "align_items": null,
            "align_self": null,
            "border": null,
            "bottom": null,
            "display": null,
            "flex": null,
            "flex_flow": null,
            "grid_area": null,
            "grid_auto_columns": null,
            "grid_auto_flow": null,
            "grid_auto_rows": null,
            "grid_column": null,
            "grid_gap": null,
            "grid_row": null,
            "grid_template_areas": null,
            "grid_template_columns": null,
            "grid_template_rows": null,
            "height": null,
            "justify_content": null,
            "justify_items": null,
            "left": null,
            "margin": null,
            "max_height": null,
            "max_width": null,
            "min_height": null,
            "min_width": null,
            "object_fit": null,
            "object_position": null,
            "order": null,
            "overflow": null,
            "overflow_x": null,
            "overflow_y": null,
            "padding": null,
            "right": null,
            "top": null,
            "visibility": null,
            "width": null
          }
        },
        "453dd7631cc740eba31c5217443effbb": {
          "model_module": "@jupyter-widgets/controls",
          "model_module_version": "1.5.0",
          "model_name": "DescriptionStyleModel",
          "state": {
            "_model_module": "@jupyter-widgets/controls",
            "_model_module_version": "1.5.0",
            "_model_name": "DescriptionStyleModel",
            "_view_count": null,
            "_view_module": "@jupyter-widgets/base",
            "_view_module_version": "1.2.0",
            "_view_name": "StyleView",
            "description_width": ""
          }
        },
        "45635780909f4c24836c2338dff08d12": {
          "model_module": "@jupyter-widgets/controls",
          "model_module_version": "1.5.0",
          "model_name": "HTMLModel",
          "state": {
            "_dom_classes": [],
            "_model_module": "@jupyter-widgets/controls",
            "_model_module_version": "1.5.0",
            "_model_name": "HTMLModel",
            "_view_count": null,
            "_view_module": "@jupyter-widgets/controls",
            "_view_module_version": "1.5.0",
            "_view_name": "HTMLView",
            "description": "",
            "description_tooltip": null,
            "layout": "IPY_MODEL_416409bf0953400c8ebb35b683913f3e",
            "placeholder": "​",
            "style": "IPY_MODEL_25c6dfc094d449d88a4a1a7035eb6634",
            "value": " 62/438 [00:13&lt;01:21,  4.61it/s, loss=0.69]"
          }
        },
        "464b3c8e5d3a4e02ac019bd12c9202ba": {
          "model_module": "@jupyter-widgets/base",
          "model_module_version": "1.2.0",
          "model_name": "LayoutModel",
          "state": {
            "_model_module": "@jupyter-widgets/base",
            "_model_module_version": "1.2.0",
            "_model_name": "LayoutModel",
            "_view_count": null,
            "_view_module": "@jupyter-widgets/base",
            "_view_module_version": "1.2.0",
            "_view_name": "LayoutView",
            "align_content": null,
            "align_items": null,
            "align_self": null,
            "border": null,
            "bottom": null,
            "display": null,
            "flex": null,
            "flex_flow": null,
            "grid_area": null,
            "grid_auto_columns": null,
            "grid_auto_flow": null,
            "grid_auto_rows": null,
            "grid_column": null,
            "grid_gap": null,
            "grid_row": null,
            "grid_template_areas": null,
            "grid_template_columns": null,
            "grid_template_rows": null,
            "height": null,
            "justify_content": null,
            "justify_items": null,
            "left": null,
            "margin": null,
            "max_height": null,
            "max_width": null,
            "min_height": null,
            "min_width": null,
            "object_fit": null,
            "object_position": null,
            "order": null,
            "overflow": null,
            "overflow_x": null,
            "overflow_y": null,
            "padding": null,
            "right": null,
            "top": null,
            "visibility": null,
            "width": null
          }
        },
        "48b1bdf53dca43828691c5ff1781a424": {
          "model_module": "@jupyter-widgets/controls",
          "model_module_version": "1.5.0",
          "model_name": "HBoxModel",
          "state": {
            "_dom_classes": [],
            "_model_module": "@jupyter-widgets/controls",
            "_model_module_version": "1.5.0",
            "_model_name": "HBoxModel",
            "_view_count": null,
            "_view_module": "@jupyter-widgets/controls",
            "_view_module_version": "1.5.0",
            "_view_name": "HBoxView",
            "box_style": "",
            "children": [
              "IPY_MODEL_4c6324e0cef54ae8ae6a11334f97cc12",
              "IPY_MODEL_d97f00cdf4df4c818c6fb8db5f0109e4",
              "IPY_MODEL_70703cb8d8bf46aeba813b933ff206f8"
            ],
            "layout": "IPY_MODEL_c34ea308297649cd9cd7802c2a1b8418"
          }
        },
        "49fc0ec812f64f029df0bcaeed008bfc": {
          "model_module": "@jupyter-widgets/base",
          "model_module_version": "1.2.0",
          "model_name": "LayoutModel",
          "state": {
            "_model_module": "@jupyter-widgets/base",
            "_model_module_version": "1.2.0",
            "_model_name": "LayoutModel",
            "_view_count": null,
            "_view_module": "@jupyter-widgets/base",
            "_view_module_version": "1.2.0",
            "_view_name": "LayoutView",
            "align_content": null,
            "align_items": null,
            "align_self": null,
            "border": null,
            "bottom": null,
            "display": null,
            "flex": null,
            "flex_flow": null,
            "grid_area": null,
            "grid_auto_columns": null,
            "grid_auto_flow": null,
            "grid_auto_rows": null,
            "grid_column": null,
            "grid_gap": null,
            "grid_row": null,
            "grid_template_areas": null,
            "grid_template_columns": null,
            "grid_template_rows": null,
            "height": null,
            "justify_content": null,
            "justify_items": null,
            "left": null,
            "margin": null,
            "max_height": null,
            "max_width": null,
            "min_height": null,
            "min_width": null,
            "object_fit": null,
            "object_position": null,
            "order": null,
            "overflow": null,
            "overflow_x": null,
            "overflow_y": null,
            "padding": null,
            "right": null,
            "top": null,
            "visibility": null,
            "width": null
          }
        },
        "4c6324e0cef54ae8ae6a11334f97cc12": {
          "model_module": "@jupyter-widgets/controls",
          "model_module_version": "1.5.0",
          "model_name": "HTMLModel",
          "state": {
            "_dom_classes": [],
            "_model_module": "@jupyter-widgets/controls",
            "_model_module_version": "1.5.0",
            "_model_name": "HTMLModel",
            "_view_count": null,
            "_view_module": "@jupyter-widgets/controls",
            "_view_module_version": "1.5.0",
            "_view_name": "HTMLView",
            "description": "",
            "description_tooltip": null,
            "layout": "IPY_MODEL_f8fa56c5aced471bb04e6cf84a3e165b",
            "placeholder": "​",
            "style": "IPY_MODEL_11b9d3b5481e4c80aeb63dffe2cef1ff",
            "value": "100%"
          }
        },
        "4da7f76643634c12a11b0947dcb42bf1": {
          "model_module": "@jupyter-widgets/controls",
          "model_module_version": "1.5.0",
          "model_name": "HBoxModel",
          "state": {
            "_dom_classes": [],
            "_model_module": "@jupyter-widgets/controls",
            "_model_module_version": "1.5.0",
            "_model_name": "HBoxModel",
            "_view_count": null,
            "_view_module": "@jupyter-widgets/controls",
            "_view_module_version": "1.5.0",
            "_view_name": "HBoxView",
            "box_style": "",
            "children": [
              "IPY_MODEL_f207b8fc38074d4d9b95cc06cc9d14a8",
              "IPY_MODEL_bf3ed18ac1da40a0ab360224849138ce",
              "IPY_MODEL_37c1f6e3c8c445f1936b8dc7ce1114a1"
            ],
            "layout": "IPY_MODEL_672e9f840886437e9f94f1ef1c42a81b"
          }
        },
        "4db9aeefcaa64f5891044109a3a12d39": {
          "model_module": "@jupyter-widgets/base",
          "model_module_version": "1.2.0",
          "model_name": "LayoutModel",
          "state": {
            "_model_module": "@jupyter-widgets/base",
            "_model_module_version": "1.2.0",
            "_model_name": "LayoutModel",
            "_view_count": null,
            "_view_module": "@jupyter-widgets/base",
            "_view_module_version": "1.2.0",
            "_view_name": "LayoutView",
            "align_content": null,
            "align_items": null,
            "align_self": null,
            "border": null,
            "bottom": null,
            "display": null,
            "flex": null,
            "flex_flow": null,
            "grid_area": null,
            "grid_auto_columns": null,
            "grid_auto_flow": null,
            "grid_auto_rows": null,
            "grid_column": null,
            "grid_gap": null,
            "grid_row": null,
            "grid_template_areas": null,
            "grid_template_columns": null,
            "grid_template_rows": null,
            "height": null,
            "justify_content": null,
            "justify_items": null,
            "left": null,
            "margin": null,
            "max_height": null,
            "max_width": null,
            "min_height": null,
            "min_width": null,
            "object_fit": null,
            "object_position": null,
            "order": null,
            "overflow": null,
            "overflow_x": null,
            "overflow_y": null,
            "padding": null,
            "right": null,
            "top": null,
            "visibility": null,
            "width": null
          }
        },
        "4e067eaed661446da131e6dded5f1249": {
          "model_module": "@jupyter-widgets/base",
          "model_module_version": "1.2.0",
          "model_name": "LayoutModel",
          "state": {
            "_model_module": "@jupyter-widgets/base",
            "_model_module_version": "1.2.0",
            "_model_name": "LayoutModel",
            "_view_count": null,
            "_view_module": "@jupyter-widgets/base",
            "_view_module_version": "1.2.0",
            "_view_name": "LayoutView",
            "align_content": null,
            "align_items": null,
            "align_self": null,
            "border": null,
            "bottom": null,
            "display": null,
            "flex": null,
            "flex_flow": null,
            "grid_area": null,
            "grid_auto_columns": null,
            "grid_auto_flow": null,
            "grid_auto_rows": null,
            "grid_column": null,
            "grid_gap": null,
            "grid_row": null,
            "grid_template_areas": null,
            "grid_template_columns": null,
            "grid_template_rows": null,
            "height": null,
            "justify_content": null,
            "justify_items": null,
            "left": null,
            "margin": null,
            "max_height": null,
            "max_width": null,
            "min_height": null,
            "min_width": null,
            "object_fit": null,
            "object_position": null,
            "order": null,
            "overflow": null,
            "overflow_x": null,
            "overflow_y": null,
            "padding": null,
            "right": null,
            "top": null,
            "visibility": null,
            "width": null
          }
        },
        "4e4f5a370cc240c3a8f46826fb8a695b": {
          "model_module": "@jupyter-widgets/controls",
          "model_module_version": "1.5.0",
          "model_name": "ProgressStyleModel",
          "state": {
            "_model_module": "@jupyter-widgets/controls",
            "_model_module_version": "1.5.0",
            "_model_name": "ProgressStyleModel",
            "_view_count": null,
            "_view_module": "@jupyter-widgets/base",
            "_view_module_version": "1.2.0",
            "_view_name": "StyleView",
            "bar_color": null,
            "description_width": ""
          }
        },
        "4fce80732d7c4d94b6be0612f007be6d": {
          "model_module": "@jupyter-widgets/controls",
          "model_module_version": "1.5.0",
          "model_name": "HTMLModel",
          "state": {
            "_dom_classes": [],
            "_model_module": "@jupyter-widgets/controls",
            "_model_module_version": "1.5.0",
            "_model_name": "HTMLModel",
            "_view_count": null,
            "_view_module": "@jupyter-widgets/controls",
            "_view_module_version": "1.5.0",
            "_view_name": "HTMLView",
            "description": "",
            "description_tooltip": null,
            "layout": "IPY_MODEL_c33cb9677b6a44498725b11f3098892c",
            "placeholder": "​",
            "style": "IPY_MODEL_b9d057b630204818afecb0a169c252e8",
            "value": " 500/500 [00:42&lt;00:00, 13.43it/s, loss=0.0015]"
          }
        },
        "5077a83f9e684a2e9215bb7a612d551b": {
          "model_module": "@jupyter-widgets/controls",
          "model_module_version": "1.5.0",
          "model_name": "ProgressStyleModel",
          "state": {
            "_model_module": "@jupyter-widgets/controls",
            "_model_module_version": "1.5.0",
            "_model_name": "ProgressStyleModel",
            "_view_count": null,
            "_view_module": "@jupyter-widgets/base",
            "_view_module_version": "1.2.0",
            "_view_name": "StyleView",
            "bar_color": null,
            "description_width": ""
          }
        },
        "538695fe9eb54f44aea3c35505c7f0ab": {
          "model_module": "@jupyter-widgets/controls",
          "model_module_version": "1.5.0",
          "model_name": "HBoxModel",
          "state": {
            "_dom_classes": [],
            "_model_module": "@jupyter-widgets/controls",
            "_model_module_version": "1.5.0",
            "_model_name": "HBoxModel",
            "_view_count": null,
            "_view_module": "@jupyter-widgets/controls",
            "_view_module_version": "1.5.0",
            "_view_name": "HBoxView",
            "box_style": "",
            "children": [
              "IPY_MODEL_1abc358a6274423e95474ced97f473a0",
              "IPY_MODEL_e23b5257e6ad43aba551376fd5e8a287",
              "IPY_MODEL_63aee226c0d74ad5b81ab19221a99e1e"
            ],
            "layout": "IPY_MODEL_464b3c8e5d3a4e02ac019bd12c9202ba"
          }
        },
        "59118c9dbc2f4e038b3e85726e1c3933": {
          "model_module": "@jupyter-widgets/controls",
          "model_module_version": "1.5.0",
          "model_name": "ProgressStyleModel",
          "state": {
            "_model_module": "@jupyter-widgets/controls",
            "_model_module_version": "1.5.0",
            "_model_name": "ProgressStyleModel",
            "_view_count": null,
            "_view_module": "@jupyter-widgets/base",
            "_view_module_version": "1.2.0",
            "_view_name": "StyleView",
            "bar_color": null,
            "description_width": ""
          }
        },
        "59d7aaf0304d4b4f890768223a45b3b9": {
          "model_module": "@jupyter-widgets/controls",
          "model_module_version": "1.5.0",
          "model_name": "DescriptionStyleModel",
          "state": {
            "_model_module": "@jupyter-widgets/controls",
            "_model_module_version": "1.5.0",
            "_model_name": "DescriptionStyleModel",
            "_view_count": null,
            "_view_module": "@jupyter-widgets/base",
            "_view_module_version": "1.2.0",
            "_view_name": "StyleView",
            "description_width": ""
          }
        },
        "5be1195aa25543f6a85d09442f98330c": {
          "model_module": "@jupyter-widgets/controls",
          "model_module_version": "1.5.0",
          "model_name": "HTMLModel",
          "state": {
            "_dom_classes": [],
            "_model_module": "@jupyter-widgets/controls",
            "_model_module_version": "1.5.0",
            "_model_name": "HTMLModel",
            "_view_count": null,
            "_view_module": "@jupyter-widgets/controls",
            "_view_module_version": "1.5.0",
            "_view_name": "HTMLView",
            "description": "",
            "description_tooltip": null,
            "layout": "IPY_MODEL_be82c881ab91476db0207777a23cce88",
            "placeholder": "​",
            "style": "IPY_MODEL_debb79cf17dd4ec6bc43f8295b8d8642",
            "value": "100%"
          }
        },
        "5d7135c15bca4cb983f1a013eb73b374": {
          "model_module": "@jupyter-widgets/base",
          "model_module_version": "1.2.0",
          "model_name": "LayoutModel",
          "state": {
            "_model_module": "@jupyter-widgets/base",
            "_model_module_version": "1.2.0",
            "_model_name": "LayoutModel",
            "_view_count": null,
            "_view_module": "@jupyter-widgets/base",
            "_view_module_version": "1.2.0",
            "_view_name": "LayoutView",
            "align_content": null,
            "align_items": null,
            "align_self": null,
            "border": null,
            "bottom": null,
            "display": null,
            "flex": null,
            "flex_flow": null,
            "grid_area": null,
            "grid_auto_columns": null,
            "grid_auto_flow": null,
            "grid_auto_rows": null,
            "grid_column": null,
            "grid_gap": null,
            "grid_row": null,
            "grid_template_areas": null,
            "grid_template_columns": null,
            "grid_template_rows": null,
            "height": null,
            "justify_content": null,
            "justify_items": null,
            "left": null,
            "margin": null,
            "max_height": null,
            "max_width": null,
            "min_height": null,
            "min_width": null,
            "object_fit": null,
            "object_position": null,
            "order": null,
            "overflow": null,
            "overflow_x": null,
            "overflow_y": null,
            "padding": null,
            "right": null,
            "top": null,
            "visibility": null,
            "width": null
          }
        },
        "5dcbde039c13423fb0fc27151f75316c": {
          "model_module": "@jupyter-widgets/controls",
          "model_module_version": "1.5.0",
          "model_name": "DescriptionStyleModel",
          "state": {
            "_model_module": "@jupyter-widgets/controls",
            "_model_module_version": "1.5.0",
            "_model_name": "DescriptionStyleModel",
            "_view_count": null,
            "_view_module": "@jupyter-widgets/base",
            "_view_module_version": "1.2.0",
            "_view_name": "StyleView",
            "description_width": ""
          }
        },
        "5eb581f298e34272a721ff0587ffa370": {
          "model_module": "@jupyter-widgets/controls",
          "model_module_version": "1.5.0",
          "model_name": "HBoxModel",
          "state": {
            "_dom_classes": [],
            "_model_module": "@jupyter-widgets/controls",
            "_model_module_version": "1.5.0",
            "_model_name": "HBoxModel",
            "_view_count": null,
            "_view_module": "@jupyter-widgets/controls",
            "_view_module_version": "1.5.0",
            "_view_name": "HBoxView",
            "box_style": "",
            "children": [
              "IPY_MODEL_a83fc498fb9842cbb51e5dc0d01f04e6",
              "IPY_MODEL_2b19c04654584a90938f176e93adf8e4",
              "IPY_MODEL_4fce80732d7c4d94b6be0612f007be6d"
            ],
            "layout": "IPY_MODEL_5d7135c15bca4cb983f1a013eb73b374"
          }
        },
        "616647b4c43a4e82a3db32a5fd6dd49c": {
          "model_module": "@jupyter-widgets/controls",
          "model_module_version": "1.5.0",
          "model_name": "ProgressStyleModel",
          "state": {
            "_model_module": "@jupyter-widgets/controls",
            "_model_module_version": "1.5.0",
            "_model_name": "ProgressStyleModel",
            "_view_count": null,
            "_view_module": "@jupyter-widgets/base",
            "_view_module_version": "1.2.0",
            "_view_name": "StyleView",
            "bar_color": null,
            "description_width": ""
          }
        },
        "616a589396d24e08a382050ddcedc71b": {
          "model_module": "@jupyter-widgets/controls",
          "model_module_version": "1.5.0",
          "model_name": "ProgressStyleModel",
          "state": {
            "_model_module": "@jupyter-widgets/controls",
            "_model_module_version": "1.5.0",
            "_model_name": "ProgressStyleModel",
            "_view_count": null,
            "_view_module": "@jupyter-widgets/base",
            "_view_module_version": "1.2.0",
            "_view_name": "StyleView",
            "bar_color": null,
            "description_width": ""
          }
        },
        "61bc0d413a8d477c89f03ca3cb4cd82d": {
          "model_module": "@jupyter-widgets/base",
          "model_module_version": "1.2.0",
          "model_name": "LayoutModel",
          "state": {
            "_model_module": "@jupyter-widgets/base",
            "_model_module_version": "1.2.0",
            "_model_name": "LayoutModel",
            "_view_count": null,
            "_view_module": "@jupyter-widgets/base",
            "_view_module_version": "1.2.0",
            "_view_name": "LayoutView",
            "align_content": null,
            "align_items": null,
            "align_self": null,
            "border": null,
            "bottom": null,
            "display": null,
            "flex": null,
            "flex_flow": null,
            "grid_area": null,
            "grid_auto_columns": null,
            "grid_auto_flow": null,
            "grid_auto_rows": null,
            "grid_column": null,
            "grid_gap": null,
            "grid_row": null,
            "grid_template_areas": null,
            "grid_template_columns": null,
            "grid_template_rows": null,
            "height": null,
            "justify_content": null,
            "justify_items": null,
            "left": null,
            "margin": null,
            "max_height": null,
            "max_width": null,
            "min_height": null,
            "min_width": null,
            "object_fit": null,
            "object_position": null,
            "order": null,
            "overflow": null,
            "overflow_x": null,
            "overflow_y": null,
            "padding": null,
            "right": null,
            "top": null,
            "visibility": null,
            "width": null
          }
        },
        "635b0683028e4981985499655a2538f5": {
          "model_module": "@jupyter-widgets/controls",
          "model_module_version": "1.5.0",
          "model_name": "HBoxModel",
          "state": {
            "_dom_classes": [],
            "_model_module": "@jupyter-widgets/controls",
            "_model_module_version": "1.5.0",
            "_model_name": "HBoxModel",
            "_view_count": null,
            "_view_module": "@jupyter-widgets/controls",
            "_view_module_version": "1.5.0",
            "_view_name": "HBoxView",
            "box_style": "",
            "children": [
              "IPY_MODEL_9b04fe10a63646668565ed7153485d75",
              "IPY_MODEL_b9f96ed327cc421bb026136dd12f8c44",
              "IPY_MODEL_45635780909f4c24836c2338dff08d12"
            ],
            "layout": "IPY_MODEL_a7120803103442639ce19310e5538180"
          }
        },
        "63aee226c0d74ad5b81ab19221a99e1e": {
          "model_module": "@jupyter-widgets/controls",
          "model_module_version": "1.5.0",
          "model_name": "HTMLModel",
          "state": {
            "_dom_classes": [],
            "_model_module": "@jupyter-widgets/controls",
            "_model_module_version": "1.5.0",
            "_model_name": "HTMLModel",
            "_view_count": null,
            "_view_module": "@jupyter-widgets/controls",
            "_view_module_version": "1.5.0",
            "_view_name": "HTMLView",
            "description": "",
            "description_tooltip": null,
            "layout": "IPY_MODEL_fd294eba64fb456ea236a7cc2514f6bd",
            "placeholder": "​",
            "style": "IPY_MODEL_6caaec24b5ac4a27ac0b7bdbd0d5a446",
            "value": " 1500/1500 [02:02&lt;00:00, 13.64it/s, loss=1.16]"
          }
        },
        "672e9f840886437e9f94f1ef1c42a81b": {
          "model_module": "@jupyter-widgets/base",
          "model_module_version": "1.2.0",
          "model_name": "LayoutModel",
          "state": {
            "_model_module": "@jupyter-widgets/base",
            "_model_module_version": "1.2.0",
            "_model_name": "LayoutModel",
            "_view_count": null,
            "_view_module": "@jupyter-widgets/base",
            "_view_module_version": "1.2.0",
            "_view_name": "LayoutView",
            "align_content": null,
            "align_items": null,
            "align_self": null,
            "border": null,
            "bottom": null,
            "display": null,
            "flex": null,
            "flex_flow": null,
            "grid_area": null,
            "grid_auto_columns": null,
            "grid_auto_flow": null,
            "grid_auto_rows": null,
            "grid_column": null,
            "grid_gap": null,
            "grid_row": null,
            "grid_template_areas": null,
            "grid_template_columns": null,
            "grid_template_rows": null,
            "height": null,
            "justify_content": null,
            "justify_items": null,
            "left": null,
            "margin": null,
            "max_height": null,
            "max_width": null,
            "min_height": null,
            "min_width": null,
            "object_fit": null,
            "object_position": null,
            "order": null,
            "overflow": null,
            "overflow_x": null,
            "overflow_y": null,
            "padding": null,
            "right": null,
            "top": null,
            "visibility": null,
            "width": null
          }
        },
        "6caaec24b5ac4a27ac0b7bdbd0d5a446": {
          "model_module": "@jupyter-widgets/controls",
          "model_module_version": "1.5.0",
          "model_name": "DescriptionStyleModel",
          "state": {
            "_model_module": "@jupyter-widgets/controls",
            "_model_module_version": "1.5.0",
            "_model_name": "DescriptionStyleModel",
            "_view_count": null,
            "_view_module": "@jupyter-widgets/base",
            "_view_module_version": "1.2.0",
            "_view_name": "StyleView",
            "description_width": ""
          }
        },
        "6ce960a58597429dae8789746e4f9a41": {
          "model_module": "@jupyter-widgets/base",
          "model_module_version": "1.2.0",
          "model_name": "LayoutModel",
          "state": {
            "_model_module": "@jupyter-widgets/base",
            "_model_module_version": "1.2.0",
            "_model_name": "LayoutModel",
            "_view_count": null,
            "_view_module": "@jupyter-widgets/base",
            "_view_module_version": "1.2.0",
            "_view_name": "LayoutView",
            "align_content": null,
            "align_items": null,
            "align_self": null,
            "border": null,
            "bottom": null,
            "display": null,
            "flex": null,
            "flex_flow": null,
            "grid_area": null,
            "grid_auto_columns": null,
            "grid_auto_flow": null,
            "grid_auto_rows": null,
            "grid_column": null,
            "grid_gap": null,
            "grid_row": null,
            "grid_template_areas": null,
            "grid_template_columns": null,
            "grid_template_rows": null,
            "height": null,
            "justify_content": null,
            "justify_items": null,
            "left": null,
            "margin": null,
            "max_height": null,
            "max_width": null,
            "min_height": null,
            "min_width": null,
            "object_fit": null,
            "object_position": null,
            "order": null,
            "overflow": null,
            "overflow_x": null,
            "overflow_y": null,
            "padding": null,
            "right": null,
            "top": null,
            "visibility": null,
            "width": null
          }
        },
        "70703cb8d8bf46aeba813b933ff206f8": {
          "model_module": "@jupyter-widgets/controls",
          "model_module_version": "1.5.0",
          "model_name": "HTMLModel",
          "state": {
            "_dom_classes": [],
            "_model_module": "@jupyter-widgets/controls",
            "_model_module_version": "1.5.0",
            "_model_name": "HTMLModel",
            "_view_count": null,
            "_view_module": "@jupyter-widgets/controls",
            "_view_module_version": "1.5.0",
            "_view_name": "HTMLView",
            "description": "",
            "description_tooltip": null,
            "layout": "IPY_MODEL_452016ad2efc41a78363c279f0b4be8a",
            "placeholder": "​",
            "style": "IPY_MODEL_cb9991f461f5465bb55fb99777fe9dc0",
            "value": " 3/3 [02:15&lt;00:00, 44.48s/it, best_val_acc=1, val_acc=1]"
          }
        },
        "727578899d6b4cd39a9c6a62674fb619": {
          "model_module": "@jupyter-widgets/base",
          "model_module_version": "1.2.0",
          "model_name": "LayoutModel",
          "state": {
            "_model_module": "@jupyter-widgets/base",
            "_model_module_version": "1.2.0",
            "_model_name": "LayoutModel",
            "_view_count": null,
            "_view_module": "@jupyter-widgets/base",
            "_view_module_version": "1.2.0",
            "_view_name": "LayoutView",
            "align_content": null,
            "align_items": null,
            "align_self": null,
            "border": null,
            "bottom": null,
            "display": null,
            "flex": null,
            "flex_flow": null,
            "grid_area": null,
            "grid_auto_columns": null,
            "grid_auto_flow": null,
            "grid_auto_rows": null,
            "grid_column": null,
            "grid_gap": null,
            "grid_row": null,
            "grid_template_areas": null,
            "grid_template_columns": null,
            "grid_template_rows": null,
            "height": null,
            "justify_content": null,
            "justify_items": null,
            "left": null,
            "margin": null,
            "max_height": null,
            "max_width": null,
            "min_height": null,
            "min_width": null,
            "object_fit": null,
            "object_position": null,
            "order": null,
            "overflow": null,
            "overflow_x": null,
            "overflow_y": null,
            "padding": null,
            "right": null,
            "top": null,
            "visibility": null,
            "width": null
          }
        },
        "7e20c96bd24743ce8b0cfa889dc10628": {
          "model_module": "@jupyter-widgets/controls",
          "model_module_version": "1.5.0",
          "model_name": "HTMLModel",
          "state": {
            "_dom_classes": [],
            "_model_module": "@jupyter-widgets/controls",
            "_model_module_version": "1.5.0",
            "_model_name": "HTMLModel",
            "_view_count": null,
            "_view_module": "@jupyter-widgets/controls",
            "_view_module_version": "1.5.0",
            "_view_name": "HTMLView",
            "description": "",
            "description_tooltip": null,
            "layout": "IPY_MODEL_8bffb7c067074f8792c6908fc91677f9",
            "placeholder": "​",
            "style": "IPY_MODEL_91578b03a3a3484c89d7ee218f6b27cb",
            "value": " 1/1 [00:37&lt;00:00, 37.52s/it, best_val_acc=0.697, val_acc=0.697]"
          }
        },
        "7f8a80b663b44830bdb98a551ad51cc5": {
          "model_module": "@jupyter-widgets/controls",
          "model_module_version": "1.5.0",
          "model_name": "HBoxModel",
          "state": {
            "_dom_classes": [],
            "_model_module": "@jupyter-widgets/controls",
            "_model_module_version": "1.5.0",
            "_model_name": "HBoxModel",
            "_view_count": null,
            "_view_module": "@jupyter-widgets/controls",
            "_view_module_version": "1.5.0",
            "_view_name": "HBoxView",
            "box_style": "",
            "children": [
              "IPY_MODEL_93d4a40aed294b2c8151be1da443db8b",
              "IPY_MODEL_04484ea2ebe045eca6da884cb52ed529",
              "IPY_MODEL_1dd566c1977b4ce2bd470431c473982e"
            ],
            "layout": "IPY_MODEL_727578899d6b4cd39a9c6a62674fb619"
          }
        },
        "7fb205915059427bbb6301c2bd2c1605": {
          "model_module": "@jupyter-widgets/base",
          "model_module_version": "1.2.0",
          "model_name": "LayoutModel",
          "state": {
            "_model_module": "@jupyter-widgets/base",
            "_model_module_version": "1.2.0",
            "_model_name": "LayoutModel",
            "_view_count": null,
            "_view_module": "@jupyter-widgets/base",
            "_view_module_version": "1.2.0",
            "_view_name": "LayoutView",
            "align_content": null,
            "align_items": null,
            "align_self": null,
            "border": null,
            "bottom": null,
            "display": null,
            "flex": null,
            "flex_flow": null,
            "grid_area": null,
            "grid_auto_columns": null,
            "grid_auto_flow": null,
            "grid_auto_rows": null,
            "grid_column": null,
            "grid_gap": null,
            "grid_row": null,
            "grid_template_areas": null,
            "grid_template_columns": null,
            "grid_template_rows": null,
            "height": null,
            "justify_content": null,
            "justify_items": null,
            "left": null,
            "margin": null,
            "max_height": null,
            "max_width": null,
            "min_height": null,
            "min_width": null,
            "object_fit": null,
            "object_position": null,
            "order": null,
            "overflow": null,
            "overflow_x": null,
            "overflow_y": null,
            "padding": null,
            "right": null,
            "top": null,
            "visibility": null,
            "width": null
          }
        },
        "80cf1b6d7e4c4c3797c424227f49e2d2": {
          "model_module": "@jupyter-widgets/base",
          "model_module_version": "1.2.0",
          "model_name": "LayoutModel",
          "state": {
            "_model_module": "@jupyter-widgets/base",
            "_model_module_version": "1.2.0",
            "_model_name": "LayoutModel",
            "_view_count": null,
            "_view_module": "@jupyter-widgets/base",
            "_view_module_version": "1.2.0",
            "_view_name": "LayoutView",
            "align_content": null,
            "align_items": null,
            "align_self": null,
            "border": null,
            "bottom": null,
            "display": null,
            "flex": null,
            "flex_flow": null,
            "grid_area": null,
            "grid_auto_columns": null,
            "grid_auto_flow": null,
            "grid_auto_rows": null,
            "grid_column": null,
            "grid_gap": null,
            "grid_row": null,
            "grid_template_areas": null,
            "grid_template_columns": null,
            "grid_template_rows": null,
            "height": null,
            "justify_content": null,
            "justify_items": null,
            "left": null,
            "margin": null,
            "max_height": null,
            "max_width": null,
            "min_height": null,
            "min_width": null,
            "object_fit": null,
            "object_position": null,
            "order": null,
            "overflow": null,
            "overflow_x": null,
            "overflow_y": null,
            "padding": null,
            "right": null,
            "top": null,
            "visibility": null,
            "width": null
          }
        },
        "816da4867c1149c8bead35d2d84c9a65": {
          "model_module": "@jupyter-widgets/base",
          "model_module_version": "1.2.0",
          "model_name": "LayoutModel",
          "state": {
            "_model_module": "@jupyter-widgets/base",
            "_model_module_version": "1.2.0",
            "_model_name": "LayoutModel",
            "_view_count": null,
            "_view_module": "@jupyter-widgets/base",
            "_view_module_version": "1.2.0",
            "_view_name": "LayoutView",
            "align_content": null,
            "align_items": null,
            "align_self": null,
            "border": null,
            "bottom": null,
            "display": null,
            "flex": null,
            "flex_flow": null,
            "grid_area": null,
            "grid_auto_columns": null,
            "grid_auto_flow": null,
            "grid_auto_rows": null,
            "grid_column": null,
            "grid_gap": null,
            "grid_row": null,
            "grid_template_areas": null,
            "grid_template_columns": null,
            "grid_template_rows": null,
            "height": null,
            "justify_content": null,
            "justify_items": null,
            "left": null,
            "margin": null,
            "max_height": null,
            "max_width": null,
            "min_height": null,
            "min_width": null,
            "object_fit": null,
            "object_position": null,
            "order": null,
            "overflow": null,
            "overflow_x": null,
            "overflow_y": null,
            "padding": null,
            "right": null,
            "top": null,
            "visibility": null,
            "width": null
          }
        },
        "84ffc7946e0a4c1da5f1ad01f3077ffc": {
          "model_module": "@jupyter-widgets/base",
          "model_module_version": "1.2.0",
          "model_name": "LayoutModel",
          "state": {
            "_model_module": "@jupyter-widgets/base",
            "_model_module_version": "1.2.0",
            "_model_name": "LayoutModel",
            "_view_count": null,
            "_view_module": "@jupyter-widgets/base",
            "_view_module_version": "1.2.0",
            "_view_name": "LayoutView",
            "align_content": null,
            "align_items": null,
            "align_self": null,
            "border": null,
            "bottom": null,
            "display": null,
            "flex": null,
            "flex_flow": null,
            "grid_area": null,
            "grid_auto_columns": null,
            "grid_auto_flow": null,
            "grid_auto_rows": null,
            "grid_column": null,
            "grid_gap": null,
            "grid_row": null,
            "grid_template_areas": null,
            "grid_template_columns": null,
            "grid_template_rows": null,
            "height": null,
            "justify_content": null,
            "justify_items": null,
            "left": null,
            "margin": null,
            "max_height": null,
            "max_width": null,
            "min_height": null,
            "min_width": null,
            "object_fit": null,
            "object_position": null,
            "order": null,
            "overflow": null,
            "overflow_x": null,
            "overflow_y": null,
            "padding": null,
            "right": null,
            "top": null,
            "visibility": null,
            "width": null
          }
        },
        "8530598c3be2478c8863ae894d8cb132": {
          "model_module": "@jupyter-widgets/controls",
          "model_module_version": "1.5.0",
          "model_name": "FloatProgressModel",
          "state": {
            "_dom_classes": [],
            "_model_module": "@jupyter-widgets/controls",
            "_model_module_version": "1.5.0",
            "_model_name": "FloatProgressModel",
            "_view_count": null,
            "_view_module": "@jupyter-widgets/controls",
            "_view_module_version": "1.5.0",
            "_view_name": "ProgressView",
            "bar_style": "success",
            "description": "",
            "description_tooltip": null,
            "layout": "IPY_MODEL_80cf1b6d7e4c4c3797c424227f49e2d2",
            "max": 1875,
            "min": 0,
            "orientation": "horizontal",
            "style": "IPY_MODEL_8663f67e5b1d468286a1727e837f4f9e",
            "value": 1875
          }
        },
        "8663f67e5b1d468286a1727e837f4f9e": {
          "model_module": "@jupyter-widgets/controls",
          "model_module_version": "1.5.0",
          "model_name": "ProgressStyleModel",
          "state": {
            "_model_module": "@jupyter-widgets/controls",
            "_model_module_version": "1.5.0",
            "_model_name": "ProgressStyleModel",
            "_view_count": null,
            "_view_module": "@jupyter-widgets/base",
            "_view_module_version": "1.2.0",
            "_view_name": "StyleView",
            "bar_color": null,
            "description_width": ""
          }
        },
        "8bffb7c067074f8792c6908fc91677f9": {
          "model_module": "@jupyter-widgets/base",
          "model_module_version": "1.2.0",
          "model_name": "LayoutModel",
          "state": {
            "_model_module": "@jupyter-widgets/base",
            "_model_module_version": "1.2.0",
            "_model_name": "LayoutModel",
            "_view_count": null,
            "_view_module": "@jupyter-widgets/base",
            "_view_module_version": "1.2.0",
            "_view_name": "LayoutView",
            "align_content": null,
            "align_items": null,
            "align_self": null,
            "border": null,
            "bottom": null,
            "display": null,
            "flex": null,
            "flex_flow": null,
            "grid_area": null,
            "grid_auto_columns": null,
            "grid_auto_flow": null,
            "grid_auto_rows": null,
            "grid_column": null,
            "grid_gap": null,
            "grid_row": null,
            "grid_template_areas": null,
            "grid_template_columns": null,
            "grid_template_rows": null,
            "height": null,
            "justify_content": null,
            "justify_items": null,
            "left": null,
            "margin": null,
            "max_height": null,
            "max_width": null,
            "min_height": null,
            "min_width": null,
            "object_fit": null,
            "object_position": null,
            "order": null,
            "overflow": null,
            "overflow_x": null,
            "overflow_y": null,
            "padding": null,
            "right": null,
            "top": null,
            "visibility": null,
            "width": null
          }
        },
        "8cc1a272cfbc44538de9b37cd5f7299d": {
          "model_module": "@jupyter-widgets/controls",
          "model_module_version": "1.5.0",
          "model_name": "ProgressStyleModel",
          "state": {
            "_model_module": "@jupyter-widgets/controls",
            "_model_module_version": "1.5.0",
            "_model_name": "ProgressStyleModel",
            "_view_count": null,
            "_view_module": "@jupyter-widgets/base",
            "_view_module_version": "1.2.0",
            "_view_name": "StyleView",
            "bar_color": null,
            "description_width": ""
          }
        },
        "8d2441d4a5974ea1a37b32e7c7bb9fb9": {
          "model_module": "@jupyter-widgets/base",
          "model_module_version": "1.2.0",
          "model_name": "LayoutModel",
          "state": {
            "_model_module": "@jupyter-widgets/base",
            "_model_module_version": "1.2.0",
            "_model_name": "LayoutModel",
            "_view_count": null,
            "_view_module": "@jupyter-widgets/base",
            "_view_module_version": "1.2.0",
            "_view_name": "LayoutView",
            "align_content": null,
            "align_items": null,
            "align_self": null,
            "border": null,
            "bottom": null,
            "display": null,
            "flex": null,
            "flex_flow": null,
            "grid_area": null,
            "grid_auto_columns": null,
            "grid_auto_flow": null,
            "grid_auto_rows": null,
            "grid_column": null,
            "grid_gap": null,
            "grid_row": null,
            "grid_template_areas": null,
            "grid_template_columns": null,
            "grid_template_rows": null,
            "height": null,
            "justify_content": null,
            "justify_items": null,
            "left": null,
            "margin": null,
            "max_height": null,
            "max_width": null,
            "min_height": null,
            "min_width": null,
            "object_fit": null,
            "object_position": null,
            "order": null,
            "overflow": null,
            "overflow_x": null,
            "overflow_y": null,
            "padding": null,
            "right": null,
            "top": null,
            "visibility": null,
            "width": null
          }
        },
        "8dd1909cedf242c1be6c9cedba1441f9": {
          "model_module": "@jupyter-widgets/base",
          "model_module_version": "1.2.0",
          "model_name": "LayoutModel",
          "state": {
            "_model_module": "@jupyter-widgets/base",
            "_model_module_version": "1.2.0",
            "_model_name": "LayoutModel",
            "_view_count": null,
            "_view_module": "@jupyter-widgets/base",
            "_view_module_version": "1.2.0",
            "_view_name": "LayoutView",
            "align_content": null,
            "align_items": null,
            "align_self": null,
            "border": null,
            "bottom": null,
            "display": null,
            "flex": null,
            "flex_flow": null,
            "grid_area": null,
            "grid_auto_columns": null,
            "grid_auto_flow": null,
            "grid_auto_rows": null,
            "grid_column": null,
            "grid_gap": null,
            "grid_row": null,
            "grid_template_areas": null,
            "grid_template_columns": null,
            "grid_template_rows": null,
            "height": null,
            "justify_content": null,
            "justify_items": null,
            "left": null,
            "margin": null,
            "max_height": null,
            "max_width": null,
            "min_height": null,
            "min_width": null,
            "object_fit": null,
            "object_position": null,
            "order": null,
            "overflow": null,
            "overflow_x": null,
            "overflow_y": null,
            "padding": null,
            "right": null,
            "top": null,
            "visibility": null,
            "width": null
          }
        },
        "8ed5d5e90be846a7947e779494532d0f": {
          "model_module": "@jupyter-widgets/base",
          "model_module_version": "1.2.0",
          "model_name": "LayoutModel",
          "state": {
            "_model_module": "@jupyter-widgets/base",
            "_model_module_version": "1.2.0",
            "_model_name": "LayoutModel",
            "_view_count": null,
            "_view_module": "@jupyter-widgets/base",
            "_view_module_version": "1.2.0",
            "_view_name": "LayoutView",
            "align_content": null,
            "align_items": null,
            "align_self": null,
            "border": null,
            "bottom": null,
            "display": null,
            "flex": null,
            "flex_flow": null,
            "grid_area": null,
            "grid_auto_columns": null,
            "grid_auto_flow": null,
            "grid_auto_rows": null,
            "grid_column": null,
            "grid_gap": null,
            "grid_row": null,
            "grid_template_areas": null,
            "grid_template_columns": null,
            "grid_template_rows": null,
            "height": null,
            "justify_content": null,
            "justify_items": null,
            "left": null,
            "margin": null,
            "max_height": null,
            "max_width": null,
            "min_height": null,
            "min_width": null,
            "object_fit": null,
            "object_position": null,
            "order": null,
            "overflow": null,
            "overflow_x": null,
            "overflow_y": null,
            "padding": null,
            "right": null,
            "top": null,
            "visibility": null,
            "width": null
          }
        },
        "90266d6930ef4c1e93f4192bd5073705": {
          "model_module": "@jupyter-widgets/controls",
          "model_module_version": "1.5.0",
          "model_name": "DescriptionStyleModel",
          "state": {
            "_model_module": "@jupyter-widgets/controls",
            "_model_module_version": "1.5.0",
            "_model_name": "DescriptionStyleModel",
            "_view_count": null,
            "_view_module": "@jupyter-widgets/base",
            "_view_module_version": "1.2.0",
            "_view_name": "StyleView",
            "description_width": ""
          }
        },
        "90bfc0192ff34ab1ad48600b50b573e2": {
          "model_module": "@jupyter-widgets/controls",
          "model_module_version": "1.5.0",
          "model_name": "DescriptionStyleModel",
          "state": {
            "_model_module": "@jupyter-widgets/controls",
            "_model_module_version": "1.5.0",
            "_model_name": "DescriptionStyleModel",
            "_view_count": null,
            "_view_module": "@jupyter-widgets/base",
            "_view_module_version": "1.2.0",
            "_view_name": "StyleView",
            "description_width": ""
          }
        },
        "91578b03a3a3484c89d7ee218f6b27cb": {
          "model_module": "@jupyter-widgets/controls",
          "model_module_version": "1.5.0",
          "model_name": "DescriptionStyleModel",
          "state": {
            "_model_module": "@jupyter-widgets/controls",
            "_model_module_version": "1.5.0",
            "_model_name": "DescriptionStyleModel",
            "_view_count": null,
            "_view_module": "@jupyter-widgets/base",
            "_view_module_version": "1.2.0",
            "_view_name": "StyleView",
            "description_width": ""
          }
        },
        "92542a79d4934c0eb0dd2122c6c98c1d": {
          "model_module": "@jupyter-widgets/base",
          "model_module_version": "1.2.0",
          "model_name": "LayoutModel",
          "state": {
            "_model_module": "@jupyter-widgets/base",
            "_model_module_version": "1.2.0",
            "_model_name": "LayoutModel",
            "_view_count": null,
            "_view_module": "@jupyter-widgets/base",
            "_view_module_version": "1.2.0",
            "_view_name": "LayoutView",
            "align_content": null,
            "align_items": null,
            "align_self": null,
            "border": null,
            "bottom": null,
            "display": null,
            "flex": null,
            "flex_flow": null,
            "grid_area": null,
            "grid_auto_columns": null,
            "grid_auto_flow": null,
            "grid_auto_rows": null,
            "grid_column": null,
            "grid_gap": null,
            "grid_row": null,
            "grid_template_areas": null,
            "grid_template_columns": null,
            "grid_template_rows": null,
            "height": null,
            "justify_content": null,
            "justify_items": null,
            "left": null,
            "margin": null,
            "max_height": null,
            "max_width": null,
            "min_height": null,
            "min_width": null,
            "object_fit": null,
            "object_position": null,
            "order": null,
            "overflow": null,
            "overflow_x": null,
            "overflow_y": null,
            "padding": null,
            "right": null,
            "top": null,
            "visibility": null,
            "width": null
          }
        },
        "93542ed5aa4a4db7a5ac38a7b5fdf257": {
          "model_module": "@jupyter-widgets/controls",
          "model_module_version": "1.5.0",
          "model_name": "HBoxModel",
          "state": {
            "_dom_classes": [],
            "_model_module": "@jupyter-widgets/controls",
            "_model_module_version": "1.5.0",
            "_model_name": "HBoxModel",
            "_view_count": null,
            "_view_module": "@jupyter-widgets/controls",
            "_view_module_version": "1.5.0",
            "_view_name": "HBoxView",
            "box_style": "",
            "children": [
              "IPY_MODEL_5be1195aa25543f6a85d09442f98330c",
              "IPY_MODEL_a438775e07934b0394fff82df08ed92e",
              "IPY_MODEL_0cc417cee225483899bbb3a7e8c505d0"
            ],
            "layout": "IPY_MODEL_f62bb698689944f583fd5ec949282efa"
          }
        },
        "93d4a40aed294b2c8151be1da443db8b": {
          "model_module": "@jupyter-widgets/controls",
          "model_module_version": "1.5.0",
          "model_name": "HTMLModel",
          "state": {
            "_dom_classes": [],
            "_model_module": "@jupyter-widgets/controls",
            "_model_module_version": "1.5.0",
            "_model_name": "HTMLModel",
            "_view_count": null,
            "_view_module": "@jupyter-widgets/controls",
            "_view_module_version": "1.5.0",
            "_view_name": "HTMLView",
            "description": "",
            "description_tooltip": null,
            "layout": "IPY_MODEL_da38c7d5d32540289df3167f8e9eaa57",
            "placeholder": "​",
            "style": "IPY_MODEL_453dd7631cc740eba31c5217443effbb",
            "value": "100%"
          }
        },
        "971166d8d778495abf24ec3a7badfaf4": {
          "model_module": "@jupyter-widgets/base",
          "model_module_version": "1.2.0",
          "model_name": "LayoutModel",
          "state": {
            "_model_module": "@jupyter-widgets/base",
            "_model_module_version": "1.2.0",
            "_model_name": "LayoutModel",
            "_view_count": null,
            "_view_module": "@jupyter-widgets/base",
            "_view_module_version": "1.2.0",
            "_view_name": "LayoutView",
            "align_content": null,
            "align_items": null,
            "align_self": null,
            "border": null,
            "bottom": null,
            "display": null,
            "flex": null,
            "flex_flow": null,
            "grid_area": null,
            "grid_auto_columns": null,
            "grid_auto_flow": null,
            "grid_auto_rows": null,
            "grid_column": null,
            "grid_gap": null,
            "grid_row": null,
            "grid_template_areas": null,
            "grid_template_columns": null,
            "grid_template_rows": null,
            "height": null,
            "justify_content": null,
            "justify_items": null,
            "left": null,
            "margin": null,
            "max_height": null,
            "max_width": null,
            "min_height": null,
            "min_width": null,
            "object_fit": null,
            "object_position": null,
            "order": null,
            "overflow": null,
            "overflow_x": null,
            "overflow_y": null,
            "padding": null,
            "right": null,
            "top": null,
            "visibility": null,
            "width": null
          }
        },
        "98c49beee4b148e7b235d1840285c7df": {
          "model_module": "@jupyter-widgets/controls",
          "model_module_version": "1.5.0",
          "model_name": "HTMLModel",
          "state": {
            "_dom_classes": [],
            "_model_module": "@jupyter-widgets/controls",
            "_model_module_version": "1.5.0",
            "_model_name": "HTMLModel",
            "_view_count": null,
            "_view_module": "@jupyter-widgets/controls",
            "_view_module_version": "1.5.0",
            "_view_name": "HTMLView",
            "description": "",
            "description_tooltip": null,
            "layout": "IPY_MODEL_bb71d3450077405c8fcc785e2f354484",
            "placeholder": "​",
            "style": "IPY_MODEL_5dcbde039c13423fb0fc27151f75316c",
            "value": " 1875/1875 [03:31&lt;00:00,  9.59it/s]"
          }
        },
        "9a7fed3a82da410b995ecd7ea7eb58d2": {
          "model_module": "@jupyter-widgets/base",
          "model_module_version": "1.2.0",
          "model_name": "LayoutModel",
          "state": {
            "_model_module": "@jupyter-widgets/base",
            "_model_module_version": "1.2.0",
            "_model_name": "LayoutModel",
            "_view_count": null,
            "_view_module": "@jupyter-widgets/base",
            "_view_module_version": "1.2.0",
            "_view_name": "LayoutView",
            "align_content": null,
            "align_items": null,
            "align_self": null,
            "border": null,
            "bottom": null,
            "display": null,
            "flex": null,
            "flex_flow": null,
            "grid_area": null,
            "grid_auto_columns": null,
            "grid_auto_flow": null,
            "grid_auto_rows": null,
            "grid_column": null,
            "grid_gap": null,
            "grid_row": null,
            "grid_template_areas": null,
            "grid_template_columns": null,
            "grid_template_rows": null,
            "height": null,
            "justify_content": null,
            "justify_items": null,
            "left": null,
            "margin": null,
            "max_height": null,
            "max_width": null,
            "min_height": null,
            "min_width": null,
            "object_fit": null,
            "object_position": null,
            "order": null,
            "overflow": null,
            "overflow_x": null,
            "overflow_y": null,
            "padding": null,
            "right": null,
            "top": null,
            "visibility": null,
            "width": null
          }
        },
        "9b04fe10a63646668565ed7153485d75": {
          "model_module": "@jupyter-widgets/controls",
          "model_module_version": "1.5.0",
          "model_name": "HTMLModel",
          "state": {
            "_dom_classes": [],
            "_model_module": "@jupyter-widgets/controls",
            "_model_module_version": "1.5.0",
            "_model_name": "HTMLModel",
            "_view_count": null,
            "_view_module": "@jupyter-widgets/controls",
            "_view_module_version": "1.5.0",
            "_view_name": "HTMLView",
            "description": "",
            "description_tooltip": null,
            "layout": "IPY_MODEL_bfef1626431a42daac24592a2d844da8",
            "placeholder": "​",
            "style": "IPY_MODEL_aa5ab22415b54d3d91e848d390ac1706",
            "value": " 14%"
          }
        },
        "9d5b484835a049238944c6bfac1346b4": {
          "model_module": "@jupyter-widgets/controls",
          "model_module_version": "1.5.0",
          "model_name": "HBoxModel",
          "state": {
            "_dom_classes": [],
            "_model_module": "@jupyter-widgets/controls",
            "_model_module_version": "1.5.0",
            "_model_name": "HBoxModel",
            "_view_count": null,
            "_view_module": "@jupyter-widgets/controls",
            "_view_module_version": "1.5.0",
            "_view_name": "HBoxView",
            "box_style": "",
            "children": [
              "IPY_MODEL_f069bc36070a4a718eb11a0efb75b4f2",
              "IPY_MODEL_28f6f9040c3640abbabb25f901c5917e",
              "IPY_MODEL_1223c059d4c54ab79c73eab6332a7b21"
            ],
            "layout": "IPY_MODEL_357dea336ada4bf3bdc62859ed4678cc"
          }
        },
        "9ef45bb9f7f9452085ab9ddc0b93cda4": {
          "model_module": "@jupyter-widgets/controls",
          "model_module_version": "1.5.0",
          "model_name": "HTMLModel",
          "state": {
            "_dom_classes": [],
            "_model_module": "@jupyter-widgets/controls",
            "_model_module_version": "1.5.0",
            "_model_name": "HTMLModel",
            "_view_count": null,
            "_view_module": "@jupyter-widgets/controls",
            "_view_module_version": "1.5.0",
            "_view_name": "HTMLView",
            "description": "",
            "description_tooltip": null,
            "layout": "IPY_MODEL_f188aff25f2a433ea126fb6b64322be4",
            "placeholder": "​",
            "style": "IPY_MODEL_59d7aaf0304d4b4f890768223a45b3b9",
            "value": "100%"
          }
        },
        "9fa7093957a94af0a717cda28e788048": {
          "model_module": "@jupyter-widgets/base",
          "model_module_version": "1.2.0",
          "model_name": "LayoutModel",
          "state": {
            "_model_module": "@jupyter-widgets/base",
            "_model_module_version": "1.2.0",
            "_model_name": "LayoutModel",
            "_view_count": null,
            "_view_module": "@jupyter-widgets/base",
            "_view_module_version": "1.2.0",
            "_view_name": "LayoutView",
            "align_content": null,
            "align_items": null,
            "align_self": null,
            "border": null,
            "bottom": null,
            "display": null,
            "flex": null,
            "flex_flow": null,
            "grid_area": null,
            "grid_auto_columns": null,
            "grid_auto_flow": null,
            "grid_auto_rows": null,
            "grid_column": null,
            "grid_gap": null,
            "grid_row": null,
            "grid_template_areas": null,
            "grid_template_columns": null,
            "grid_template_rows": null,
            "height": null,
            "justify_content": null,
            "justify_items": null,
            "left": null,
            "margin": null,
            "max_height": null,
            "max_width": null,
            "min_height": null,
            "min_width": null,
            "object_fit": null,
            "object_position": null,
            "order": null,
            "overflow": null,
            "overflow_x": null,
            "overflow_y": null,
            "padding": null,
            "right": null,
            "top": null,
            "visibility": null,
            "width": null
          }
        },
        "a0292f82e5cd484bb35589af7060f84c": {
          "model_module": "@jupyter-widgets/controls",
          "model_module_version": "1.5.0",
          "model_name": "HTMLModel",
          "state": {
            "_dom_classes": [],
            "_model_module": "@jupyter-widgets/controls",
            "_model_module_version": "1.5.0",
            "_model_name": "HTMLModel",
            "_view_count": null,
            "_view_module": "@jupyter-widgets/controls",
            "_view_module_version": "1.5.0",
            "_view_name": "HTMLView",
            "description": "",
            "description_tooltip": null,
            "layout": "IPY_MODEL_f6c6bfe769a8484cbe79877fc680567c",
            "placeholder": "​",
            "style": "IPY_MODEL_d286c40d3629447ea371158663dbaa1d",
            "value": "100%"
          }
        },
        "a438775e07934b0394fff82df08ed92e": {
          "model_module": "@jupyter-widgets/controls",
          "model_module_version": "1.5.0",
          "model_name": "FloatProgressModel",
          "state": {
            "_dom_classes": [],
            "_model_module": "@jupyter-widgets/controls",
            "_model_module_version": "1.5.0",
            "_model_name": "FloatProgressModel",
            "_view_count": null,
            "_view_module": "@jupyter-widgets/controls",
            "_view_module_version": "1.5.0",
            "_view_name": "ProgressView",
            "bar_style": "success",
            "description": "",
            "description_tooltip": null,
            "layout": "IPY_MODEL_61bc0d413a8d477c89f03ca3cb4cd82d",
            "max": 1875,
            "min": 0,
            "orientation": "horizontal",
            "style": "IPY_MODEL_616a589396d24e08a382050ddcedc71b",
            "value": 1875
          }
        },
        "a520f01c551c446f9141f6efbe3d8515": {
          "model_module": "@jupyter-widgets/controls",
          "model_module_version": "1.5.0",
          "model_name": "HBoxModel",
          "state": {
            "_dom_classes": [],
            "_model_module": "@jupyter-widgets/controls",
            "_model_module_version": "1.5.0",
            "_model_name": "HBoxModel",
            "_view_count": null,
            "_view_module": "@jupyter-widgets/controls",
            "_view_module_version": "1.5.0",
            "_view_name": "HBoxView",
            "box_style": "",
            "children": [
              "IPY_MODEL_a6438c7f750c49b08cb720ae6c2e40dd",
              "IPY_MODEL_0c552c813a3b4dc0a5bb35a037941af4",
              "IPY_MODEL_b58225fb8c5c4e5f9be7a8523e9a4757"
            ],
            "layout": "IPY_MODEL_4db9aeefcaa64f5891044109a3a12d39"
          }
        },
        "a6438c7f750c49b08cb720ae6c2e40dd": {
          "model_module": "@jupyter-widgets/controls",
          "model_module_version": "1.5.0",
          "model_name": "HTMLModel",
          "state": {
            "_dom_classes": [],
            "_model_module": "@jupyter-widgets/controls",
            "_model_module_version": "1.5.0",
            "_model_name": "HTMLModel",
            "_view_count": null,
            "_view_module": "@jupyter-widgets/controls",
            "_view_module_version": "1.5.0",
            "_view_name": "HTMLView",
            "description": "",
            "description_tooltip": null,
            "layout": "IPY_MODEL_b878181f55f8476d9d2ea7276623b55c",
            "placeholder": "​",
            "style": "IPY_MODEL_e0c109d2113d4338aedd7aeb1a439d53",
            "value": "100%"
          }
        },
        "a6cadd412ea940d2a3716bf77d39c074": {
          "model_module": "@jupyter-widgets/controls",
          "model_module_version": "1.5.0",
          "model_name": "ProgressStyleModel",
          "state": {
            "_model_module": "@jupyter-widgets/controls",
            "_model_module_version": "1.5.0",
            "_model_name": "ProgressStyleModel",
            "_view_count": null,
            "_view_module": "@jupyter-widgets/base",
            "_view_module_version": "1.2.0",
            "_view_name": "StyleView",
            "bar_color": null,
            "description_width": ""
          }
        },
        "a7120803103442639ce19310e5538180": {
          "model_module": "@jupyter-widgets/base",
          "model_module_version": "1.2.0",
          "model_name": "LayoutModel",
          "state": {
            "_model_module": "@jupyter-widgets/base",
            "_model_module_version": "1.2.0",
            "_model_name": "LayoutModel",
            "_view_count": null,
            "_view_module": "@jupyter-widgets/base",
            "_view_module_version": "1.2.0",
            "_view_name": "LayoutView",
            "align_content": null,
            "align_items": null,
            "align_self": null,
            "border": null,
            "bottom": null,
            "display": null,
            "flex": null,
            "flex_flow": null,
            "grid_area": null,
            "grid_auto_columns": null,
            "grid_auto_flow": null,
            "grid_auto_rows": null,
            "grid_column": null,
            "grid_gap": null,
            "grid_row": null,
            "grid_template_areas": null,
            "grid_template_columns": null,
            "grid_template_rows": null,
            "height": null,
            "justify_content": null,
            "justify_items": null,
            "left": null,
            "margin": null,
            "max_height": null,
            "max_width": null,
            "min_height": null,
            "min_width": null,
            "object_fit": null,
            "object_position": null,
            "order": null,
            "overflow": null,
            "overflow_x": null,
            "overflow_y": null,
            "padding": null,
            "right": null,
            "top": null,
            "visibility": null,
            "width": null
          }
        },
        "a83fc498fb9842cbb51e5dc0d01f04e6": {
          "model_module": "@jupyter-widgets/controls",
          "model_module_version": "1.5.0",
          "model_name": "HTMLModel",
          "state": {
            "_dom_classes": [],
            "_model_module": "@jupyter-widgets/controls",
            "_model_module_version": "1.5.0",
            "_model_name": "HTMLModel",
            "_view_count": null,
            "_view_module": "@jupyter-widgets/controls",
            "_view_module_version": "1.5.0",
            "_view_name": "HTMLView",
            "description": "",
            "description_tooltip": null,
            "layout": "IPY_MODEL_9a7fed3a82da410b995ecd7ea7eb58d2",
            "placeholder": "​",
            "style": "IPY_MODEL_bde794a54abd48d08fd9493272f7d84b",
            "value": "100%"
          }
        },
        "aa243c7b446a4fb983a1a74a8d558396": {
          "model_module": "@jupyter-widgets/controls",
          "model_module_version": "1.5.0",
          "model_name": "DescriptionStyleModel",
          "state": {
            "_model_module": "@jupyter-widgets/controls",
            "_model_module_version": "1.5.0",
            "_model_name": "DescriptionStyleModel",
            "_view_count": null,
            "_view_module": "@jupyter-widgets/base",
            "_view_module_version": "1.2.0",
            "_view_name": "StyleView",
            "description_width": ""
          }
        },
        "aa5ab22415b54d3d91e848d390ac1706": {
          "model_module": "@jupyter-widgets/controls",
          "model_module_version": "1.5.0",
          "model_name": "DescriptionStyleModel",
          "state": {
            "_model_module": "@jupyter-widgets/controls",
            "_model_module_version": "1.5.0",
            "_model_name": "DescriptionStyleModel",
            "_view_count": null,
            "_view_module": "@jupyter-widgets/base",
            "_view_module_version": "1.2.0",
            "_view_name": "StyleView",
            "description_width": ""
          }
        },
        "aa87888f52274c089087f367a95fec99": {
          "model_module": "@jupyter-widgets/base",
          "model_module_version": "1.2.0",
          "model_name": "LayoutModel",
          "state": {
            "_model_module": "@jupyter-widgets/base",
            "_model_module_version": "1.2.0",
            "_model_name": "LayoutModel",
            "_view_count": null,
            "_view_module": "@jupyter-widgets/base",
            "_view_module_version": "1.2.0",
            "_view_name": "LayoutView",
            "align_content": null,
            "align_items": null,
            "align_self": null,
            "border": null,
            "bottom": null,
            "display": null,
            "flex": null,
            "flex_flow": null,
            "grid_area": null,
            "grid_auto_columns": null,
            "grid_auto_flow": null,
            "grid_auto_rows": null,
            "grid_column": null,
            "grid_gap": null,
            "grid_row": null,
            "grid_template_areas": null,
            "grid_template_columns": null,
            "grid_template_rows": null,
            "height": null,
            "justify_content": null,
            "justify_items": null,
            "left": null,
            "margin": null,
            "max_height": null,
            "max_width": null,
            "min_height": null,
            "min_width": null,
            "object_fit": null,
            "object_position": null,
            "order": null,
            "overflow": null,
            "overflow_x": null,
            "overflow_y": null,
            "padding": null,
            "right": null,
            "top": null,
            "visibility": null,
            "width": null
          }
        },
        "ad4bc0f1ddc740459e1a04a8662f41e3": {
          "model_module": "@jupyter-widgets/controls",
          "model_module_version": "1.5.0",
          "model_name": "ProgressStyleModel",
          "state": {
            "_model_module": "@jupyter-widgets/controls",
            "_model_module_version": "1.5.0",
            "_model_name": "ProgressStyleModel",
            "_view_count": null,
            "_view_module": "@jupyter-widgets/base",
            "_view_module_version": "1.2.0",
            "_view_name": "StyleView",
            "bar_color": null,
            "description_width": ""
          }
        },
        "b0a43c81b0524dcb867f6e17cb33d7ac": {
          "model_module": "@jupyter-widgets/controls",
          "model_module_version": "1.5.0",
          "model_name": "ProgressStyleModel",
          "state": {
            "_model_module": "@jupyter-widgets/controls",
            "_model_module_version": "1.5.0",
            "_model_name": "ProgressStyleModel",
            "_view_count": null,
            "_view_module": "@jupyter-widgets/base",
            "_view_module_version": "1.2.0",
            "_view_name": "StyleView",
            "bar_color": null,
            "description_width": ""
          }
        },
        "b142d3e7f8df429f909da96e528a8d94": {
          "model_module": "@jupyter-widgets/base",
          "model_module_version": "1.2.0",
          "model_name": "LayoutModel",
          "state": {
            "_model_module": "@jupyter-widgets/base",
            "_model_module_version": "1.2.0",
            "_model_name": "LayoutModel",
            "_view_count": null,
            "_view_module": "@jupyter-widgets/base",
            "_view_module_version": "1.2.0",
            "_view_name": "LayoutView",
            "align_content": null,
            "align_items": null,
            "align_self": null,
            "border": null,
            "bottom": null,
            "display": null,
            "flex": null,
            "flex_flow": null,
            "grid_area": null,
            "grid_auto_columns": null,
            "grid_auto_flow": null,
            "grid_auto_rows": null,
            "grid_column": null,
            "grid_gap": null,
            "grid_row": null,
            "grid_template_areas": null,
            "grid_template_columns": null,
            "grid_template_rows": null,
            "height": null,
            "justify_content": null,
            "justify_items": null,
            "left": null,
            "margin": null,
            "max_height": null,
            "max_width": null,
            "min_height": null,
            "min_width": null,
            "object_fit": null,
            "object_position": null,
            "order": null,
            "overflow": null,
            "overflow_x": null,
            "overflow_y": null,
            "padding": null,
            "right": null,
            "top": null,
            "visibility": null,
            "width": null
          }
        },
        "b2e27757c69740d19427ae9f78b78afd": {
          "model_module": "@jupyter-widgets/base",
          "model_module_version": "1.2.0",
          "model_name": "LayoutModel",
          "state": {
            "_model_module": "@jupyter-widgets/base",
            "_model_module_version": "1.2.0",
            "_model_name": "LayoutModel",
            "_view_count": null,
            "_view_module": "@jupyter-widgets/base",
            "_view_module_version": "1.2.0",
            "_view_name": "LayoutView",
            "align_content": null,
            "align_items": null,
            "align_self": null,
            "border": null,
            "bottom": null,
            "display": null,
            "flex": null,
            "flex_flow": null,
            "grid_area": null,
            "grid_auto_columns": null,
            "grid_auto_flow": null,
            "grid_auto_rows": null,
            "grid_column": null,
            "grid_gap": null,
            "grid_row": null,
            "grid_template_areas": null,
            "grid_template_columns": null,
            "grid_template_rows": null,
            "height": null,
            "justify_content": null,
            "justify_items": null,
            "left": null,
            "margin": null,
            "max_height": null,
            "max_width": null,
            "min_height": null,
            "min_width": null,
            "object_fit": null,
            "object_position": null,
            "order": null,
            "overflow": null,
            "overflow_x": null,
            "overflow_y": null,
            "padding": null,
            "right": null,
            "top": null,
            "visibility": null,
            "width": null
          }
        },
        "b43107e571814b1ea53a097db2b7f61d": {
          "model_module": "@jupyter-widgets/controls",
          "model_module_version": "1.5.0",
          "model_name": "HBoxModel",
          "state": {
            "_dom_classes": [],
            "_model_module": "@jupyter-widgets/controls",
            "_model_module_version": "1.5.0",
            "_model_name": "HBoxModel",
            "_view_count": null,
            "_view_module": "@jupyter-widgets/controls",
            "_view_module_version": "1.5.0",
            "_view_name": "HBoxView",
            "box_style": "",
            "children": [
              "IPY_MODEL_c1dedb85522f4b5c8a575d721c1b7a2b",
              "IPY_MODEL_eb6a6d4016a3452fa5794e4b7e5e93c1",
              "IPY_MODEL_7e20c96bd24743ce8b0cfa889dc10628"
            ],
            "layout": "IPY_MODEL_f0275ac5826f43ee84d8fb29cc4d21ab"
          }
        },
        "b58225fb8c5c4e5f9be7a8523e9a4757": {
          "model_module": "@jupyter-widgets/controls",
          "model_module_version": "1.5.0",
          "model_name": "HTMLModel",
          "state": {
            "_dom_classes": [],
            "_model_module": "@jupyter-widgets/controls",
            "_model_module_version": "1.5.0",
            "_model_name": "HTMLModel",
            "_view_count": null,
            "_view_module": "@jupyter-widgets/controls",
            "_view_module_version": "1.5.0",
            "_view_name": "HTMLView",
            "description": "",
            "description_tooltip": null,
            "layout": "IPY_MODEL_6ce960a58597429dae8789746e4f9a41",
            "placeholder": "​",
            "style": "IPY_MODEL_90bfc0192ff34ab1ad48600b50b573e2",
            "value": " 1500/1500 [01:57&lt;00:00, 12.36it/s, loss=0.321]"
          }
        },
        "b878181f55f8476d9d2ea7276623b55c": {
          "model_module": "@jupyter-widgets/base",
          "model_module_version": "1.2.0",
          "model_name": "LayoutModel",
          "state": {
            "_model_module": "@jupyter-widgets/base",
            "_model_module_version": "1.2.0",
            "_model_name": "LayoutModel",
            "_view_count": null,
            "_view_module": "@jupyter-widgets/base",
            "_view_module_version": "1.2.0",
            "_view_name": "LayoutView",
            "align_content": null,
            "align_items": null,
            "align_self": null,
            "border": null,
            "bottom": null,
            "display": null,
            "flex": null,
            "flex_flow": null,
            "grid_area": null,
            "grid_auto_columns": null,
            "grid_auto_flow": null,
            "grid_auto_rows": null,
            "grid_column": null,
            "grid_gap": null,
            "grid_row": null,
            "grid_template_areas": null,
            "grid_template_columns": null,
            "grid_template_rows": null,
            "height": null,
            "justify_content": null,
            "justify_items": null,
            "left": null,
            "margin": null,
            "max_height": null,
            "max_width": null,
            "min_height": null,
            "min_width": null,
            "object_fit": null,
            "object_position": null,
            "order": null,
            "overflow": null,
            "overflow_x": null,
            "overflow_y": null,
            "padding": null,
            "right": null,
            "top": null,
            "visibility": null,
            "width": null
          }
        },
        "b9c86d011d2143c097642c9f536d31d3": {
          "model_module": "@jupyter-widgets/controls",
          "model_module_version": "1.5.0",
          "model_name": "HTMLModel",
          "state": {
            "_dom_classes": [],
            "_model_module": "@jupyter-widgets/controls",
            "_model_module_version": "1.5.0",
            "_model_name": "HTMLModel",
            "_view_count": null,
            "_view_module": "@jupyter-widgets/controls",
            "_view_module_version": "1.5.0",
            "_view_name": "HTMLView",
            "description": "",
            "description_tooltip": null,
            "layout": "IPY_MODEL_8d2441d4a5974ea1a37b32e7c7bb9fb9",
            "placeholder": "​",
            "style": "IPY_MODEL_409d38b7856e4e1bab300a8871c19941",
            "value": " 0/1 [00:00&lt;?, ?it/s]"
          }
        },
        "b9d057b630204818afecb0a169c252e8": {
          "model_module": "@jupyter-widgets/controls",
          "model_module_version": "1.5.0",
          "model_name": "DescriptionStyleModel",
          "state": {
            "_model_module": "@jupyter-widgets/controls",
            "_model_module_version": "1.5.0",
            "_model_name": "DescriptionStyleModel",
            "_view_count": null,
            "_view_module": "@jupyter-widgets/base",
            "_view_module_version": "1.2.0",
            "_view_name": "StyleView",
            "description_width": ""
          }
        },
        "b9f96ed327cc421bb026136dd12f8c44": {
          "model_module": "@jupyter-widgets/controls",
          "model_module_version": "1.5.0",
          "model_name": "FloatProgressModel",
          "state": {
            "_dom_classes": [],
            "_model_module": "@jupyter-widgets/controls",
            "_model_module_version": "1.5.0",
            "_model_name": "FloatProgressModel",
            "_view_count": null,
            "_view_module": "@jupyter-widgets/controls",
            "_view_module_version": "1.5.0",
            "_view_name": "ProgressView",
            "bar_style": "",
            "description": "",
            "description_tooltip": null,
            "layout": "IPY_MODEL_0959cf369c894c4b91301bedb159a491",
            "max": 438,
            "min": 0,
            "orientation": "horizontal",
            "style": "IPY_MODEL_f76af9d9f66a44068a4e40c178c81c98",
            "value": 62
          }
        },
        "bb5c83a1a09845c3a62922b3de0ddd47": {
          "model_module": "@jupyter-widgets/controls",
          "model_module_version": "1.5.0",
          "model_name": "DescriptionStyleModel",
          "state": {
            "_model_module": "@jupyter-widgets/controls",
            "_model_module_version": "1.5.0",
            "_model_name": "DescriptionStyleModel",
            "_view_count": null,
            "_view_module": "@jupyter-widgets/base",
            "_view_module_version": "1.2.0",
            "_view_name": "StyleView",
            "description_width": ""
          }
        },
        "bb71d3450077405c8fcc785e2f354484": {
          "model_module": "@jupyter-widgets/base",
          "model_module_version": "1.2.0",
          "model_name": "LayoutModel",
          "state": {
            "_model_module": "@jupyter-widgets/base",
            "_model_module_version": "1.2.0",
            "_model_name": "LayoutModel",
            "_view_count": null,
            "_view_module": "@jupyter-widgets/base",
            "_view_module_version": "1.2.0",
            "_view_name": "LayoutView",
            "align_content": null,
            "align_items": null,
            "align_self": null,
            "border": null,
            "bottom": null,
            "display": null,
            "flex": null,
            "flex_flow": null,
            "grid_area": null,
            "grid_auto_columns": null,
            "grid_auto_flow": null,
            "grid_auto_rows": null,
            "grid_column": null,
            "grid_gap": null,
            "grid_row": null,
            "grid_template_areas": null,
            "grid_template_columns": null,
            "grid_template_rows": null,
            "height": null,
            "justify_content": null,
            "justify_items": null,
            "left": null,
            "margin": null,
            "max_height": null,
            "max_width": null,
            "min_height": null,
            "min_width": null,
            "object_fit": null,
            "object_position": null,
            "order": null,
            "overflow": null,
            "overflow_x": null,
            "overflow_y": null,
            "padding": null,
            "right": null,
            "top": null,
            "visibility": null,
            "width": null
          }
        },
        "bde794a54abd48d08fd9493272f7d84b": {
          "model_module": "@jupyter-widgets/controls",
          "model_module_version": "1.5.0",
          "model_name": "DescriptionStyleModel",
          "state": {
            "_model_module": "@jupyter-widgets/controls",
            "_model_module_version": "1.5.0",
            "_model_name": "DescriptionStyleModel",
            "_view_count": null,
            "_view_module": "@jupyter-widgets/base",
            "_view_module_version": "1.2.0",
            "_view_name": "StyleView",
            "description_width": ""
          }
        },
        "be82c881ab91476db0207777a23cce88": {
          "model_module": "@jupyter-widgets/base",
          "model_module_version": "1.2.0",
          "model_name": "LayoutModel",
          "state": {
            "_model_module": "@jupyter-widgets/base",
            "_model_module_version": "1.2.0",
            "_model_name": "LayoutModel",
            "_view_count": null,
            "_view_module": "@jupyter-widgets/base",
            "_view_module_version": "1.2.0",
            "_view_name": "LayoutView",
            "align_content": null,
            "align_items": null,
            "align_self": null,
            "border": null,
            "bottom": null,
            "display": null,
            "flex": null,
            "flex_flow": null,
            "grid_area": null,
            "grid_auto_columns": null,
            "grid_auto_flow": null,
            "grid_auto_rows": null,
            "grid_column": null,
            "grid_gap": null,
            "grid_row": null,
            "grid_template_areas": null,
            "grid_template_columns": null,
            "grid_template_rows": null,
            "height": null,
            "justify_content": null,
            "justify_items": null,
            "left": null,
            "margin": null,
            "max_height": null,
            "max_width": null,
            "min_height": null,
            "min_width": null,
            "object_fit": null,
            "object_position": null,
            "order": null,
            "overflow": null,
            "overflow_x": null,
            "overflow_y": null,
            "padding": null,
            "right": null,
            "top": null,
            "visibility": null,
            "width": null
          }
        },
        "bf3ed18ac1da40a0ab360224849138ce": {
          "model_module": "@jupyter-widgets/controls",
          "model_module_version": "1.5.0",
          "model_name": "FloatProgressModel",
          "state": {
            "_dom_classes": [],
            "_model_module": "@jupyter-widgets/controls",
            "_model_module_version": "1.5.0",
            "_model_name": "FloatProgressModel",
            "_view_count": null,
            "_view_module": "@jupyter-widgets/controls",
            "_view_module_version": "1.5.0",
            "_view_name": "ProgressView",
            "bar_style": "success",
            "description": "",
            "description_tooltip": null,
            "layout": "IPY_MODEL_df8cb89900e14792bc6f9874fd638353",
            "max": 1500,
            "min": 0,
            "orientation": "horizontal",
            "style": "IPY_MODEL_8cc1a272cfbc44538de9b37cd5f7299d",
            "value": 1500
          }
        },
        "bfef1626431a42daac24592a2d844da8": {
          "model_module": "@jupyter-widgets/base",
          "model_module_version": "1.2.0",
          "model_name": "LayoutModel",
          "state": {
            "_model_module": "@jupyter-widgets/base",
            "_model_module_version": "1.2.0",
            "_model_name": "LayoutModel",
            "_view_count": null,
            "_view_module": "@jupyter-widgets/base",
            "_view_module_version": "1.2.0",
            "_view_name": "LayoutView",
            "align_content": null,
            "align_items": null,
            "align_self": null,
            "border": null,
            "bottom": null,
            "display": null,
            "flex": null,
            "flex_flow": null,
            "grid_area": null,
            "grid_auto_columns": null,
            "grid_auto_flow": null,
            "grid_auto_rows": null,
            "grid_column": null,
            "grid_gap": null,
            "grid_row": null,
            "grid_template_areas": null,
            "grid_template_columns": null,
            "grid_template_rows": null,
            "height": null,
            "justify_content": null,
            "justify_items": null,
            "left": null,
            "margin": null,
            "max_height": null,
            "max_width": null,
            "min_height": null,
            "min_width": null,
            "object_fit": null,
            "object_position": null,
            "order": null,
            "overflow": null,
            "overflow_x": null,
            "overflow_y": null,
            "padding": null,
            "right": null,
            "top": null,
            "visibility": null,
            "width": null
          }
        },
        "c16470a55b9f49e68447a3fc4e20cf97": {
          "model_module": "@jupyter-widgets/controls",
          "model_module_version": "1.5.0",
          "model_name": "DescriptionStyleModel",
          "state": {
            "_model_module": "@jupyter-widgets/controls",
            "_model_module_version": "1.5.0",
            "_model_name": "DescriptionStyleModel",
            "_view_count": null,
            "_view_module": "@jupyter-widgets/base",
            "_view_module_version": "1.2.0",
            "_view_name": "StyleView",
            "description_width": ""
          }
        },
        "c1dedb85522f4b5c8a575d721c1b7a2b": {
          "model_module": "@jupyter-widgets/controls",
          "model_module_version": "1.5.0",
          "model_name": "HTMLModel",
          "state": {
            "_dom_classes": [],
            "_model_module": "@jupyter-widgets/controls",
            "_model_module_version": "1.5.0",
            "_model_name": "HTMLModel",
            "_view_count": null,
            "_view_module": "@jupyter-widgets/controls",
            "_view_module_version": "1.5.0",
            "_view_name": "HTMLView",
            "description": "",
            "description_tooltip": null,
            "layout": "IPY_MODEL_e13d9fbf1d9b4eb98251ce1d89f3bb16",
            "placeholder": "​",
            "style": "IPY_MODEL_d78d5a341e1f4f6584dd2477dcffa356",
            "value": "100%"
          }
        },
        "c33cb9677b6a44498725b11f3098892c": {
          "model_module": "@jupyter-widgets/base",
          "model_module_version": "1.2.0",
          "model_name": "LayoutModel",
          "state": {
            "_model_module": "@jupyter-widgets/base",
            "_model_module_version": "1.2.0",
            "_model_name": "LayoutModel",
            "_view_count": null,
            "_view_module": "@jupyter-widgets/base",
            "_view_module_version": "1.2.0",
            "_view_name": "LayoutView",
            "align_content": null,
            "align_items": null,
            "align_self": null,
            "border": null,
            "bottom": null,
            "display": null,
            "flex": null,
            "flex_flow": null,
            "grid_area": null,
            "grid_auto_columns": null,
            "grid_auto_flow": null,
            "grid_auto_rows": null,
            "grid_column": null,
            "grid_gap": null,
            "grid_row": null,
            "grid_template_areas": null,
            "grid_template_columns": null,
            "grid_template_rows": null,
            "height": null,
            "justify_content": null,
            "justify_items": null,
            "left": null,
            "margin": null,
            "max_height": null,
            "max_width": null,
            "min_height": null,
            "min_width": null,
            "object_fit": null,
            "object_position": null,
            "order": null,
            "overflow": null,
            "overflow_x": null,
            "overflow_y": null,
            "padding": null,
            "right": null,
            "top": null,
            "visibility": null,
            "width": null
          }
        },
        "c34ea308297649cd9cd7802c2a1b8418": {
          "model_module": "@jupyter-widgets/base",
          "model_module_version": "1.2.0",
          "model_name": "LayoutModel",
          "state": {
            "_model_module": "@jupyter-widgets/base",
            "_model_module_version": "1.2.0",
            "_model_name": "LayoutModel",
            "_view_count": null,
            "_view_module": "@jupyter-widgets/base",
            "_view_module_version": "1.2.0",
            "_view_name": "LayoutView",
            "align_content": null,
            "align_items": null,
            "align_self": null,
            "border": null,
            "bottom": null,
            "display": null,
            "flex": null,
            "flex_flow": null,
            "grid_area": null,
            "grid_auto_columns": null,
            "grid_auto_flow": null,
            "grid_auto_rows": null,
            "grid_column": null,
            "grid_gap": null,
            "grid_row": null,
            "grid_template_areas": null,
            "grid_template_columns": null,
            "grid_template_rows": null,
            "height": null,
            "justify_content": null,
            "justify_items": null,
            "left": null,
            "margin": null,
            "max_height": null,
            "max_width": null,
            "min_height": null,
            "min_width": null,
            "object_fit": null,
            "object_position": null,
            "order": null,
            "overflow": null,
            "overflow_x": null,
            "overflow_y": null,
            "padding": null,
            "right": null,
            "top": null,
            "visibility": null,
            "width": null
          }
        },
        "c638d959d9b84f0fbea7f038f7a9f040": {
          "model_module": "@jupyter-widgets/controls",
          "model_module_version": "1.5.0",
          "model_name": "HBoxModel",
          "state": {
            "_dom_classes": [],
            "_model_module": "@jupyter-widgets/controls",
            "_model_module_version": "1.5.0",
            "_model_name": "HBoxModel",
            "_view_count": null,
            "_view_module": "@jupyter-widgets/controls",
            "_view_module_version": "1.5.0",
            "_view_name": "HBoxView",
            "box_style": "",
            "children": [
              "IPY_MODEL_ecebac53851c406bbfb714acf4fa6172",
              "IPY_MODEL_8530598c3be2478c8863ae894d8cb132",
              "IPY_MODEL_98c49beee4b148e7b235d1840285c7df"
            ],
            "layout": "IPY_MODEL_020a7b76038f48ed8d3eb7bba6fa199f"
          }
        },
        "cb9991f461f5465bb55fb99777fe9dc0": {
          "model_module": "@jupyter-widgets/controls",
          "model_module_version": "1.5.0",
          "model_name": "DescriptionStyleModel",
          "state": {
            "_model_module": "@jupyter-widgets/controls",
            "_model_module_version": "1.5.0",
            "_model_name": "DescriptionStyleModel",
            "_view_count": null,
            "_view_module": "@jupyter-widgets/base",
            "_view_module_version": "1.2.0",
            "_view_name": "StyleView",
            "description_width": ""
          }
        },
        "ce1e49a7de9c4c3787b6bad2fa973f5e": {
          "model_module": "@jupyter-widgets/controls",
          "model_module_version": "1.5.0",
          "model_name": "FloatProgressModel",
          "state": {
            "_dom_classes": [],
            "_model_module": "@jupyter-widgets/controls",
            "_model_module_version": "1.5.0",
            "_model_name": "FloatProgressModel",
            "_view_count": null,
            "_view_module": "@jupyter-widgets/controls",
            "_view_module_version": "1.5.0",
            "_view_name": "ProgressView",
            "bar_style": "success",
            "description": "",
            "description_tooltip": null,
            "layout": "IPY_MODEL_200e7ea481564426ad7c1b6bfca21bdd",
            "max": 500,
            "min": 0,
            "orientation": "horizontal",
            "style": "IPY_MODEL_ad4bc0f1ddc740459e1a04a8662f41e3",
            "value": 500
          }
        },
        "d286c40d3629447ea371158663dbaa1d": {
          "model_module": "@jupyter-widgets/controls",
          "model_module_version": "1.5.0",
          "model_name": "DescriptionStyleModel",
          "state": {
            "_model_module": "@jupyter-widgets/controls",
            "_model_module_version": "1.5.0",
            "_model_name": "DescriptionStyleModel",
            "_view_count": null,
            "_view_module": "@jupyter-widgets/base",
            "_view_module_version": "1.2.0",
            "_view_name": "StyleView",
            "description_width": ""
          }
        },
        "d78d5a341e1f4f6584dd2477dcffa356": {
          "model_module": "@jupyter-widgets/controls",
          "model_module_version": "1.5.0",
          "model_name": "DescriptionStyleModel",
          "state": {
            "_model_module": "@jupyter-widgets/controls",
            "_model_module_version": "1.5.0",
            "_model_name": "DescriptionStyleModel",
            "_view_count": null,
            "_view_module": "@jupyter-widgets/base",
            "_view_module_version": "1.2.0",
            "_view_name": "StyleView",
            "description_width": ""
          }
        },
        "d97f00cdf4df4c818c6fb8db5f0109e4": {
          "model_module": "@jupyter-widgets/controls",
          "model_module_version": "1.5.0",
          "model_name": "FloatProgressModel",
          "state": {
            "_dom_classes": [],
            "_model_module": "@jupyter-widgets/controls",
            "_model_module_version": "1.5.0",
            "_model_name": "FloatProgressModel",
            "_view_count": null,
            "_view_module": "@jupyter-widgets/controls",
            "_view_module_version": "1.5.0",
            "_view_name": "ProgressView",
            "bar_style": "success",
            "description": "",
            "description_tooltip": null,
            "layout": "IPY_MODEL_92542a79d4934c0eb0dd2122c6c98c1d",
            "max": 3,
            "min": 0,
            "orientation": "horizontal",
            "style": "IPY_MODEL_1fa47f5868cb436fb75c70a0a9be7be2",
            "value": 3
          }
        },
        "da38c7d5d32540289df3167f8e9eaa57": {
          "model_module": "@jupyter-widgets/base",
          "model_module_version": "1.2.0",
          "model_name": "LayoutModel",
          "state": {
            "_model_module": "@jupyter-widgets/base",
            "_model_module_version": "1.2.0",
            "_model_name": "LayoutModel",
            "_view_count": null,
            "_view_module": "@jupyter-widgets/base",
            "_view_module_version": "1.2.0",
            "_view_name": "LayoutView",
            "align_content": null,
            "align_items": null,
            "align_self": null,
            "border": null,
            "bottom": null,
            "display": null,
            "flex": null,
            "flex_flow": null,
            "grid_area": null,
            "grid_auto_columns": null,
            "grid_auto_flow": null,
            "grid_auto_rows": null,
            "grid_column": null,
            "grid_gap": null,
            "grid_row": null,
            "grid_template_areas": null,
            "grid_template_columns": null,
            "grid_template_rows": null,
            "height": null,
            "justify_content": null,
            "justify_items": null,
            "left": null,
            "margin": null,
            "max_height": null,
            "max_width": null,
            "min_height": null,
            "min_width": null,
            "object_fit": null,
            "object_position": null,
            "order": null,
            "overflow": null,
            "overflow_x": null,
            "overflow_y": null,
            "padding": null,
            "right": null,
            "top": null,
            "visibility": null,
            "width": null
          }
        },
        "dc49084231aa4c2ca4e68a2b142b503a": {
          "model_module": "@jupyter-widgets/controls",
          "model_module_version": "1.5.0",
          "model_name": "ProgressStyleModel",
          "state": {
            "_model_module": "@jupyter-widgets/controls",
            "_model_module_version": "1.5.0",
            "_model_name": "ProgressStyleModel",
            "_view_count": null,
            "_view_module": "@jupyter-widgets/base",
            "_view_module_version": "1.2.0",
            "_view_name": "StyleView",
            "bar_color": null,
            "description_width": ""
          }
        },
        "debb79cf17dd4ec6bc43f8295b8d8642": {
          "model_module": "@jupyter-widgets/controls",
          "model_module_version": "1.5.0",
          "model_name": "DescriptionStyleModel",
          "state": {
            "_model_module": "@jupyter-widgets/controls",
            "_model_module_version": "1.5.0",
            "_model_name": "DescriptionStyleModel",
            "_view_count": null,
            "_view_module": "@jupyter-widgets/base",
            "_view_module_version": "1.2.0",
            "_view_name": "StyleView",
            "description_width": ""
          }
        },
        "df8cb89900e14792bc6f9874fd638353": {
          "model_module": "@jupyter-widgets/base",
          "model_module_version": "1.2.0",
          "model_name": "LayoutModel",
          "state": {
            "_model_module": "@jupyter-widgets/base",
            "_model_module_version": "1.2.0",
            "_model_name": "LayoutModel",
            "_view_count": null,
            "_view_module": "@jupyter-widgets/base",
            "_view_module_version": "1.2.0",
            "_view_name": "LayoutView",
            "align_content": null,
            "align_items": null,
            "align_self": null,
            "border": null,
            "bottom": null,
            "display": null,
            "flex": null,
            "flex_flow": null,
            "grid_area": null,
            "grid_auto_columns": null,
            "grid_auto_flow": null,
            "grid_auto_rows": null,
            "grid_column": null,
            "grid_gap": null,
            "grid_row": null,
            "grid_template_areas": null,
            "grid_template_columns": null,
            "grid_template_rows": null,
            "height": null,
            "justify_content": null,
            "justify_items": null,
            "left": null,
            "margin": null,
            "max_height": null,
            "max_width": null,
            "min_height": null,
            "min_width": null,
            "object_fit": null,
            "object_position": null,
            "order": null,
            "overflow": null,
            "overflow_x": null,
            "overflow_y": null,
            "padding": null,
            "right": null,
            "top": null,
            "visibility": null,
            "width": null
          }
        },
        "e004699e6e0d46328eb51e5355231caf": {
          "model_module": "@jupyter-widgets/controls",
          "model_module_version": "1.5.0",
          "model_name": "HBoxModel",
          "state": {
            "_dom_classes": [],
            "_model_module": "@jupyter-widgets/controls",
            "_model_module_version": "1.5.0",
            "_model_name": "HBoxModel",
            "_view_count": null,
            "_view_module": "@jupyter-widgets/controls",
            "_view_module_version": "1.5.0",
            "_view_name": "HBoxView",
            "box_style": "",
            "children": [
              "IPY_MODEL_9ef45bb9f7f9452085ab9ddc0b93cda4",
              "IPY_MODEL_25b764e1987d4d4c838c1c906e9432a2",
              "IPY_MODEL_08de2ffee3ba4c7c916fec1af7f3daca"
            ],
            "layout": "IPY_MODEL_84ffc7946e0a4c1da5f1ad01f3077ffc"
          }
        },
        "e0c109d2113d4338aedd7aeb1a439d53": {
          "model_module": "@jupyter-widgets/controls",
          "model_module_version": "1.5.0",
          "model_name": "DescriptionStyleModel",
          "state": {
            "_model_module": "@jupyter-widgets/controls",
            "_model_module_version": "1.5.0",
            "_model_name": "DescriptionStyleModel",
            "_view_count": null,
            "_view_module": "@jupyter-widgets/base",
            "_view_module_version": "1.2.0",
            "_view_name": "StyleView",
            "description_width": ""
          }
        },
        "e13d9fbf1d9b4eb98251ce1d89f3bb16": {
          "model_module": "@jupyter-widgets/base",
          "model_module_version": "1.2.0",
          "model_name": "LayoutModel",
          "state": {
            "_model_module": "@jupyter-widgets/base",
            "_model_module_version": "1.2.0",
            "_model_name": "LayoutModel",
            "_view_count": null,
            "_view_module": "@jupyter-widgets/base",
            "_view_module_version": "1.2.0",
            "_view_name": "LayoutView",
            "align_content": null,
            "align_items": null,
            "align_self": null,
            "border": null,
            "bottom": null,
            "display": null,
            "flex": null,
            "flex_flow": null,
            "grid_area": null,
            "grid_auto_columns": null,
            "grid_auto_flow": null,
            "grid_auto_rows": null,
            "grid_column": null,
            "grid_gap": null,
            "grid_row": null,
            "grid_template_areas": null,
            "grid_template_columns": null,
            "grid_template_rows": null,
            "height": null,
            "justify_content": null,
            "justify_items": null,
            "left": null,
            "margin": null,
            "max_height": null,
            "max_width": null,
            "min_height": null,
            "min_width": null,
            "object_fit": null,
            "object_position": null,
            "order": null,
            "overflow": null,
            "overflow_x": null,
            "overflow_y": null,
            "padding": null,
            "right": null,
            "top": null,
            "visibility": null,
            "width": null
          }
        },
        "e23b5257e6ad43aba551376fd5e8a287": {
          "model_module": "@jupyter-widgets/controls",
          "model_module_version": "1.5.0",
          "model_name": "FloatProgressModel",
          "state": {
            "_dom_classes": [],
            "_model_module": "@jupyter-widgets/controls",
            "_model_module_version": "1.5.0",
            "_model_name": "FloatProgressModel",
            "_view_count": null,
            "_view_module": "@jupyter-widgets/controls",
            "_view_module_version": "1.5.0",
            "_view_name": "ProgressView",
            "bar_style": "success",
            "description": "",
            "description_tooltip": null,
            "layout": "IPY_MODEL_971166d8d778495abf24ec3a7badfaf4",
            "max": 1500,
            "min": 0,
            "orientation": "horizontal",
            "style": "IPY_MODEL_616647b4c43a4e82a3db32a5fd6dd49c",
            "value": 1500
          }
        },
        "e8b42eb62eea4301994f76354406a91d": {
          "model_module": "@jupyter-widgets/base",
          "model_module_version": "1.2.0",
          "model_name": "LayoutModel",
          "state": {
            "_model_module": "@jupyter-widgets/base",
            "_model_module_version": "1.2.0",
            "_model_name": "LayoutModel",
            "_view_count": null,
            "_view_module": "@jupyter-widgets/base",
            "_view_module_version": "1.2.0",
            "_view_name": "LayoutView",
            "align_content": null,
            "align_items": null,
            "align_self": null,
            "border": null,
            "bottom": null,
            "display": null,
            "flex": null,
            "flex_flow": null,
            "grid_area": null,
            "grid_auto_columns": null,
            "grid_auto_flow": null,
            "grid_auto_rows": null,
            "grid_column": null,
            "grid_gap": null,
            "grid_row": null,
            "grid_template_areas": null,
            "grid_template_columns": null,
            "grid_template_rows": null,
            "height": null,
            "justify_content": null,
            "justify_items": null,
            "left": null,
            "margin": null,
            "max_height": null,
            "max_width": null,
            "min_height": null,
            "min_width": null,
            "object_fit": null,
            "object_position": null,
            "order": null,
            "overflow": null,
            "overflow_x": null,
            "overflow_y": null,
            "padding": null,
            "right": null,
            "top": null,
            "visibility": null,
            "width": null
          }
        },
        "ea499c0b028f42558f79a3528e053af9": {
          "model_module": "@jupyter-widgets/controls",
          "model_module_version": "1.5.0",
          "model_name": "DescriptionStyleModel",
          "state": {
            "_model_module": "@jupyter-widgets/controls",
            "_model_module_version": "1.5.0",
            "_model_name": "DescriptionStyleModel",
            "_view_count": null,
            "_view_module": "@jupyter-widgets/base",
            "_view_module_version": "1.2.0",
            "_view_name": "StyleView",
            "description_width": ""
          }
        },
        "eb6a6d4016a3452fa5794e4b7e5e93c1": {
          "model_module": "@jupyter-widgets/controls",
          "model_module_version": "1.5.0",
          "model_name": "FloatProgressModel",
          "state": {
            "_dom_classes": [],
            "_model_module": "@jupyter-widgets/controls",
            "_model_module_version": "1.5.0",
            "_model_name": "FloatProgressModel",
            "_view_count": null,
            "_view_module": "@jupyter-widgets/controls",
            "_view_module_version": "1.5.0",
            "_view_name": "ProgressView",
            "bar_style": "success",
            "description": "",
            "description_tooltip": null,
            "layout": "IPY_MODEL_3d9adb6616064661bddd48919e5c495d",
            "max": 1,
            "min": 0,
            "orientation": "horizontal",
            "style": "IPY_MODEL_5077a83f9e684a2e9215bb7a612d551b",
            "value": 1
          }
        },
        "ecebac53851c406bbfb714acf4fa6172": {
          "model_module": "@jupyter-widgets/controls",
          "model_module_version": "1.5.0",
          "model_name": "HTMLModel",
          "state": {
            "_dom_classes": [],
            "_model_module": "@jupyter-widgets/controls",
            "_model_module_version": "1.5.0",
            "_model_name": "HTMLModel",
            "_view_count": null,
            "_view_module": "@jupyter-widgets/controls",
            "_view_module_version": "1.5.0",
            "_view_name": "HTMLView",
            "description": "",
            "description_tooltip": null,
            "layout": "IPY_MODEL_2c476815fb184d5790d781a08f9c5519",
            "placeholder": "​",
            "style": "IPY_MODEL_357675a55e414e489933c825fe021ce6",
            "value": "100%"
          }
        },
        "eea1fee8cac34dfd9ccc38845a5c9966": {
          "model_module": "@jupyter-widgets/controls",
          "model_module_version": "1.5.0",
          "model_name": "DescriptionStyleModel",
          "state": {
            "_model_module": "@jupyter-widgets/controls",
            "_model_module_version": "1.5.0",
            "_model_name": "DescriptionStyleModel",
            "_view_count": null,
            "_view_module": "@jupyter-widgets/base",
            "_view_module_version": "1.2.0",
            "_view_name": "StyleView",
            "description_width": ""
          }
        },
        "f0275ac5826f43ee84d8fb29cc4d21ab": {
          "model_module": "@jupyter-widgets/base",
          "model_module_version": "1.2.0",
          "model_name": "LayoutModel",
          "state": {
            "_model_module": "@jupyter-widgets/base",
            "_model_module_version": "1.2.0",
            "_model_name": "LayoutModel",
            "_view_count": null,
            "_view_module": "@jupyter-widgets/base",
            "_view_module_version": "1.2.0",
            "_view_name": "LayoutView",
            "align_content": null,
            "align_items": null,
            "align_self": null,
            "border": null,
            "bottom": null,
            "display": null,
            "flex": null,
            "flex_flow": null,
            "grid_area": null,
            "grid_auto_columns": null,
            "grid_auto_flow": null,
            "grid_auto_rows": null,
            "grid_column": null,
            "grid_gap": null,
            "grid_row": null,
            "grid_template_areas": null,
            "grid_template_columns": null,
            "grid_template_rows": null,
            "height": null,
            "justify_content": null,
            "justify_items": null,
            "left": null,
            "margin": null,
            "max_height": null,
            "max_width": null,
            "min_height": null,
            "min_width": null,
            "object_fit": null,
            "object_position": null,
            "order": null,
            "overflow": null,
            "overflow_x": null,
            "overflow_y": null,
            "padding": null,
            "right": null,
            "top": null,
            "visibility": null,
            "width": null
          }
        },
        "f069bc36070a4a718eb11a0efb75b4f2": {
          "model_module": "@jupyter-widgets/controls",
          "model_module_version": "1.5.0",
          "model_name": "HTMLModel",
          "state": {
            "_dom_classes": [],
            "_model_module": "@jupyter-widgets/controls",
            "_model_module_version": "1.5.0",
            "_model_name": "HTMLModel",
            "_view_count": null,
            "_view_module": "@jupyter-widgets/controls",
            "_view_module_version": "1.5.0",
            "_view_name": "HTMLView",
            "description": "",
            "description_tooltip": null,
            "layout": "IPY_MODEL_f8e4b60b7378481393823426f117e573",
            "placeholder": "​",
            "style": "IPY_MODEL_ea499c0b028f42558f79a3528e053af9",
            "value": "100%"
          }
        },
        "f188aff25f2a433ea126fb6b64322be4": {
          "model_module": "@jupyter-widgets/base",
          "model_module_version": "1.2.0",
          "model_name": "LayoutModel",
          "state": {
            "_model_module": "@jupyter-widgets/base",
            "_model_module_version": "1.2.0",
            "_model_name": "LayoutModel",
            "_view_count": null,
            "_view_module": "@jupyter-widgets/base",
            "_view_module_version": "1.2.0",
            "_view_name": "LayoutView",
            "align_content": null,
            "align_items": null,
            "align_self": null,
            "border": null,
            "bottom": null,
            "display": null,
            "flex": null,
            "flex_flow": null,
            "grid_area": null,
            "grid_auto_columns": null,
            "grid_auto_flow": null,
            "grid_auto_rows": null,
            "grid_column": null,
            "grid_gap": null,
            "grid_row": null,
            "grid_template_areas": null,
            "grid_template_columns": null,
            "grid_template_rows": null,
            "height": null,
            "justify_content": null,
            "justify_items": null,
            "left": null,
            "margin": null,
            "max_height": null,
            "max_width": null,
            "min_height": null,
            "min_width": null,
            "object_fit": null,
            "object_position": null,
            "order": null,
            "overflow": null,
            "overflow_x": null,
            "overflow_y": null,
            "padding": null,
            "right": null,
            "top": null,
            "visibility": null,
            "width": null
          }
        },
        "f207b8fc38074d4d9b95cc06cc9d14a8": {
          "model_module": "@jupyter-widgets/controls",
          "model_module_version": "1.5.0",
          "model_name": "HTMLModel",
          "state": {
            "_dom_classes": [],
            "_model_module": "@jupyter-widgets/controls",
            "_model_module_version": "1.5.0",
            "_model_name": "HTMLModel",
            "_view_count": null,
            "_view_module": "@jupyter-widgets/controls",
            "_view_module_version": "1.5.0",
            "_view_name": "HTMLView",
            "description": "",
            "description_tooltip": null,
            "layout": "IPY_MODEL_b142d3e7f8df429f909da96e528a8d94",
            "placeholder": "​",
            "style": "IPY_MODEL_eea1fee8cac34dfd9ccc38845a5c9966",
            "value": "100%"
          }
        },
        "f62bb698689944f583fd5ec949282efa": {
          "model_module": "@jupyter-widgets/base",
          "model_module_version": "1.2.0",
          "model_name": "LayoutModel",
          "state": {
            "_model_module": "@jupyter-widgets/base",
            "_model_module_version": "1.2.0",
            "_model_name": "LayoutModel",
            "_view_count": null,
            "_view_module": "@jupyter-widgets/base",
            "_view_module_version": "1.2.0",
            "_view_name": "LayoutView",
            "align_content": null,
            "align_items": null,
            "align_self": null,
            "border": null,
            "bottom": null,
            "display": null,
            "flex": null,
            "flex_flow": null,
            "grid_area": null,
            "grid_auto_columns": null,
            "grid_auto_flow": null,
            "grid_auto_rows": null,
            "grid_column": null,
            "grid_gap": null,
            "grid_row": null,
            "grid_template_areas": null,
            "grid_template_columns": null,
            "grid_template_rows": null,
            "height": null,
            "justify_content": null,
            "justify_items": null,
            "left": null,
            "margin": null,
            "max_height": null,
            "max_width": null,
            "min_height": null,
            "min_width": null,
            "object_fit": null,
            "object_position": null,
            "order": null,
            "overflow": null,
            "overflow_x": null,
            "overflow_y": null,
            "padding": null,
            "right": null,
            "top": null,
            "visibility": null,
            "width": null
          }
        },
        "f6c6bfe769a8484cbe79877fc680567c": {
          "model_module": "@jupyter-widgets/base",
          "model_module_version": "1.2.0",
          "model_name": "LayoutModel",
          "state": {
            "_model_module": "@jupyter-widgets/base",
            "_model_module_version": "1.2.0",
            "_model_name": "LayoutModel",
            "_view_count": null,
            "_view_module": "@jupyter-widgets/base",
            "_view_module_version": "1.2.0",
            "_view_name": "LayoutView",
            "align_content": null,
            "align_items": null,
            "align_self": null,
            "border": null,
            "bottom": null,
            "display": null,
            "flex": null,
            "flex_flow": null,
            "grid_area": null,
            "grid_auto_columns": null,
            "grid_auto_flow": null,
            "grid_auto_rows": null,
            "grid_column": null,
            "grid_gap": null,
            "grid_row": null,
            "grid_template_areas": null,
            "grid_template_columns": null,
            "grid_template_rows": null,
            "height": null,
            "justify_content": null,
            "justify_items": null,
            "left": null,
            "margin": null,
            "max_height": null,
            "max_width": null,
            "min_height": null,
            "min_width": null,
            "object_fit": null,
            "object_position": null,
            "order": null,
            "overflow": null,
            "overflow_x": null,
            "overflow_y": null,
            "padding": null,
            "right": null,
            "top": null,
            "visibility": null,
            "width": null
          }
        },
        "f76af9d9f66a44068a4e40c178c81c98": {
          "model_module": "@jupyter-widgets/controls",
          "model_module_version": "1.5.0",
          "model_name": "ProgressStyleModel",
          "state": {
            "_model_module": "@jupyter-widgets/controls",
            "_model_module_version": "1.5.0",
            "_model_name": "ProgressStyleModel",
            "_view_count": null,
            "_view_module": "@jupyter-widgets/base",
            "_view_module_version": "1.2.0",
            "_view_name": "StyleView",
            "bar_color": null,
            "description_width": ""
          }
        },
        "f8e4b60b7378481393823426f117e573": {
          "model_module": "@jupyter-widgets/base",
          "model_module_version": "1.2.0",
          "model_name": "LayoutModel",
          "state": {
            "_model_module": "@jupyter-widgets/base",
            "_model_module_version": "1.2.0",
            "_model_name": "LayoutModel",
            "_view_count": null,
            "_view_module": "@jupyter-widgets/base",
            "_view_module_version": "1.2.0",
            "_view_name": "LayoutView",
            "align_content": null,
            "align_items": null,
            "align_self": null,
            "border": null,
            "bottom": null,
            "display": null,
            "flex": null,
            "flex_flow": null,
            "grid_area": null,
            "grid_auto_columns": null,
            "grid_auto_flow": null,
            "grid_auto_rows": null,
            "grid_column": null,
            "grid_gap": null,
            "grid_row": null,
            "grid_template_areas": null,
            "grid_template_columns": null,
            "grid_template_rows": null,
            "height": null,
            "justify_content": null,
            "justify_items": null,
            "left": null,
            "margin": null,
            "max_height": null,
            "max_width": null,
            "min_height": null,
            "min_width": null,
            "object_fit": null,
            "object_position": null,
            "order": null,
            "overflow": null,
            "overflow_x": null,
            "overflow_y": null,
            "padding": null,
            "right": null,
            "top": null,
            "visibility": null,
            "width": null
          }
        },
        "f8fa56c5aced471bb04e6cf84a3e165b": {
          "model_module": "@jupyter-widgets/base",
          "model_module_version": "1.2.0",
          "model_name": "LayoutModel",
          "state": {
            "_model_module": "@jupyter-widgets/base",
            "_model_module_version": "1.2.0",
            "_model_name": "LayoutModel",
            "_view_count": null,
            "_view_module": "@jupyter-widgets/base",
            "_view_module_version": "1.2.0",
            "_view_name": "LayoutView",
            "align_content": null,
            "align_items": null,
            "align_self": null,
            "border": null,
            "bottom": null,
            "display": null,
            "flex": null,
            "flex_flow": null,
            "grid_area": null,
            "grid_auto_columns": null,
            "grid_auto_flow": null,
            "grid_auto_rows": null,
            "grid_column": null,
            "grid_gap": null,
            "grid_row": null,
            "grid_template_areas": null,
            "grid_template_columns": null,
            "grid_template_rows": null,
            "height": null,
            "justify_content": null,
            "justify_items": null,
            "left": null,
            "margin": null,
            "max_height": null,
            "max_width": null,
            "min_height": null,
            "min_width": null,
            "object_fit": null,
            "object_position": null,
            "order": null,
            "overflow": null,
            "overflow_x": null,
            "overflow_y": null,
            "padding": null,
            "right": null,
            "top": null,
            "visibility": null,
            "width": null
          }
        },
        "fcea447d7e9e40ac9f851cf5c47c158c": {
          "model_module": "@jupyter-widgets/base",
          "model_module_version": "1.2.0",
          "model_name": "LayoutModel",
          "state": {
            "_model_module": "@jupyter-widgets/base",
            "_model_module_version": "1.2.0",
            "_model_name": "LayoutModel",
            "_view_count": null,
            "_view_module": "@jupyter-widgets/base",
            "_view_module_version": "1.2.0",
            "_view_name": "LayoutView",
            "align_content": null,
            "align_items": null,
            "align_self": null,
            "border": null,
            "bottom": null,
            "display": null,
            "flex": null,
            "flex_flow": null,
            "grid_area": null,
            "grid_auto_columns": null,
            "grid_auto_flow": null,
            "grid_auto_rows": null,
            "grid_column": null,
            "grid_gap": null,
            "grid_row": null,
            "grid_template_areas": null,
            "grid_template_columns": null,
            "grid_template_rows": null,
            "height": null,
            "justify_content": null,
            "justify_items": null,
            "left": null,
            "margin": null,
            "max_height": null,
            "max_width": null,
            "min_height": null,
            "min_width": null,
            "object_fit": null,
            "object_position": null,
            "order": null,
            "overflow": null,
            "overflow_x": null,
            "overflow_y": null,
            "padding": null,
            "right": null,
            "top": null,
            "visibility": null,
            "width": null
          }
        },
        "fd294eba64fb456ea236a7cc2514f6bd": {
          "model_module": "@jupyter-widgets/base",
          "model_module_version": "1.2.0",
          "model_name": "LayoutModel",
          "state": {
            "_model_module": "@jupyter-widgets/base",
            "_model_module_version": "1.2.0",
            "_model_name": "LayoutModel",
            "_view_count": null,
            "_view_module": "@jupyter-widgets/base",
            "_view_module_version": "1.2.0",
            "_view_name": "LayoutView",
            "align_content": null,
            "align_items": null,
            "align_self": null,
            "border": null,
            "bottom": null,
            "display": null,
            "flex": null,
            "flex_flow": null,
            "grid_area": null,
            "grid_auto_columns": null,
            "grid_auto_flow": null,
            "grid_auto_rows": null,
            "grid_column": null,
            "grid_gap": null,
            "grid_row": null,
            "grid_template_areas": null,
            "grid_template_columns": null,
            "grid_template_rows": null,
            "height": null,
            "justify_content": null,
            "justify_items": null,
            "left": null,
            "margin": null,
            "max_height": null,
            "max_width": null,
            "min_height": null,
            "min_width": null,
            "object_fit": null,
            "object_position": null,
            "order": null,
            "overflow": null,
            "overflow_x": null,
            "overflow_y": null,
            "padding": null,
            "right": null,
            "top": null,
            "visibility": null,
            "width": null
          }
        }
      }
    }
  },
  "nbformat": 4,
  "nbformat_minor": 0
}
