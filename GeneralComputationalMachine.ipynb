{
  "cells": [
    {
      "attachments": {},
      "cell_type": "markdown",
      "metadata": {},
      "source": [
        "# Pretrained Transformer As Universal Computation Machine"
      ]
    },
    {
      "attachments": {},
      "cell_type": "markdown",
      "metadata": {},
      "source": [
        "This assignment is made with the paper <a herf = \"https://arxiv.org/abs/2103.05247\" target = \"_blank\"> Pretrained Transformer As Universal Computation Machine</a>. "
      ]
    },
    {
      "attachments": {},
      "cell_type": "markdown",
      "metadata": {},
      "source": [
        "The transformer architecture has shown great success in deep learning, serving as backbone of larger model for tasks like NLP and images. Insipired by these successes, we aimed to explore the generalization capability of a transformer. We hypothesize transformers, if trained with on a data rich modality, such as a natural language corpus, can identify feture representations of **arbitrary* data. In this assignment, we invesigate whether pretrained language models are capable of in terms of generalizing to ther modalities with sequential structure."
      ]
    },
    {
      "attachments": {},
      "cell_type": "markdown",
      "metadata": {},
      "source": [
        "To do this, we use a transformer model pretrained on natural language data: GPT-2 and only finetune the **linear input, linear ouput, positional embedding and layer norm** parameters. We will see how GPT-2 works in tasks completely different from language prediction. Then, we will show using pretrained transformer model as feature extractor has its advantage over building a new neural nets from scratch."
      ]
    },
    {
      "cell_type": "code",
      "execution_count": 36,
      "metadata": {},
      "outputs": [
        {
          "name": "stdout",
          "output_type": "stream",
          "text": [
            "Looking in indexes: http://pypi.mirrors.ustc.edu.cn/simple/\n",
            "Requirement already satisfied: transformers in d:\\anaconda\\lib\\site-packages (4.28.1)\n",
            "Requirement already satisfied: numpy>=1.17 in d:\\anaconda\\lib\\site-packages (from transformers) (1.21.5)\n",
            "Requirement already satisfied: regex!=2019.12.17 in d:\\anaconda\\lib\\site-packages (from transformers) (2022.3.15)\n",
            "Requirement already satisfied: tqdm>=4.27 in d:\\anaconda\\lib\\site-packages (from transformers) (4.64.0)\n",
            "Requirement already satisfied: requests in d:\\anaconda\\lib\\site-packages (from transformers) (2.27.1)\n",
            "Requirement already satisfied: filelock in d:\\anaconda\\lib\\site-packages (from transformers) (3.6.0)\n",
            "Requirement already satisfied: pyyaml>=5.1 in d:\\anaconda\\lib\\site-packages (from transformers) (6.0)\n",
            "Requirement already satisfied: huggingface-hub<1.0,>=0.11.0 in d:\\anaconda\\lib\\site-packages (from transformers) (0.13.4)\n",
            "Requirement already satisfied: packaging>=20.0 in d:\\anaconda\\lib\\site-packages (from transformers) (21.3)\n",
            "Requirement already satisfied: tokenizers!=0.11.3,<0.14,>=0.11.1 in d:\\anaconda\\lib\\site-packages (from transformers) (0.13.3)\n",
            "Requirement already satisfied: typing-extensions>=3.7.4.3 in d:\\anaconda\\lib\\site-packages (from huggingface-hub<1.0,>=0.11.0->transformers) (4.1.1)\n",
            "Requirement already satisfied: pyparsing!=3.0.5,>=2.0.2 in d:\\anaconda\\lib\\site-packages (from packaging>=20.0->transformers) (3.0.4)\n",
            "Requirement already satisfied: colorama in c:\\users\\86182\\appdata\\roaming\\python\\python39\\site-packages (from tqdm>=4.27->transformers) (0.4.4)\n",
            "Requirement already satisfied: certifi>=2017.4.17 in d:\\anaconda\\lib\\site-packages (from requests->transformers) (2022.12.7)\n",
            "Requirement already satisfied: urllib3<1.27,>=1.21.1 in d:\\anaconda\\lib\\site-packages (from requests->transformers) (1.26.9)\n",
            "Requirement already satisfied: idna<4,>=2.5 in d:\\anaconda\\lib\\site-packages (from requests->transformers) (3.3)\n",
            "Requirement already satisfied: charset-normalizer~=2.0.0 in d:\\anaconda\\lib\\site-packages (from requests->transformers) (2.0.4)\n"
          ]
        }
      ],
      "source": [
        "!pip install transformers"
      ]
    },
    {
      "cell_type": "code",
      "execution_count": 37,
      "metadata": {},
      "outputs": [],
      "source": [
        "import torch\n",
        "from torch import nn\n",
        "from torch.nn import functional as F\n",
        "from torch.utils.data import random_split\n",
        "import torch.optim as optim\n",
        "import torchvision\n",
        "import torchvision.transforms as transforms\n",
        "import numpy as np\n",
        "from transformers.models.gpt2.modeling_gpt2 import GPT2Model\n",
        "from typing import List, Dict\n",
        "from tqdm import tqdm\n",
        "import matplotlib.pyplot as plt\n",
        "import requests\n",
        "from PIL import Image\n",
        "\n",
        "from tqdm.notebook import tqdm, trange"
      ]
    },
    {
      "cell_type": "markdown",
      "metadata": {
        "id": "dqhMY8cBy3FY"
      },
      "source": [
        "### **Learn about GPT2 architecture**"
      ]
    },
    {
      "attachments": {},
      "cell_type": "markdown",
      "metadata": {
        "id": "PljXgeYBzCA7"
      },
      "source": [
        "First, we introdcue the architecture of GPT2 and try build a sample model to simulate it to help you understand later parts better"
      ]
    },
    {
      "cell_type": "markdown",
      "metadata": {
        "id": "O-b32Pw7it8D"
      },
      "source": [
        "As you learned from lecture, the GPT2 is based on the transformer model, which is raised in paper, *Attention is all you need*. Here is a picture of transformer achitecture for your reference."
      ]
    },
    {
      "attachments": {},
      "cell_type": "markdown",
      "metadata": {
        "id": "4FO4drgwzU9m"
      },
      "source": [
        "<div align=\"center\"><img src=https://jalammar.github.io/images/xlnet/transformer-encoder-decoder.png width=60% /> </div>"
      ]
    },
    {
      "cell_type": "markdown",
      "metadata": {
        "id": "ftdUrs66jG86"
      },
      "source": [
        "Then people find that only a stack of encoders/decoders are sufficent for taskes, which result in encoder-only transformer, such as BERT and decoder-only transformer, such as GPT2. Here are two pictures showes the architecture of encoder and decoder layer.\n"
      ]
    },
    {
      "attachments": {},
      "cell_type": "markdown",
      "metadata": {
        "id": "9GmXODWtjvpt"
      },
      "source": [
        "<div align=\"center\"><img src=https://jalammar.github.io/images/xlnet/transformer-encoder-block-2.png width=60% /> </div>"
      ]
    },
    {
      "attachments": {},
      "cell_type": "markdown",
      "metadata": {},
      "source": [
        "<div align=\"center\"><img src=https://jalammar.github.io/images/xlnet/transformer-decoder-block-2.png width=60% /> </div>"
      ]
    },
    {
      "cell_type": "markdown",
      "metadata": {
        "id": "BRyb__iNkQgQ"
      },
      "source": [
        "As you can see, the biggest difference between encoder and decoder is decoder has one more layer called **MASKED** self-attention. This layer is, as the name said, a self-attention layer with mask. To be specific, in masked self-attention, the causal relationshipd is added, which means for a certain word, only the words before it can have influence on it. The difference is well demostrated in the following pictures."
      ]
    },
    {
      "attachments": {},
      "cell_type": "markdown",
      "metadata": {},
      "source": [
        "<div align=\"center\"><img src=https://jalammar.github.io/images/gpt2/self-attention-and-masked-self-attention.png width=60% /> </div>"
      ]
    },
    {
      "cell_type": "markdown",
      "metadata": {
        "id": "HdUv3Q4QlIc2"
      },
      "source": [
        "Implementing the transformer or GPT2 is not the main focus of this homework. Here, we provided a detailed Pytorch implementation of a self-attention layer. You task is to apply the causual mask if `causal = True`. "
      ]
    },
    {
      "cell_type": "markdown",
      "metadata": {
        "id": "BKizjZylqjWs"
      },
      "source": [
        "The scores is computed for you. The attention scores `scores[i, j]` represent the similarity score between the i-th query vector `q[i]` and the j-th key vector `k[j]`."
      ]
    },
    {
      "cell_type": "markdown",
      "metadata": {
        "id": "EKMHBn4Cw-WJ"
      },
      "source": [
        "*Hint: `torch.triu` and `torch.masked_fill` function may be helpful.*"
      ]
    },
    {
      "cell_type": "code",
      "execution_count": 38,
      "metadata": {
        "id": "H5-k6YiVwfEA"
      },
      "outputs": [],
      "source": [
        "def dot_product_attention(q, k, v, causal=False):\n",
        "    \"\"\"\n",
        "    Computes the dot product attention scores and the attention output for a single example.\n",
        "\n",
        "    Args:\n",
        "    - q: Tensor of shape (query_length, embedding_size)\n",
        "    - k: Tensor of shape (key_length, embedding_size)\n",
        "    - v: Tensor of shape (value_length, embedding_size)\n",
        "    - causal: Boolean flag indicating whether to apply a causal mask\n",
        "\n",
        "    Returns:\n",
        "    - output: Tensor of shape (query_length, embedding_size)\n",
        "    \"\"\"\n",
        "    scores = torch.matmul(q, k.transpose(0, 1)) / (q.shape[-1] ** 0.5)  # shape: (query_length, key_length)\n",
        "    \n",
        "    if causal:\n",
        "\n",
        "      ############################################################################\n",
        "      # TODO: implement this part\n",
        "      ############################################################################\n",
        "        # Create a causal mask for the scores tensor\n",
        "        mask = torch.triu(torch.ones_like(scores), diagonal=1)\n",
        "        # print(mask)\n",
        "        scores.masked_fill_(mask == 1, float(\"-inf\"))\n",
        "        # print('scores',scores)\n",
        "\n",
        "      ############################################################################\n",
        "    \n",
        "    #print(scores)\n",
        "    weights = F.softmax(scores, dim=-1)  # shape: (query_length, key_length)\n",
        "    output = torch.matmul(weights, v)  # shape: (query_length, embedding_size)\n",
        "    \n",
        "    return output\n"
      ]
    },
    {
      "cell_type": "code",
      "execution_count": 39,
      "metadata": {
        "colab": {
          "base_uri": "https://localhost:8080/"
        },
        "id": "SbQki1KQx9sy",
        "outputId": "d53aa10c-e165-459f-bb91-47a6be0e4dab"
      },
      "outputs": [
        {
          "name": "stdout",
          "output_type": "stream",
          "text": [
            "tensor([[1., 2., 3.],\n",
            "        [4., 5., 6.],\n",
            "        [7., 8., 9.]])\n",
            "tensor([[6.9999, 7.9999, 8.9999],\n",
            "        [7.0000, 8.0000, 9.0000],\n",
            "        [7.0000, 8.0000, 9.0000]])\n"
          ]
        }
      ],
      "source": [
        "# test the implementation\n",
        "q = torch.tensor([[1, 2, 3], [4, 5, 6], [7, 8, 9]], dtype=torch.float)\n",
        "k = torch.tensor([[1, 2, 3], [4, 5, 6], [7, 8, 9]], dtype=torch.float)\n",
        "v = torch.tensor([[1, 2, 3], [4, 5, 6], [7, 8, 9]], dtype=torch.float)\n",
        "\n",
        "print(dot_product_attention(q, k, v, True))\n",
        "print(dot_product_attention(q, k, v, False))\n",
        "\n",
        "\n"
      ]
    },
    {
      "attachments": {},
      "cell_type": "markdown",
      "metadata": {},
      "source": [
        "### **Application of GPT-2 in a Simple Language Task**"
      ]
    },
    {
      "attachments": {},
      "cell_type": "markdown",
      "metadata": {},
      "source": [
        "In this part, we use GPT2 to do some language task, which is its original domain, to learn about how to adapt and fine tune GPT-2."
      ]
    },
    {
      "cell_type": "code",
      "execution_count": 40,
      "metadata": {},
      "outputs": [
        {
          "name": "stderr",
          "output_type": "stream",
          "text": [
            "d:\\Anaconda\\lib\\site-packages\\transformers\\generation\\utils.py:1219: UserWarning: You have modified the pretrained model configuration to control generation. This is a deprecated strategy to control generation and will be removed soon, in a future version. Please use a generation configuration file (see https://huggingface.co/docs/transformers/main_classes/text_generation)\n",
            "  warnings.warn(\n",
            "Setting `pad_token_id` to `eos_token_id`:50256 for open-end generation.\n"
          ]
        },
        {
          "name": "stdout",
          "output_type": "stream",
          "text": [
            "The 0th result begins:\n",
            "Hello, I'm a language model, so of course i do my best to be a perfect model. (laughs, laughs) I try to give very specific instructions by example!\n",
            "\n",
            "The best approach I would look through would be: do a\n",
            "The 0th result ends\n",
            "\n",
            "The 1th result begins:\n",
            "Hello, I'm a language model, what that is, and that's all I can do for you. Do you want to be a language model, please. You've got a lot to learn about the world, I don't mind your writing\n",
            "The 1th result ends\n",
            "\n",
            "The 2th result begins:\n",
            "Hello, I'm a language model, and when I tell you I do not understand what the hell's going on. But, please understand, to the world I am an ordinary man. And the world has nothing to do with me. That is\n",
            "The 2th result ends\n",
            "\n"
          ]
        },
        {
          "name": "stderr",
          "output_type": "stream",
          "text": [
            "Setting `pad_token_id` to `eos_token_id`:50256 for open-end generation.\n"
          ]
        },
        {
          "name": "stdout",
          "output_type": "stream",
          "text": [
            "My dog is cute and I love her. She is a great dog and I am very happy with her. I am very happy with my dog and she is a great dog.\n",
            "\n",
            "I am a big fan of the dog and she is a\n"
          ]
        }
      ],
      "source": [
        "# This code demonstrates GPT-2's language task ability\n",
        "from transformers import GPT2Tokenizer, GPT2Model, GPT2LMHeadModel, pipeline, set_seed\n",
        "\n",
        "# Please input the prompt you like\n",
        "prompt = \"Hello, I'm a language model,\" # TODO: replace with raiseError\n",
        "generator = pipeline('text-generation', model='gpt2')\n",
        "generated_result = generator(prompt, max_length=50, num_return_sequences=3)\n",
        "\n",
        "for i, result in enumerate(generated_result):\n",
        "    print(\"The {}th result begins:\\n{}\\nThe {}th result ends\\n\".format(i,result[\"generated_text\"],i))\n",
        "\n",
        "# Despite using pipeline directly provided by transformers, it is also good to take a closer look\n",
        "prompt = \"My dog is cute\" # TODO: replace this with RaiseError \n",
        "tokenizer = GPT2Tokenizer.from_pretrained('gpt2')\n",
        "model = GPT2LMHeadModel.from_pretrained('gpt2')\n",
        "\n",
        "# tokens is a dictionary of multiple GPT2 parameters \n",
        "tokens = tokenizer(prompt, return_tensors=\"pt\")\n",
        "\n",
        "outputs = model.generate(\n",
        "    **tokens,\n",
        "    max_length=50\n",
        ")\n",
        "\n",
        "# Convert the outputs into words\n",
        "text = tokenizer.decode(outputs[0], skip_special_tokens=True)\n",
        "print(text)"
      ]
    },
    {
      "attachments": {},
      "cell_type": "markdown",
      "metadata": {},
      "source": [
        "### **Versatility of GPT-2 for tasks in other Domains**"
      ]
    },
    {
      "attachments": {},
      "cell_type": "markdown",
      "metadata": {},
      "source": [
        "In this part, we will demonstrate how to adpat and finetune GPT-2 for tasks outside the language domain, including a math operation finding and image classification."
      ]
    },
    {
      "attachments": {},
      "cell_type": "markdown",
      "metadata": {},
      "source": [
        "#### Task 1: Bit-wise operation"
      ]
    },
    {
      "attachments": {},
      "cell_type": "markdown",
      "metadata": {},
      "source": [
        "In this section, we show GPT-2 can well learn the bit-wise operation such as `AND`, `OR` and `XOR`. We will see it shows a extremely high accuracy on this task."
      ]
    },
    {
      "attachments": {},
      "cell_type": "markdown",
      "metadata": {},
      "source": [
        "First, we need to create a dataset for fine tuning."
      ]
    },
    {
      "cell_type": "code",
      "execution_count": 41,
      "metadata": {},
      "outputs": [],
      "source": [
        "if torch.cuda.is_available():\n",
        "   device = 'cuda'\n",
        "else:\n",
        "  device = 'cpu'"
      ]
    },
    {
      "attachments": {},
      "cell_type": "markdown",
      "metadata": {},
      "source": [
        "Here, we choose the `XOR` operator as our training goal. You are feel free to change the function below to test on other operators."
      ]
    },
    {
      "cell_type": "code",
      "execution_count": 42,
      "metadata": {},
      "outputs": [],
      "source": [
        "# randomly generate two n-bits strings and its ground-truth and result\n",
        "def generate_example(n):\n",
        "  bits = np.random.randint(low=0, high=2, size=(2, n)) \n",
        "  \n",
        "  # change this line to change the operator\n",
        "  XOR = np.logical_xor(bits[0], bits[1]).astype(np.long) \n",
        "  # ----------------------------------------------------\n",
        "  \n",
        "  return bits.reshape((2*n)), XOR"
      ]
    },
    {
      "cell_type": "code",
      "execution_count": 43,
      "metadata": {},
      "outputs": [],
      "source": [
        "class BitWiseDataset(torch.utils.data.Dataset):\n",
        "  def __init__(self, n, size):\n",
        "    self.n = n\n",
        "    self.size = size\n",
        "\n",
        "  def __len__(self):\n",
        "    return self.size\n",
        "\n",
        "  def __getitem__(self, idx):\n",
        "    bits = np.random.randint(low=0, high=2, size=(2, self.n))\n",
        "    And = np.logical_xor(bits[0], bits[1]).astype(np.int64)\n",
        "    return torch.tensor(bits.reshape((2*self.n)), dtype=torch.long).to(device), torch.tensor(And, dtype=torch.long).to(device)\n",
        "\n",
        "def generate_data_loaders(n, batch_size, data_size = 1000, train_size=0.8):\n",
        "  dataset = BitWiseDataset(n, size=data_size)\n",
        "  train_size = int(train_size * len(dataset))\n",
        "  test_size = len(dataset) - train_size\n",
        "  train_dataset, test_dataset = torch.utils.data.random_split(dataset, [train_size, test_size])\n",
        "\n",
        "  train_loader = torch.utils.data.DataLoader(train_dataset, batch_size=batch_size, shuffle=True)\n",
        "  test_loader = torch.utils.data.DataLoader(test_dataset, batch_size=batch_size, shuffle=False)\n",
        "\n",
        "  return train_loader, test_loader\n"
      ]
    },
    {
      "attachments": {},
      "cell_type": "markdown",
      "metadata": {},
      "source": [
        "Then, to fine tune on the GPT-2 model, we need to freeze the weights of the self-attention layer and feedforward layer. Only keep the layer norm layer and positional encnding changeable."
      ]
    },
    {
      "cell_type": "code",
      "execution_count": 44,
      "metadata": {},
      "outputs": [],
      "source": [
        "# load the GP2 model\n",
        "gpt2 = GPT2Model.from_pretrained('gpt2')"
      ]
    },
    {
      "cell_type": "code",
      "execution_count": 45,
      "metadata": {},
      "outputs": [
        {
          "name": "stdout",
          "output_type": "stream",
          "text": [
            "wte.weight\n",
            "wpe.weight\n",
            "h.0.ln_1.weight\n",
            "h.0.ln_1.bias\n",
            "h.0.attn.c_attn.weight\n",
            "h.0.attn.c_attn.bias\n",
            "h.0.attn.c_proj.weight\n",
            "h.0.attn.c_proj.bias\n",
            "h.0.ln_2.weight\n",
            "h.0.ln_2.bias\n",
            "h.0.mlp.c_fc.weight\n",
            "h.0.mlp.c_fc.bias\n",
            "h.0.mlp.c_proj.weight\n",
            "h.0.mlp.c_proj.bias\n",
            "h.1.ln_1.weight\n",
            "h.1.ln_1.bias\n",
            "h.1.attn.c_attn.weight\n",
            "h.1.attn.c_attn.bias\n",
            "h.1.attn.c_proj.weight\n",
            "h.1.attn.c_proj.bias\n",
            "h.1.ln_2.weight\n",
            "h.1.ln_2.bias\n",
            "h.1.mlp.c_fc.weight\n",
            "h.1.mlp.c_fc.bias\n",
            "h.1.mlp.c_proj.weight\n",
            "h.1.mlp.c_proj.bias\n",
            "h.2.ln_1.weight\n",
            "h.2.ln_1.bias\n",
            "h.2.attn.c_attn.weight\n",
            "h.2.attn.c_attn.bias\n",
            "h.2.attn.c_proj.weight\n",
            "h.2.attn.c_proj.bias\n",
            "h.2.ln_2.weight\n",
            "h.2.ln_2.bias\n",
            "h.2.mlp.c_fc.weight\n",
            "h.2.mlp.c_fc.bias\n",
            "h.2.mlp.c_proj.weight\n",
            "h.2.mlp.c_proj.bias\n",
            "h.3.ln_1.weight\n",
            "h.3.ln_1.bias\n",
            "h.3.attn.c_attn.weight\n",
            "h.3.attn.c_attn.bias\n",
            "h.3.attn.c_proj.weight\n",
            "h.3.attn.c_proj.bias\n",
            "h.3.ln_2.weight\n",
            "h.3.ln_2.bias\n",
            "h.3.mlp.c_fc.weight\n",
            "h.3.mlp.c_fc.bias\n",
            "h.3.mlp.c_proj.weight\n",
            "h.3.mlp.c_proj.bias\n",
            "h.4.ln_1.weight\n",
            "h.4.ln_1.bias\n",
            "h.4.attn.c_attn.weight\n",
            "h.4.attn.c_attn.bias\n",
            "h.4.attn.c_proj.weight\n",
            "h.4.attn.c_proj.bias\n",
            "h.4.ln_2.weight\n",
            "h.4.ln_2.bias\n",
            "h.4.mlp.c_fc.weight\n",
            "h.4.mlp.c_fc.bias\n",
            "h.4.mlp.c_proj.weight\n",
            "h.4.mlp.c_proj.bias\n",
            "h.5.ln_1.weight\n",
            "h.5.ln_1.bias\n",
            "h.5.attn.c_attn.weight\n",
            "h.5.attn.c_attn.bias\n",
            "h.5.attn.c_proj.weight\n",
            "h.5.attn.c_proj.bias\n",
            "h.5.ln_2.weight\n",
            "h.5.ln_2.bias\n",
            "h.5.mlp.c_fc.weight\n",
            "h.5.mlp.c_fc.bias\n",
            "h.5.mlp.c_proj.weight\n",
            "h.5.mlp.c_proj.bias\n",
            "h.6.ln_1.weight\n",
            "h.6.ln_1.bias\n",
            "h.6.attn.c_attn.weight\n",
            "h.6.attn.c_attn.bias\n",
            "h.6.attn.c_proj.weight\n",
            "h.6.attn.c_proj.bias\n",
            "h.6.ln_2.weight\n",
            "h.6.ln_2.bias\n",
            "h.6.mlp.c_fc.weight\n",
            "h.6.mlp.c_fc.bias\n",
            "h.6.mlp.c_proj.weight\n",
            "h.6.mlp.c_proj.bias\n",
            "h.7.ln_1.weight\n",
            "h.7.ln_1.bias\n",
            "h.7.attn.c_attn.weight\n",
            "h.7.attn.c_attn.bias\n",
            "h.7.attn.c_proj.weight\n",
            "h.7.attn.c_proj.bias\n",
            "h.7.ln_2.weight\n",
            "h.7.ln_2.bias\n",
            "h.7.mlp.c_fc.weight\n",
            "h.7.mlp.c_fc.bias\n",
            "h.7.mlp.c_proj.weight\n",
            "h.7.mlp.c_proj.bias\n",
            "h.8.ln_1.weight\n",
            "h.8.ln_1.bias\n",
            "h.8.attn.c_attn.weight\n",
            "h.8.attn.c_attn.bias\n",
            "h.8.attn.c_proj.weight\n",
            "h.8.attn.c_proj.bias\n",
            "h.8.ln_2.weight\n",
            "h.8.ln_2.bias\n",
            "h.8.mlp.c_fc.weight\n",
            "h.8.mlp.c_fc.bias\n",
            "h.8.mlp.c_proj.weight\n",
            "h.8.mlp.c_proj.bias\n",
            "h.9.ln_1.weight\n",
            "h.9.ln_1.bias\n",
            "h.9.attn.c_attn.weight\n",
            "h.9.attn.c_attn.bias\n",
            "h.9.attn.c_proj.weight\n",
            "h.9.attn.c_proj.bias\n",
            "h.9.ln_2.weight\n",
            "h.9.ln_2.bias\n",
            "h.9.mlp.c_fc.weight\n",
            "h.9.mlp.c_fc.bias\n",
            "h.9.mlp.c_proj.weight\n",
            "h.9.mlp.c_proj.bias\n",
            "h.10.ln_1.weight\n",
            "h.10.ln_1.bias\n",
            "h.10.attn.c_attn.weight\n",
            "h.10.attn.c_attn.bias\n",
            "h.10.attn.c_proj.weight\n",
            "h.10.attn.c_proj.bias\n",
            "h.10.ln_2.weight\n",
            "h.10.ln_2.bias\n",
            "h.10.mlp.c_fc.weight\n",
            "h.10.mlp.c_fc.bias\n",
            "h.10.mlp.c_proj.weight\n",
            "h.10.mlp.c_proj.bias\n",
            "h.11.ln_1.weight\n",
            "h.11.ln_1.bias\n",
            "h.11.attn.c_attn.weight\n",
            "h.11.attn.c_attn.bias\n",
            "h.11.attn.c_proj.weight\n",
            "h.11.attn.c_proj.bias\n",
            "h.11.ln_2.weight\n",
            "h.11.ln_2.bias\n",
            "h.11.mlp.c_fc.weight\n",
            "h.11.mlp.c_fc.bias\n",
            "h.11.mlp.c_proj.weight\n",
            "h.11.mlp.c_proj.bias\n",
            "ln_f.weight\n",
            "ln_f.bias\n"
          ]
        }
      ],
      "source": [
        "# show the name of all the para your are able to modified in this model\n",
        "for name, param in gpt2.named_parameters():\n",
        "  print(name)"
      ]
    },
    {
      "cell_type": "code",
      "execution_count": 46,
      "metadata": {},
      "outputs": [],
      "source": [
        "for name, param in gpt2.named_parameters():\n",
        "# freeze all parameters except the layernorm and positional embeddings \n",
        "  if 'ln' in name or 'wpe' in name:\n",
        "    param.requires_grad = True \n",
        "  else:\n",
        "    param.requires_grad = False"
      ]
    },
    {
      "attachments": {},
      "cell_type": "markdown",
      "metadata": {},
      "source": [
        "After we have our dataset and pretrained model ready, we need to adapt the model to our task, which means adding a embedding layer before the model and a linear output layer after the model."
      ]
    },
    {
      "cell_type": "code",
      "execution_count": 47,
      "metadata": {},
      "outputs": [],
      "source": [
        "class Bit_wise_transformer(nn.Module):\n",
        "  def __init__(self, engine, bitLength, input_dim, engine_embed_dim, n_class = 2):\n",
        "    super().__init__()\n",
        "    self.n = bitLength\n",
        "    self.input_embed = nn.Embedding(input_dim, engine_embed_dim)\n",
        "    self.engine = engine\n",
        "    self.output_layer = nn.Linear(engine_embed_dim, n_class)\n",
        "  def forward(self, x):\n",
        "    embeddings = self.input_embed(x)\n",
        "    hidden_state = self.engine(inputs_embeds=embeddings).last_hidden_state[:,self.n:]\n",
        "    logits = self.output_layer(hidden_state)[0]\n",
        "    return logits"
      ]
    },
    {
      "attachments": {},
      "cell_type": "markdown",
      "metadata": {},
      "source": [
        "Now, we are ready for the training! Generate the train and set set first, and train the model."
      ]
    },
    {
      "cell_type": "code",
      "execution_count": 48,
      "metadata": {},
      "outputs": [],
      "source": [
        "# generate the training and testing data\n",
        "train_loader, test_loader = generate_data_loaders(n=5, batch_size=1,data_size = 1000, train_size=0.8)"
      ]
    },
    {
      "cell_type": "code",
      "execution_count": 49,
      "metadata": {},
      "outputs": [
        {
          "data": {
            "application/vnd.jupyter.widget-view+json": {
              "model_id": "1fcc886045d74775b2224604fe6284ac",
              "version_major": 2,
              "version_minor": 0
            },
            "text/plain": [
              "  0%|          | 0/5 [00:00<?, ?it/s]"
            ]
          },
          "metadata": {},
          "output_type": "display_data"
        },
        {
          "data": {
            "application/vnd.jupyter.widget-view+json": {
              "model_id": "bcb4865fedec484db774e54925a8b160",
              "version_major": 2,
              "version_minor": 0
            },
            "text/plain": [
              "  0%|          | 0/800 [00:00<?, ?it/s]"
            ]
          },
          "metadata": {},
          "output_type": "display_data"
        },
        {
          "data": {
            "application/vnd.jupyter.widget-view+json": {
              "model_id": "55a9295fa84944cfb0bf1ad21a77cbf8",
              "version_major": 2,
              "version_minor": 0
            },
            "text/plain": [
              "  0%|          | 0/800 [00:00<?, ?it/s]"
            ]
          },
          "metadata": {},
          "output_type": "display_data"
        },
        {
          "data": {
            "application/vnd.jupyter.widget-view+json": {
              "model_id": "d4f4afe0644c471eaa28e7df420e4e55",
              "version_major": 2,
              "version_minor": 0
            },
            "text/plain": [
              "  0%|          | 0/800 [00:00<?, ?it/s]"
            ]
          },
          "metadata": {},
          "output_type": "display_data"
        },
        {
          "data": {
            "application/vnd.jupyter.widget-view+json": {
              "model_id": "cba7092ae2b549caacc6d09b680b6555",
              "version_major": 2,
              "version_minor": 0
            },
            "text/plain": [
              "  0%|          | 0/800 [00:00<?, ?it/s]"
            ]
          },
          "metadata": {},
          "output_type": "display_data"
        },
        {
          "data": {
            "application/vnd.jupyter.widget-view+json": {
              "model_id": "3e93bc1bcb3047fcb4894a9bea88757a",
              "version_major": 2,
              "version_minor": 0
            },
            "text/plain": [
              "  0%|          | 0/800 [00:00<?, ?it/s]"
            ]
          },
          "metadata": {},
          "output_type": "display_data"
        },
        {
          "data": {
            "image/png": "[encoded data removed]",
            "text/plain": [
              "<Figure size 432x288 with 1 Axes>"
            ]
          },
          "metadata": {
            "needs_background": "light"
          },
          "output_type": "display_data"
        },
        {
          "data": {
            "image/png": "[encoded data removed]",
            "text/plain": [
              "<Figure size 432x288 with 1 Axes>"
            ]
          },
          "metadata": {
            "needs_background": "light"
          },
          "output_type": "display_data"
        },
        {
          "data": {
            "image/png": "[encoded data removed]",
            "text/plain": [
              "<Figure size 432x288 with 1 Axes>"
            ]
          },
          "metadata": {
            "needs_background": "light"
          },
          "output_type": "display_data"
        }
      ],
      "source": [
        "# create an instance of the model\n",
        "Bit_length = 5\n",
        "\n",
        "model = Bit_wise_transformer(\n",
        "      gpt2, \n",
        "      bitLength = Bit_length,\n",
        "      input_dim = 2, \n",
        "      engine_embed_dim = 768\n",
        ").to(device)\n",
        "\n",
        "\n",
        "# define the optimizer and loss\n",
        "optimizer = torch.optim.Adam(model.parameters(), lr=0.001)\n",
        "criterion = nn.CrossEntropyLoss()\n",
        "\n",
        "\n",
        "losses = []\n",
        "train_acc = []\n",
        "all_val_acc = []\n",
        "best_val_acc = 0\n",
        "num_epochs = 5\n",
        "\n",
        "epoch_iterator = trange(num_epochs)\n",
        "for epoch in epoch_iterator:\n",
        "    # Training loop\n",
        "    running_loss = 0.0\n",
        "    data_iterator = tqdm(train_loader)\n",
        "    for i, (inputs, labels) in enumerate(data_iterator):\n",
        "        optimizer.zero_grad()\n",
        "        outputs = model(inputs)\n",
        "        loss = criterion(outputs, labels.squeeze())\n",
        "        accuracy = torch.mean((torch.argmax(outputs, dim=-1) == labels.flatten()).float())\n",
        "        loss.backward()\n",
        "        optimizer.step()\n",
        "\n",
        "        data_iterator.set_postfix(loss=loss.item())\n",
        "\n",
        "        running_loss += loss.item()\n",
        "        if (i + 1) % 10 == 0:\n",
        "              #print(f'Epoch [{epoch + 1}/{num_epochs}], Data [{i + 1}/{len(train_loader)}], Loss: {running_loss / 100:.4f}')\n",
        "            running_loss = 0.0\n",
        "            losses.append(loss.item())\n",
        "            train_acc.append(accuracy.item())\n",
        "        \n",
        "    # Validation\n",
        "    val_acc = []\n",
        "    model.eval()\n",
        "    with torch.no_grad():\n",
        "      for inputs, labels in test_loader:\n",
        "          inputs = inputs.to(device=device, dtype=torch.long)\n",
        "          labels = labels.to(device=device, dtype=torch.long)\n",
        "          outputs = model(inputs)\n",
        "          accuracy = torch.mean((torch.argmax(outputs, dim=-1) == labels.flatten()).float())\n",
        "          val_acc.append(accuracy.item())\n",
        "    model.train()\n",
        "\n",
        "    all_val_acc.append(np.mean(val_acc))\n",
        "    # Save best model\n",
        "    if np.mean(val_acc) > best_val_acc:\n",
        "        best_val_acc = np.mean(val_acc)\n",
        "\n",
        "    epoch_iterator.set_postfix(val_acc=np.mean(val_acc), best_val_acc=best_val_acc)\n",
        "\n",
        "\n",
        "plt.plot(losses)\n",
        "plt.title('Train Loss')\n",
        "plt.figure()\n",
        "plt.plot(train_acc)\n",
        "plt.title('Train Accuracy')\n",
        "plt.figure()\n",
        "plt.plot(all_val_acc)\n",
        "plt.title('Val Accuracy')\n",
        "del model\n",
        "torch.cuda.empty_cache()"
      ]
    },
    {
      "attachments": {},
      "cell_type": "markdown",
      "metadata": {},
      "source": [
        "Here, in the final plots of training and testing accuracy, you should see GPT-2 achieve a extremely good result."
      ]
    },
    {
      "attachments": {},
      "cell_type": "markdown",
      "metadata": {},
      "source": [
        "#### Task 2: Image classfication"
      ]
    },
    {
      "attachments": {},
      "cell_type": "markdown",
      "metadata": {},
      "source": [
        "For sure the last task is quite simple and may not so convincing to show the generality of GPT-2. Now we move to a more complex domain, image classfication. We will do the task on the famous hand-written dataset MNIST and reach a good result"
      ]
    },
    {
      "attachments": {},
      "cell_type": "markdown",
      "metadata": {},
      "source": [
        "Still, we need to freeze some parameters in GPT-2 first."
      ]
    },
    {
      "cell_type": "code",
      "execution_count": 50,
      "metadata": {},
      "outputs": [],
      "source": [
        "# A function freeze necessary parameters in GPT-2\n",
        "def gpt2_freezer(\n",
        "    model,                         \n",
        "    freeze_param_list: List[str] = None\n",
        "):\n",
        "  for (name, param) in model.named_parameters():\n",
        "    if freeze_param_list is not None:\n",
        "      if any([k in name for k in freeze_param_list]):\n",
        "        param.requires_grad = False\n",
        "    else:\n",
        "      param.requires_grad = False\n",
        "  return model"
      ]
    },
    {
      "cell_type": "code",
      "execution_count": 51,
      "metadata": {},
      "outputs": [],
      "source": [
        "pretrained_gpt2 = GPT2Model.from_pretrained('gpt2') \n",
        "gpt2_engine = gpt2_freezer(\n",
        "    pretrained_gpt2,\n",
        "    [\"mlp\", \"attn\"]\n",
        "  )"
      ]
    },
    {
      "attachments": {},
      "cell_type": "markdown",
      "metadata": {},
      "source": [
        "Then, since the image is too large for to input, we need to patchify the image"
      ]
    },
    {
      "cell_type": "code",
      "execution_count": 54,
      "metadata": {},
      "outputs": [
        {
          "data": {
            "image/png": "[encoded data removed]",
            "text/plain": [
              "<PIL.Image.Image image mode=RGBA size=224x224 at 0x22D81B27490>"
            ]
          },
          "execution_count": 54,
          "metadata": {},
          "output_type": "execute_result"
        }
      ],
      "source": [
        "def tensor2PIL(tensor: torch.Tensor):\n",
        "    return transforms.ToPILImage()(tensor)\n",
        "\n",
        "def display_patches(\n",
        "    patches: torch.Tensor,\n",
        "    n_patch: int\n",
        "):\n",
        "    \n",
        "    fig, axes = plt.subplots(n_patch, n_patch)\n",
        "    for i in range(n_patch):\n",
        "        for j in range(n_patch):\n",
        "            patch = patches[i*n_patch + j,:]\n",
        "            axes[i][j].imshow(tensor2PIL(patch))\n",
        "            axes[i][j].axis('off')\n",
        "            \n",
        "    plt.show()\n",
        "\n",
        "\n",
        "def patchify(\n",
        "    img: torch.Tensor,\n",
        "    n_patch: int) -> torch.Tensor:\n",
        "    \n",
        "    b, c, h, w = img.shape\n",
        "    patch_h = h // n_patch\n",
        "    patch_w = w // n_patch\n",
        "    patches = img.unfold(-1, patch_h, patch_h) \\\n",
        "                 .permute(0, 3, 1, 4, 2) \\\n",
        "                 .unfold(-1, patch_w, patch_w) \\\n",
        "                 .permute(0, 4, 1, 2, 5, 3)\n",
        "    patches = torch.reshape(patches, (b, n_patch * n_patch, c, patch_h, patch_w,))\n",
        "                 \n",
        "    \n",
        "    return patches\n",
        "lenna = \"https://i.stack.imgur.com/XKUT9.png\"\n",
        "img = Image.open(requests.get(lenna, stream=True).raw).resize((224, 224))\n",
        "img"
      ]
    },
    {
      "cell_type": "code",
      "execution_count": 55,
      "metadata": {},
      "outputs": [
        {
          "data": {
            "image/png": "[encoded data removed]",
            "text/plain": [
              "<Figure size 432x288 with 16 Axes>"
            ]
          },
          "metadata": {
            "needs_background": "light"
          },
          "output_type": "display_data"
        }
      ],
      "source": [
        "# test if patchfy works correctly\n",
        "\n",
        "transform = transforms.PILToTensor()\n",
        "img = transform(img)\n",
        "patches = patchify(img.unsqueeze(0), 4)\n",
        "display_patches(patches[0], 4)"
      ]
    },
    {
      "attachments": {},
      "cell_type": "markdown",
      "metadata": {},
      "source": [
        "Here, some prepocessing"
      ]
    },
    {
      "cell_type": "code",
      "execution_count": 56,
      "metadata": {},
      "outputs": [],
      "source": [
        "img_size = (28, 28)\n",
        "batch_size = 32\n",
        "transform = transforms.Compose([\n",
        "      transforms.Resize(img_size),\n",
        "      transforms.ToTensor(),\n",
        "      transforms.Normalize((0.1307,), (0.3081,))\n",
        "      ])\n",
        "trainset = torchvision.datasets.MNIST('./data', train=True, download=True,\n",
        "                    transform=transform)\n",
        "trainloader = torch.utils.data.DataLoader(trainset, batch_size=batch_size,\n",
        "                                          shuffle=True, num_workers=5)\n",
        "\n",
        "testset = torchvision.datasets.MNIST('./data', train=False,\n",
        "                      transform=transform)\n",
        "testloader = torch.utils.data.DataLoader(testset, batch_size=batch_size,\n",
        "                                         shuffle=False, num_workers=5)"
      ]
    },
    {
      "attachments": {},
      "cell_type": "markdown",
      "metadata": {},
      "source": [
        "Now, it is time to design and train your own network using pretrained GPT2 model as main computational engine. You need to design\n",
        "  * An input embedding layer, which projects your input to accommodate GPT2 input dimension\n",
        "  * An output Linear layer and loss function"
      ]
    },
    {
      "cell_type": "code",
      "execution_count": 57,
      "metadata": {},
      "outputs": [],
      "source": [
        "class MNIST_clf(nn.Module):\n",
        "  def __init__(self, engine, n_patch, input_dim, engine_embed_dim, n_class=10):\n",
        "    super().__init__()\n",
        "    self.n_patch = n_patch\n",
        "    self.input_flatten = nn.Flatten(start_dim=-3, end_dim=-1)\n",
        "    self.input_embed = nn.Linear(input_dim, engine_embed_dim)\n",
        "    self.cls_token = nn.Parameter(torch.randn(1, 1, engine_embed_dim) * 0.02)\n",
        "    self.engine = engine\n",
        "    self.out = nn.Linear(engine_embed_dim, n_class)\n",
        "  def forward(self, x, output_attentions=False):\n",
        "    x = patchify(x, self.n_patch)\n",
        "    embeds = F.relu(\n",
        "        self.input_embed(self.input_flatten(x))\n",
        "    )\n",
        "    B, _, _ = embeds.shape\n",
        "    embeds = torch.concat([embeds, self.cls_token.repeat(B, 1, 1)], dim=-2)\n",
        "\n",
        "    gpt2_output = self.engine(inputs_embeds=embeds, output_attentions=output_attentions)\n",
        "    output = self.out(gpt2_output.last_hidden_state[:,-1])\n",
        "    if output_attentions:\n",
        "      return output, gpt2_output.attentions\n",
        "    else:\n",
        "      return output"
      ]
    },
    {
      "attachments": {},
      "cell_type": "markdown",
      "metadata": {},
      "source": [
        "To help you better understand what happens in attention layer, here are some visualization functions."
      ]
    },
    {
      "cell_type": "code",
      "execution_count": 58,
      "metadata": {},
      "outputs": [],
      "source": [
        "def MNIST_unnormalize(x):\n",
        "  return (x * 0.3081 + 0.1307) * 255\n",
        "\n",
        "\n",
        "def logits_with_temp(logits, temp=0.2):\n",
        "  logits = torch.exp(logits/temp)\n",
        "  logits = logits / torch.sum(logits)\n",
        "  return logits\n",
        "\n",
        "def visualize_attn_on_image(img, model):\n",
        "  '''\n",
        "      Input: \n",
        "        img   -> normalized img\n",
        "        model -> transformer model to obtain attention map for each layer\n",
        "  '''\n",
        "  # nifty way to check whether model is on cuda\n",
        "  img = img.to(next(model.parameters()).device)\n",
        "\n",
        "  with torch.no_grad():\n",
        "    _, attentions = model(img.unsqueeze(0), output_attentions=True)\n",
        "  \n",
        "  attentions = torch.stack([attn.squeeze(0).mean(dim=0) for attn in attentions], dim=0).cpu()\n",
        "\n",
        "  # accounting for residual connnection, then renormalize attention\n",
        "  augmented_attn = attentions + torch.eye(attentions.shape[-1])\n",
        "  augmented_attn = augmented_attn / augmented_attn.sum(dim=-1).unsqueeze(-1)\n",
        "\n",
        "  # rolled_out_attn = torch.eye(augmented_attn.shape[-1])\n",
        "  # for layer_idx in range(augmented_attn.shape[0]):\n",
        "  #   rolled_out_attn = augmented_attn[layer_idx] @ rolled_out_attn\n",
        "\n",
        "  mask = logits_with_temp(augmented_attn[-1,-1,:-1], 0.05) \\\n",
        "         .reshape(4, -1)\n",
        "\n",
        "  mask = np.ascontiguousarray(\n",
        "      (mask/mask.max()).detach().numpy()\n",
        "  )\n",
        "  mask = cv2.resize(mask, (28, 28))\n",
        "\n",
        "  img = MNIST_unnormalize(\n",
        "      img.squeeze(0).cpu().detach().numpy()\n",
        "  )\n",
        "  return (img * mask).astype('uint8')\n",
        "\n",
        "def display_MNIST_with_attn(img_batch, model, img_size=(16,16)):\n",
        "  n = img_batch.shape[0]\n",
        "  fig, axs = plt.subplots(nrows=n, ncols=2, figsize=img_size)\n",
        "\n",
        "  axs[0, 0].set_title('Original')\n",
        "  axs[0, 1].set_title('Attention Map')\n",
        "  for i, img in enumerate(img_batch):\n",
        "\n",
        "    attn_map = visualize_attn_on_image(\n",
        "        img, \n",
        "        model\n",
        "    )\n",
        "    img = MNIST_unnormalize(img).squeeze(0).cpu().numpy().astype('uint8')\n",
        "\n",
        "    axs[i, 0].imshow(img)\n",
        "    axs[i, 1].imshow(attn_map)\n",
        "  fig.tight_layout()\n"
      ]
    },
    {
      "cell_type": "code",
      "execution_count": 60,
      "metadata": {},
      "outputs": [
        {
          "data": {
            "text/plain": [
              "False"
            ]
          },
          "execution_count": 60,
          "metadata": {},
          "output_type": "execute_result"
        }
      ],
      "source": [
        "torch.cuda.is_available()"
      ]
    },
    {
      "attachments": {},
      "cell_type": "markdown",
      "metadata": {},
      "source": [
        "First, we check how's the prediction result before training"
      ]
    },
    {
      "cell_type": "code",
      "execution_count": 59,
      "metadata": {},
      "outputs": [
        {
          "ename": "AssertionError",
          "evalue": "",
          "output_type": "error",
          "traceback": [
            "\u001b[1;31m---------------------------------------------------------------------------\u001b[0m",
            "\u001b[1;31mAssertionError\u001b[0m                            Traceback (most recent call last)",
            "\u001b[1;32mc:\\Users\\86182\\GitHub\\GPT2asGeneralComputationalMachine\\GeneralComputationalMachine.ipynb Cell 58\u001b[0m in \u001b[0;36m<cell line: 1>\u001b[1;34m()\u001b[0m\n\u001b[1;32m----> <a href='vscode-notebook-cell:/c%3A/Users/86182/GitHub/GPT2asGeneralComputationalMachine/GeneralComputationalMachine.ipynb#Y123sZmlsZQ%3D%3D?line=0'>1</a>\u001b[0m \u001b[39massert\u001b[39;00m torch\u001b[39m.\u001b[39mcuda\u001b[39m.\u001b[39mis_available()\n\u001b[0;32m      <a href='vscode-notebook-cell:/c%3A/Users/86182/GitHub/GPT2asGeneralComputationalMachine/GeneralComputationalMachine.ipynb#Y123sZmlsZQ%3D%3D?line=1'>2</a>\u001b[0m device \u001b[39m=\u001b[39m torch\u001b[39m.\u001b[39mdevice(\u001b[39m'\u001b[39m\u001b[39mcuda\u001b[39m\u001b[39m'\u001b[39m)\n\u001b[0;32m      <a href='vscode-notebook-cell:/c%3A/Users/86182/GitHub/GPT2asGeneralComputationalMachine/GeneralComputationalMachine.ipynb#Y123sZmlsZQ%3D%3D?line=2'>3</a>\u001b[0m model \u001b[39m=\u001b[39m MNIST_clf(\n\u001b[0;32m      <a href='vscode-notebook-cell:/c%3A/Users/86182/GitHub/GPT2asGeneralComputationalMachine/GeneralComputationalMachine.ipynb#Y123sZmlsZQ%3D%3D?line=3'>4</a>\u001b[0m     gpt2_engine, \n\u001b[0;32m      <a href='vscode-notebook-cell:/c%3A/Users/86182/GitHub/GPT2asGeneralComputationalMachine/GeneralComputationalMachine.ipynb#Y123sZmlsZQ%3D%3D?line=4'>5</a>\u001b[0m     n_patch \u001b[39m=\u001b[39m \u001b[39m4\u001b[39m,\n\u001b[0;32m      <a href='vscode-notebook-cell:/c%3A/Users/86182/GitHub/GPT2asGeneralComputationalMachine/GeneralComputationalMachine.ipynb#Y123sZmlsZQ%3D%3D?line=5'>6</a>\u001b[0m     input_dim \u001b[39m=\u001b[39m \u001b[39m49\u001b[39m, \n\u001b[0;32m      <a href='vscode-notebook-cell:/c%3A/Users/86182/GitHub/GPT2asGeneralComputationalMachine/GeneralComputationalMachine.ipynb#Y123sZmlsZQ%3D%3D?line=6'>7</a>\u001b[0m     engine_embed_dim \u001b[39m=\u001b[39m \u001b[39m768\u001b[39m\n\u001b[0;32m      <a href='vscode-notebook-cell:/c%3A/Users/86182/GitHub/GPT2asGeneralComputationalMachine/GeneralComputationalMachine.ipynb#Y123sZmlsZQ%3D%3D?line=7'>8</a>\u001b[0m )\u001b[39m.\u001b[39mto(device)\n",
            "\u001b[1;31mAssertionError\u001b[0m: "
          ]
        }
      ],
      "source": [
        "assert torch.cuda.is_available()\n",
        "device = torch.device('cuda')\n",
        "model = MNIST_clf(\n",
        "    gpt2_engine, \n",
        "    n_patch = 4,\n",
        "    input_dim = 49, \n",
        "    engine_embed_dim = 768\n",
        ").to(device)\n",
        "\n",
        "model = model.to(device)\n",
        "\n",
        "acc = 0\n",
        "model.eval()\n",
        "for i, data in enumerate(testloader):\n",
        "  inputs, labels = data\n",
        "  inputs = inputs.to(device); labels = labels.to(device)\n",
        "  with torch.no_grad():\n",
        "    pred = model(inputs).argmax(-1)\n",
        "    acc += sum(pred == labels)\n",
        "\n",
        "print(\"Accuracy: {:.2f}%\".format(100 * acc/len(testloader.dataset)))"
      ]
    },
    {
      "attachments": {},
      "cell_type": "markdown",
      "metadata": {},
      "source": [
        "Then, treat the GPT2 as a main computation engine and do the training"
      ]
    },
    {
      "cell_type": "code",
      "execution_count": null,
      "metadata": {},
      "outputs": [],
      "source": [
        "assert torch.cuda.is_available()\n",
        "device = torch.device(\"cuda\")\n",
        "\n",
        "\n",
        "model = MNIST_clf(\n",
        "    gpt2_engine, \n",
        "    n_patch = 4,\n",
        "    input_dim = 49, \n",
        "    engine_embed_dim = 768\n",
        ").to(device)\n",
        "\n",
        "criterion = nn.CrossEntropyLoss()\n",
        "optimizer = optim.SGD(model.parameters(), lr=0.001, momentum=0.9)\n",
        "\n",
        "for epoch in range(3):  \n",
        "\n",
        "    # running_loss = 0.0\n",
        "\n",
        "    for i, data in enumerate(tqdm(trainloader)):\n",
        "        inputs, labels = data\n",
        "        inputs = inputs.to(device); labels = labels.to(device)\n",
        "\n",
        "        optimizer.zero_grad()\n",
        "\n",
        "        outputs = model(inputs)\n",
        "        loss = criterion(outputs, labels)\n",
        "        loss.backward()\n",
        "        optimizer.step()\n",
        "\n",
        "        # running_loss += loss.item()\n",
        "\n",
        "print('\\nFinished Training')"
      ]
    },
    {
      "attachments": {},
      "cell_type": "markdown",
      "metadata": {},
      "source": [
        "Test how the model perform on test set, you should see it reaches an accuracy about 80%."
      ]
    },
    {
      "cell_type": "code",
      "execution_count": null,
      "metadata": {},
      "outputs": [
        {
          "ename": "NameError",
          "evalue": "name 'model' is not defined",
          "output_type": "error",
          "traceback": [
            "\u001b[1;31m---------------------------------------------------------------------------\u001b[0m",
            "\u001b[1;31mNameError\u001b[0m                                 Traceback (most recent call last)",
            "\u001b[1;32mc:\\Users\\86182\\GitHub\\GPT2asGeneralComputationalMachine\\GeneralComputationalMachine.ipynb Cell 62\u001b[0m in \u001b[0;36m<cell line: 3>\u001b[1;34m()\u001b[0m\n\u001b[0;32m      <a href='vscode-notebook-cell:/c%3A/Users/86182/GitHub/GPT2asGeneralComputationalMachine/GeneralComputationalMachine.ipynb#Y130sZmlsZQ%3D%3D?line=0'>1</a>\u001b[0m \u001b[39m# Test performance of model\u001b[39;00m\n\u001b[0;32m      <a href='vscode-notebook-cell:/c%3A/Users/86182/GitHub/GPT2asGeneralComputationalMachine/GeneralComputationalMachine.ipynb#Y130sZmlsZQ%3D%3D?line=1'>2</a>\u001b[0m acc \u001b[39m=\u001b[39m \u001b[39m0\u001b[39m\n\u001b[1;32m----> <a href='vscode-notebook-cell:/c%3A/Users/86182/GitHub/GPT2asGeneralComputationalMachine/GeneralComputationalMachine.ipynb#Y130sZmlsZQ%3D%3D?line=2'>3</a>\u001b[0m model\u001b[39m.\u001b[39meval()\n\u001b[0;32m      <a href='vscode-notebook-cell:/c%3A/Users/86182/GitHub/GPT2asGeneralComputationalMachine/GeneralComputationalMachine.ipynb#Y130sZmlsZQ%3D%3D?line=3'>4</a>\u001b[0m \u001b[39mfor\u001b[39;00m i, data \u001b[39min\u001b[39;00m \u001b[39menumerate\u001b[39m(testloader):\n\u001b[0;32m      <a href='vscode-notebook-cell:/c%3A/Users/86182/GitHub/GPT2asGeneralComputationalMachine/GeneralComputationalMachine.ipynb#Y130sZmlsZQ%3D%3D?line=4'>5</a>\u001b[0m   inputs, labels \u001b[39m=\u001b[39m data\n",
            "\u001b[1;31mNameError\u001b[0m: name 'model' is not defined"
          ]
        }
      ],
      "source": [
        "# Test performance of model\n",
        "acc = 0\n",
        "model.eval()\n",
        "for i, data in enumerate(testloader):\n",
        "  inputs, labels = data\n",
        "  inputs = inputs.to(device); labels = labels.to(device)\n",
        "  with torch.no_grad():\n",
        "    pred = model(inputs).argmax(-1)\n",
        "    acc += sum(pred == labels)\n",
        "\n",
        "print(\"Accuracy: {:.2f}%\".format(100 * acc/len(testloader.dataset)))\n"
      ]
    },
    {
      "attachments": {},
      "cell_type": "markdown",
      "metadata": {},
      "source": [
        "### **Advantages of Pre-trained Models: Speed and Accuracy**"
      ]
    },
    {
      "attachments": {},
      "cell_type": "markdown",
      "metadata": {},
      "source": [
        "In previous part, you have seen the power of using GPT-2 pretrained on language tasks can do visual task as well.\n",
        "In this part, you are going to train/finetune a ResNet-50 and compare it with GPT-2"
      ]
    },
    {
      "cell_type": "code",
      "execution_count": null,
      "metadata": {},
      "outputs": [],
      "source": [
        "from torch.utils.data import DataLoader\n",
        "# Rescale MNIST and make it 3 channel\n",
        "transform = transforms.Compose([\n",
        "    transforms.Resize(224),\n",
        "    transforms.Grayscale(num_output_channels=3),\n",
        "    transforms.ToTensor(),\n",
        "    transforms.Normalize(mean=[0.5, 0.5, 0.5], std=[0.5, 0.5, 0.5])\n",
        "])\n",
        "\n",
        "trainset = torchvision.datasets.MNIST(root='./data', train=True, download=True, transform=transform)\n",
        "testset = torchvision.datasets.MNIST(root='./data', train=False, download=True, transform=transform)\n",
        "\n",
        "# Define dataloaders\n",
        "trainloader = DataLoader(trainset, batch_size=32, shuffle=True, num_workers=2)\n",
        "testloader = DataLoader(testset, batch_size=32, shuffle=False, num_workers=2)"
      ]
    },
    {
      "attachments": {},
      "cell_type": "markdown",
      "metadata": {},
      "source": [
        "Like GPT-2, we use pretrained "
      ]
    },
    {
      "cell_type": "code",
      "execution_count": null,
      "metadata": {},
      "outputs": [
        {
          "name": "stderr",
          "output_type": "stream",
          "text": [
            "d:\\Anaconda\\lib\\site-packages\\torchvision\\models\\_utils.py:208: UserWarning: The parameter 'pretrained' is deprecated since 0.13 and may be removed in the future, please use 'weights' instead.\n",
            "  warnings.warn(\n",
            "d:\\Anaconda\\lib\\site-packages\\torchvision\\models\\_utils.py:223: UserWarning: Arguments other than a weight enum or `None` for 'weights' are deprecated since 0.13 and may be removed in the future. The current behavior is equivalent to passing `weights=ResNet50_Weights.IMAGENET1K_V1`. You can also use `weights=ResNet50_Weights.DEFAULT` to get the most up-to-date weights.\n",
            "  warnings.warn(msg)\n",
            "Downloading: \"https://download.pytorch.org/models/resnet50-0676ba61.pth\" to C:\\Users\\86182/.cache\\torch\\hub\\checkpoints\\resnet50-0676ba61.pth\n"
          ]
        },
        {
          "data": {
            "application/vnd.jupyter.widget-view+json": {
              "model_id": "b8b65f3f2dd548af9cc45f73191eecbf",
              "version_major": 2,
              "version_minor": 0
            },
            "text/plain": [
              "  0%|          | 0.00/97.8M [00:00<?, ?B/s]"
            ]
          },
          "metadata": {},
          "output_type": "display_data"
        },
        {
          "data": {
            "text/plain": [
              "ResNet(\n",
              "  (conv1): Conv2d(3, 64, kernel_size=(7, 7), stride=(2, 2), padding=(3, 3), bias=False)\n",
              "  (bn1): BatchNorm2d(64, eps=1e-05, momentum=0.1, affine=True, track_running_stats=True)\n",
              "  (relu): ReLU(inplace=True)\n",
              "  (maxpool): MaxPool2d(kernel_size=3, stride=2, padding=1, dilation=1, ceil_mode=False)\n",
              "  (layer1): Sequential(\n",
              "    (0): Bottleneck(\n",
              "      (conv1): Conv2d(64, 64, kernel_size=(1, 1), stride=(1, 1), bias=False)\n",
              "      (bn1): BatchNorm2d(64, eps=1e-05, momentum=0.1, affine=True, track_running_stats=True)\n",
              "      (conv2): Conv2d(64, 64, kernel_size=(3, 3), stride=(1, 1), padding=(1, 1), bias=False)\n",
              "      (bn2): BatchNorm2d(64, eps=1e-05, momentum=0.1, affine=True, track_running_stats=True)\n",
              "      (conv3): Conv2d(64, 256, kernel_size=(1, 1), stride=(1, 1), bias=False)\n",
              "      (bn3): BatchNorm2d(256, eps=1e-05, momentum=0.1, affine=True, track_running_stats=True)\n",
              "      (relu): ReLU(inplace=True)\n",
              "      (downsample): Sequential(\n",
              "        (0): Conv2d(64, 256, kernel_size=(1, 1), stride=(1, 1), bias=False)\n",
              "        (1): BatchNorm2d(256, eps=1e-05, momentum=0.1, affine=True, track_running_stats=True)\n",
              "      )\n",
              "    )\n",
              "    (1): Bottleneck(\n",
              "      (conv1): Conv2d(256, 64, kernel_size=(1, 1), stride=(1, 1), bias=False)\n",
              "      (bn1): BatchNorm2d(64, eps=1e-05, momentum=0.1, affine=True, track_running_stats=True)\n",
              "      (conv2): Conv2d(64, 64, kernel_size=(3, 3), stride=(1, 1), padding=(1, 1), bias=False)\n",
              "      (bn2): BatchNorm2d(64, eps=1e-05, momentum=0.1, affine=True, track_running_stats=True)\n",
              "      (conv3): Conv2d(64, 256, kernel_size=(1, 1), stride=(1, 1), bias=False)\n",
              "      (bn3): BatchNorm2d(256, eps=1e-05, momentum=0.1, affine=True, track_running_stats=True)\n",
              "      (relu): ReLU(inplace=True)\n",
              "    )\n",
              "    (2): Bottleneck(\n",
              "      (conv1): Conv2d(256, 64, kernel_size=(1, 1), stride=(1, 1), bias=False)\n",
              "      (bn1): BatchNorm2d(64, eps=1e-05, momentum=0.1, affine=True, track_running_stats=True)\n",
              "      (conv2): Conv2d(64, 64, kernel_size=(3, 3), stride=(1, 1), padding=(1, 1), bias=False)\n",
              "      (bn2): BatchNorm2d(64, eps=1e-05, momentum=0.1, affine=True, track_running_stats=True)\n",
              "      (conv3): Conv2d(64, 256, kernel_size=(1, 1), stride=(1, 1), bias=False)\n",
              "      (bn3): BatchNorm2d(256, eps=1e-05, momentum=0.1, affine=True, track_running_stats=True)\n",
              "      (relu): ReLU(inplace=True)\n",
              "    )\n",
              "  )\n",
              "  (layer2): Sequential(\n",
              "    (0): Bottleneck(\n",
              "      (conv1): Conv2d(256, 128, kernel_size=(1, 1), stride=(1, 1), bias=False)\n",
              "      (bn1): BatchNorm2d(128, eps=1e-05, momentum=0.1, affine=True, track_running_stats=True)\n",
              "      (conv2): Conv2d(128, 128, kernel_size=(3, 3), stride=(2, 2), padding=(1, 1), bias=False)\n",
              "      (bn2): BatchNorm2d(128, eps=1e-05, momentum=0.1, affine=True, track_running_stats=True)\n",
              "      (conv3): Conv2d(128, 512, kernel_size=(1, 1), stride=(1, 1), bias=False)\n",
              "      (bn3): BatchNorm2d(512, eps=1e-05, momentum=0.1, affine=True, track_running_stats=True)\n",
              "      (relu): ReLU(inplace=True)\n",
              "      (downsample): Sequential(\n",
              "        (0): Conv2d(256, 512, kernel_size=(1, 1), stride=(2, 2), bias=False)\n",
              "        (1): BatchNorm2d(512, eps=1e-05, momentum=0.1, affine=True, track_running_stats=True)\n",
              "      )\n",
              "    )\n",
              "    (1): Bottleneck(\n",
              "      (conv1): Conv2d(512, 128, kernel_size=(1, 1), stride=(1, 1), bias=False)\n",
              "      (bn1): BatchNorm2d(128, eps=1e-05, momentum=0.1, affine=True, track_running_stats=True)\n",
              "      (conv2): Conv2d(128, 128, kernel_size=(3, 3), stride=(1, 1), padding=(1, 1), bias=False)\n",
              "      (bn2): BatchNorm2d(128, eps=1e-05, momentum=0.1, affine=True, track_running_stats=True)\n",
              "      (conv3): Conv2d(128, 512, kernel_size=(1, 1), stride=(1, 1), bias=False)\n",
              "      (bn3): BatchNorm2d(512, eps=1e-05, momentum=0.1, affine=True, track_running_stats=True)\n",
              "      (relu): ReLU(inplace=True)\n",
              "    )\n",
              "    (2): Bottleneck(\n",
              "      (conv1): Conv2d(512, 128, kernel_size=(1, 1), stride=(1, 1), bias=False)\n",
              "      (bn1): BatchNorm2d(128, eps=1e-05, momentum=0.1, affine=True, track_running_stats=True)\n",
              "      (conv2): Conv2d(128, 128, kernel_size=(3, 3), stride=(1, 1), padding=(1, 1), bias=False)\n",
              "      (bn2): BatchNorm2d(128, eps=1e-05, momentum=0.1, affine=True, track_running_stats=True)\n",
              "      (conv3): Conv2d(128, 512, kernel_size=(1, 1), stride=(1, 1), bias=False)\n",
              "      (bn3): BatchNorm2d(512, eps=1e-05, momentum=0.1, affine=True, track_running_stats=True)\n",
              "      (relu): ReLU(inplace=True)\n",
              "    )\n",
              "    (3): Bottleneck(\n",
              "      (conv1): Conv2d(512, 128, kernel_size=(1, 1), stride=(1, 1), bias=False)\n",
              "      (bn1): BatchNorm2d(128, eps=1e-05, momentum=0.1, affine=True, track_running_stats=True)\n",
              "      (conv2): Conv2d(128, 128, kernel_size=(3, 3), stride=(1, 1), padding=(1, 1), bias=False)\n",
              "      (bn2): BatchNorm2d(128, eps=1e-05, momentum=0.1, affine=True, track_running_stats=True)\n",
              "      (conv3): Conv2d(128, 512, kernel_size=(1, 1), stride=(1, 1), bias=False)\n",
              "      (bn3): BatchNorm2d(512, eps=1e-05, momentum=0.1, affine=True, track_running_stats=True)\n",
              "      (relu): ReLU(inplace=True)\n",
              "    )\n",
              "  )\n",
              "  (layer3): Sequential(\n",
              "    (0): Bottleneck(\n",
              "      (conv1): Conv2d(512, 256, kernel_size=(1, 1), stride=(1, 1), bias=False)\n",
              "      (bn1): BatchNorm2d(256, eps=1e-05, momentum=0.1, affine=True, track_running_stats=True)\n",
              "      (conv2): Conv2d(256, 256, kernel_size=(3, 3), stride=(2, 2), padding=(1, 1), bias=False)\n",
              "      (bn2): BatchNorm2d(256, eps=1e-05, momentum=0.1, affine=True, track_running_stats=True)\n",
              "      (conv3): Conv2d(256, 1024, kernel_size=(1, 1), stride=(1, 1), bias=False)\n",
              "      (bn3): BatchNorm2d(1024, eps=1e-05, momentum=0.1, affine=True, track_running_stats=True)\n",
              "      (relu): ReLU(inplace=True)\n",
              "      (downsample): Sequential(\n",
              "        (0): Conv2d(512, 1024, kernel_size=(1, 1), stride=(2, 2), bias=False)\n",
              "        (1): BatchNorm2d(1024, eps=1e-05, momentum=0.1, affine=True, track_running_stats=True)\n",
              "      )\n",
              "    )\n",
              "    (1): Bottleneck(\n",
              "      (conv1): Conv2d(1024, 256, kernel_size=(1, 1), stride=(1, 1), bias=False)\n",
              "      (bn1): BatchNorm2d(256, eps=1e-05, momentum=0.1, affine=True, track_running_stats=True)\n",
              "      (conv2): Conv2d(256, 256, kernel_size=(3, 3), stride=(1, 1), padding=(1, 1), bias=False)\n",
              "      (bn2): BatchNorm2d(256, eps=1e-05, momentum=0.1, affine=True, track_running_stats=True)\n",
              "      (conv3): Conv2d(256, 1024, kernel_size=(1, 1), stride=(1, 1), bias=False)\n",
              "      (bn3): BatchNorm2d(1024, eps=1e-05, momentum=0.1, affine=True, track_running_stats=True)\n",
              "      (relu): ReLU(inplace=True)\n",
              "    )\n",
              "    (2): Bottleneck(\n",
              "      (conv1): Conv2d(1024, 256, kernel_size=(1, 1), stride=(1, 1), bias=False)\n",
              "      (bn1): BatchNorm2d(256, eps=1e-05, momentum=0.1, affine=True, track_running_stats=True)\n",
              "      (conv2): Conv2d(256, 256, kernel_size=(3, 3), stride=(1, 1), padding=(1, 1), bias=False)\n",
              "      (bn2): BatchNorm2d(256, eps=1e-05, momentum=0.1, affine=True, track_running_stats=True)\n",
              "      (conv3): Conv2d(256, 1024, kernel_size=(1, 1), stride=(1, 1), bias=False)\n",
              "      (bn3): BatchNorm2d(1024, eps=1e-05, momentum=0.1, affine=True, track_running_stats=True)\n",
              "      (relu): ReLU(inplace=True)\n",
              "    )\n",
              "    (3): Bottleneck(\n",
              "      (conv1): Conv2d(1024, 256, kernel_size=(1, 1), stride=(1, 1), bias=False)\n",
              "      (bn1): BatchNorm2d(256, eps=1e-05, momentum=0.1, affine=True, track_running_stats=True)\n",
              "      (conv2): Conv2d(256, 256, kernel_size=(3, 3), stride=(1, 1), padding=(1, 1), bias=False)\n",
              "      (bn2): BatchNorm2d(256, eps=1e-05, momentum=0.1, affine=True, track_running_stats=True)\n",
              "      (conv3): Conv2d(256, 1024, kernel_size=(1, 1), stride=(1, 1), bias=False)\n",
              "      (bn3): BatchNorm2d(1024, eps=1e-05, momentum=0.1, affine=True, track_running_stats=True)\n",
              "      (relu): ReLU(inplace=True)\n",
              "    )\n",
              "    (4): Bottleneck(\n",
              "      (conv1): Conv2d(1024, 256, kernel_size=(1, 1), stride=(1, 1), bias=False)\n",
              "      (bn1): BatchNorm2d(256, eps=1e-05, momentum=0.1, affine=True, track_running_stats=True)\n",
              "      (conv2): Conv2d(256, 256, kernel_size=(3, 3), stride=(1, 1), padding=(1, 1), bias=False)\n",
              "      (bn2): BatchNorm2d(256, eps=1e-05, momentum=0.1, affine=True, track_running_stats=True)\n",
              "      (conv3): Conv2d(256, 1024, kernel_size=(1, 1), stride=(1, 1), bias=False)\n",
              "      (bn3): BatchNorm2d(1024, eps=1e-05, momentum=0.1, affine=True, track_running_stats=True)\n",
              "      (relu): ReLU(inplace=True)\n",
              "    )\n",
              "    (5): Bottleneck(\n",
              "      (conv1): Conv2d(1024, 256, kernel_size=(1, 1), stride=(1, 1), bias=False)\n",
              "      (bn1): BatchNorm2d(256, eps=1e-05, momentum=0.1, affine=True, track_running_stats=True)\n",
              "      (conv2): Conv2d(256, 256, kernel_size=(3, 3), stride=(1, 1), padding=(1, 1), bias=False)\n",
              "      (bn2): BatchNorm2d(256, eps=1e-05, momentum=0.1, affine=True, track_running_stats=True)\n",
              "      (conv3): Conv2d(256, 1024, kernel_size=(1, 1), stride=(1, 1), bias=False)\n",
              "      (bn3): BatchNorm2d(1024, eps=1e-05, momentum=0.1, affine=True, track_running_stats=True)\n",
              "      (relu): ReLU(inplace=True)\n",
              "    )\n",
              "  )\n",
              "  (layer4): Sequential(\n",
              "    (0): Bottleneck(\n",
              "      (conv1): Conv2d(1024, 512, kernel_size=(1, 1), stride=(1, 1), bias=False)\n",
              "      (bn1): BatchNorm2d(512, eps=1e-05, momentum=0.1, affine=True, track_running_stats=True)\n",
              "      (conv2): Conv2d(512, 512, kernel_size=(3, 3), stride=(2, 2), padding=(1, 1), bias=False)\n",
              "      (bn2): BatchNorm2d(512, eps=1e-05, momentum=0.1, affine=True, track_running_stats=True)\n",
              "      (conv3): Conv2d(512, 2048, kernel_size=(1, 1), stride=(1, 1), bias=False)\n",
              "      (bn3): BatchNorm2d(2048, eps=1e-05, momentum=0.1, affine=True, track_running_stats=True)\n",
              "      (relu): ReLU(inplace=True)\n",
              "      (downsample): Sequential(\n",
              "        (0): Conv2d(1024, 2048, kernel_size=(1, 1), stride=(2, 2), bias=False)\n",
              "        (1): BatchNorm2d(2048, eps=1e-05, momentum=0.1, affine=True, track_running_stats=True)\n",
              "      )\n",
              "    )\n",
              "    (1): Bottleneck(\n",
              "      (conv1): Conv2d(2048, 512, kernel_size=(1, 1), stride=(1, 1), bias=False)\n",
              "      (bn1): BatchNorm2d(512, eps=1e-05, momentum=0.1, affine=True, track_running_stats=True)\n",
              "      (conv2): Conv2d(512, 512, kernel_size=(3, 3), stride=(1, 1), padding=(1, 1), bias=False)\n",
              "      (bn2): BatchNorm2d(512, eps=1e-05, momentum=0.1, affine=True, track_running_stats=True)\n",
              "      (conv3): Conv2d(512, 2048, kernel_size=(1, 1), stride=(1, 1), bias=False)\n",
              "      (bn3): BatchNorm2d(2048, eps=1e-05, momentum=0.1, affine=True, track_running_stats=True)\n",
              "      (relu): ReLU(inplace=True)\n",
              "    )\n",
              "    (2): Bottleneck(\n",
              "      (conv1): Conv2d(2048, 512, kernel_size=(1, 1), stride=(1, 1), bias=False)\n",
              "      (bn1): BatchNorm2d(512, eps=1e-05, momentum=0.1, affine=True, track_running_stats=True)\n",
              "      (conv2): Conv2d(512, 512, kernel_size=(3, 3), stride=(1, 1), padding=(1, 1), bias=False)\n",
              "      (bn2): BatchNorm2d(512, eps=1e-05, momentum=0.1, affine=True, track_running_stats=True)\n",
              "      (conv3): Conv2d(512, 2048, kernel_size=(1, 1), stride=(1, 1), bias=False)\n",
              "      (bn3): BatchNorm2d(2048, eps=1e-05, momentum=0.1, affine=True, track_running_stats=True)\n",
              "      (relu): ReLU(inplace=True)\n",
              "    )\n",
              "  )\n",
              "  (avgpool): AdaptiveAvgPool2d(output_size=(1, 1))\n",
              "  (fc): Linear(in_features=2048, out_features=10, bias=True)\n",
              ")"
            ]
          },
          "execution_count": 35,
          "metadata": {},
          "output_type": "execute_result"
        }
      ],
      "source": [
        "# Frozen, only train the last layer\n",
        "res50_frozen = torchvision.models.resnet50(pretrained=True)\n",
        "for param in res50_frozen.parameters():\n",
        "    param.requires_grad = False\n",
        "num_ftrs = res50_frozen.fc.in_features\n",
        "res50_frozen.fc = nn.Linear(num_ftrs, 10)\n",
        "res50_frozen.fc.requires_grad = True\n",
        "\n",
        "device = torch.device(\"cuda:0\" if torch.cuda.is_available() else \"cpu\")\n",
        "res50_frozen.to(device)"
      ]
    },
    {
      "cell_type": "code",
      "execution_count": null,
      "metadata": {},
      "outputs": [],
      "source": [
        "# Define loss function and optimizer\n",
        "criterion = nn.CrossEntropyLoss()\n",
        "optimizer = optim.SGD(filter(lambda p: p.requires_grad, res50_frozen.parameters()), lr=0.001, momentum=0.9)\n",
        "\n",
        "# Train the model for 10 epochs\n",
        "for epoch in range(1):\n",
        "    running_loss = 0.0\n",
        "    for i, data in enumerate(tqdm(trainloader)):\n",
        "        inputs, labels = data[0].to(device), data[1].to(device) # Move the data to the specified CUDA device\n",
        "        optimizer.zero_grad()\n",
        "        outputs = res50_frozen(inputs)\n",
        "        loss = criterion(outputs, labels)\n",
        "        loss.backward()\n",
        "        optimizer.step()\n",
        "        running_loss += loss.item()\n",
        "\n",
        "print('Done')\n",
        "\n",
        "# eval\n",
        "correct = 0\n",
        "total = 0\n",
        "with torch.no_grad():\n",
        "    for data in testloader:\n",
        "        inputs, labels = data[0].to(device), data[1].to(device) # Move the data to the specified CUDA device\n",
        "        outputs = res50_frozen(inputs)\n",
        "        _, predicted = torch.max(outputs.data, 1)\n",
        "        total += labels.size(0)\n",
        "        correct += (predicted == labels).sum().item()\n",
        "\n",
        "print('Accuracy on test set: %d %%' % (100 * correct / total)) # 99%\n"
      ]
    },
    {
      "attachments": {},
      "cell_type": "markdown",
      "metadata": {},
      "source": [
        "Here, we check the trainable parameter numbers of frozen resnet 50 and frozen GPT-2"
      ]
    },
    {
      "cell_type": "code",
      "execution_count": null,
      "metadata": {},
      "outputs": [],
      "source": [
        "def get_parameter_number(model):\n",
        "    total_num = sum(p.numel() for p in model.parameters())\n",
        "    trainable_num = sum(p.numel() for p in model.parameters() if p.requires_grad)\n",
        "    return {'Total': total_num, 'Trainable': trainable_num}\n",
        "print(get_parameter_number(res50_frozen))"
      ]
    },
    {
      "attachments": {},
      "cell_type": "markdown",
      "metadata": {},
      "source": [
        "### **Influence of Model Capacity on Accuracy and Training Time**"
      ]
    },
    {
      "attachments": {},
      "cell_type": "markdown",
      "metadata": {},
      "source": [
        "In this section, we study how to model size will influence the accuracy and training time. We use small, medium and large GPT-2 for comparision. The training task is the bitwise operator you designed before."
      ]
    },
    {
      "attachments": {},
      "cell_type": "markdown",
      "metadata": {},
      "source": [
        "In the tranning function below, we use the parameter `engine_name` to select different size model."
      ]
    },
    {
      "cell_type": "code",
      "execution_count": null,
      "metadata": {},
      "outputs": [],
      "source": [
        "import time\n",
        "import pandas as pd\n",
        "import matplotlib.pyplot as plt\n",
        "\n",
        "\n",
        "def train(engine_name, train_loader, test_loader, Bit_length, num_epochs = 2):\n",
        "\n",
        "  # create an instance of the model\n",
        "  gpt2_engine = GPT2Model.from_pretrained(engine_name)\n",
        "  for name, param in gpt2_engine.named_parameters():\n",
        "    # freeze all parameters except the layernorm and positional embeddings \n",
        "    if 'ln' in name or 'wpe' in name:\n",
        "      param.requires_grad = True \n",
        "    else:\n",
        "      param.requires_grad = False\n",
        "\n",
        "\n",
        "  # Choose the correct embedding size based on the GPT-2 model\n",
        "  if engine_name == \"gpt2\":\n",
        "      engine_embed_dim = 768\n",
        "  elif engine_name == \"gpt2-medium\":\n",
        "      engine_embed_dim = 1024\n",
        "  elif engine_name == \"gpt2-large\":\n",
        "      engine_embed_dim = 1280\n",
        "  elif engine_name == \"gpt2-xl\":\n",
        "      engine_embed_dim = 1600\n",
        "  else:\n",
        "      raise ValueError(f\"Invalid model name: {engine_name}\")\n",
        "\n",
        "  model = Bit_wise_transformer(\n",
        "      gpt2_engine, \n",
        "      bitLength = Bit_length,\n",
        "      input_dim = 2, \n",
        "      engine_embed_dim = engine_embed_dim\n",
        "  ).to(device)\n",
        "\n",
        "  # define the optimizer and loss\n",
        "  optimizer = torch.optim.Adam(model.parameters(), lr=0.001)\n",
        "  criterion = nn.CrossEntropyLoss()\n",
        "\n",
        "  losses = []\n",
        "  train_acc = []\n",
        "  all_val_acc = []\n",
        "  best_val_acc = 0\n",
        "\n",
        "  epoch_iterator = trange(num_epochs)\n",
        "  for epoch in epoch_iterator:\n",
        "      # Training loop\n",
        "      running_loss = 0.0\n",
        "      data_iterator = tqdm(train_loader)\n",
        "      for i, (inputs, labels) in enumerate(data_iterator):\n",
        "          optimizer.zero_grad()\n",
        "          outputs = model(inputs)\n",
        "          loss = criterion(outputs, labels.squeeze())\n",
        "          accuracy = torch.mean((torch.argmax(outputs, dim=-1) == labels.flatten()).float())\n",
        "          loss.backward()\n",
        "          optimizer.step()\n",
        "\n",
        "          data_iterator.set_postfix(loss=loss.item())\n",
        "\n",
        "          running_loss += loss.item()\n",
        "          if (i + 1) % 10 == 0:\n",
        "              #print(f'Epoch [{epoch + 1}/{num_epochs}], Data [{i + 1}/{len(train_loader)}], Loss: {running_loss / 100:.4f}')\n",
        "              running_loss = 0.0\n",
        "              losses.append(loss.item())\n",
        "              train_acc.append(accuracy.item())\n",
        "        \n",
        "      # Validation\n",
        "      val_acc = []\n",
        "      model.eval()\n",
        "      with torch.no_grad():\n",
        "        for inputs, labels in test_loader:\n",
        "            inputs = inputs.to(device=device, dtype=torch.long)\n",
        "            labels = labels.to(device=device, dtype=torch.long)\n",
        "            outputs = model(inputs)\n",
        "            accuracy = torch.mean((torch.argmax(outputs, dim=-1) == labels.flatten()).float())\n",
        "            val_acc.append(accuracy.item())\n",
        "      model.train()\n",
        "\n",
        "      all_val_acc.append(np.mean(val_acc))\n",
        "      # Save best model\n",
        "      if np.mean(val_acc) > best_val_acc:\n",
        "          best_val_acc = np.mean(val_acc)\n",
        "\n",
        "      epoch_iterator.set_postfix(val_acc=np.mean(val_acc), best_val_acc=best_val_acc)\n",
        "\n",
        "\n",
        "  # plt.plot(losses)\n",
        "  # plt.title('Train Loss')\n",
        "  # plt.figure()\n",
        "  # plt.plot(train_acc)\n",
        "  # plt.title('Train Accuracy')\n",
        "  # plt.figure()\n",
        "  # plt.plot(all_val_acc)\n",
        "  # plt.title('Val Accuracy')\n",
        "  del model\n",
        "  torch.cuda.empty_cache()\n",
        "  return best_val_acc"
      ]
    },
    {
      "attachments": {},
      "cell_type": "markdown",
      "metadata": {},
      "source": [
        "Here, we train with different model size and how accuracy changed with the size."
      ]
    },
    {
      "cell_type": "code",
      "execution_count": null,
      "metadata": {},
      "outputs": [],
      "source": [
        "engine_list = [\"gpt2\",\"gpt2-medium\",\"gpt2-large\"]"
      ]
    },
    {
      "cell_type": "code",
      "execution_count": null,
      "metadata": {},
      "outputs": [],
      "source": [
        "# train the modified model\n",
        "Bit_length = 5\n",
        "Data_size = 100\n",
        "\n",
        "# training the model\n",
        "train_loader, test_loader = generate_data_loaders(n=Bit_length, batch_size=1,data_size = Data_size, train_size=0.8)\n",
        "\n",
        "results = []\n",
        "\n",
        "for engine_name in engine_list:\n",
        "  print(\"We are training the model engine: \", engine_name)\n",
        "  start_time = time.time()\n",
        "  best_val_acc = train(engine_name, train_loader, test_loader, Bit_length, num_epochs = 2)\n",
        "  train_time = time.time() - start_time\n",
        "  #print(\"The best val accuracy using the model engine -- \", engine_name, \": \", best_val_acc)\n",
        "\n",
        "  results.append({\n",
        "        \"model\": engine_name,\n",
        "        \"val_accuracy\": best_val_acc,\n",
        "        \"train_time\": train_time\n",
        "    })\n"
      ]
    },
    {
      "cell_type": "code",
      "execution_count": null,
      "metadata": {},
      "outputs": [],
      "source": [
        "# Print the results\n",
        "for result in results:\n",
        "    print(f\"Model: {result['model']}\")\n",
        "    print(f\"Accuracy: {result['val_accuracy']}\")\n",
        "    print(f\"Training Time: {result['train_time']} seconds\")\n",
        "    print()"
      ]
    },
    {
      "cell_type": "code",
      "execution_count": null,
      "metadata": {},
      "outputs": [],
      "source": [
        "# Create a pandas DataFrame from the results\n",
        "results_df = pd.DataFrame(results)\n",
        "\n",
        "# Display the results in a table\n",
        "print(\"Results Table:\")\n",
        "display(results_df)\n",
        "\n",
        "# Plot accuracy and F1 score\n",
        "fig, ax = plt.subplots(1, 2, figsize=(12, 4))\n",
        "\n",
        "results_df.plot(x=\"model\", y=\"val_accuracy\", kind=\"bar\", ax=ax[0], legend=False)\n",
        "ax[0].set_title(\"Accuracy\")\n",
        "ax[0].set_ylabel(\"Accuracy\")\n",
        "ax[0].set_ylim(0, 1)\n",
        "\n",
        "results_df.plot(x=\"model\", y=\"train_time\", kind=\"bar\", ax=ax[1], legend=False)\n",
        "ax[1].set_title(\"Training Time\")\n",
        "ax[1].set_ylabel(\"Seconds\")\n",
        "\n",
        "plt.show()\n"
      ]
    },
    {
      "attachments": {},
      "cell_type": "markdown",
      "metadata": {},
      "source": [
        "### **Interpreting Attention Layers in GPT-2**"
      ]
    },
    {
      "cell_type": "markdown",
      "metadata": {},
      "source": []
    }
  ],
  "metadata": {
    "colab": {
      "provenance": []
    },
    "kernelspec": {
      "display_name": "base",
      "language": "python",
      "name": "python3"
    },
    "language_info": {
      "codemirror_mode": {
        "name": "ipython",
        "version": 3
      },
      "file_extension": ".py",
      "mimetype": "text/x-python",
      "name": "python",
      "nbconvert_exporter": "python",
      "pygments_lexer": "ipython3",
      "version": "3.9.12"
    },
    "vscode": {
      "interpreter": {
        "hash": "83d8af4ff1ccf0e43da2803a684c950e5c1874edeab0ee20d27ee23b5d3b3a9c"
      }
    }
  },
  "nbformat": 4,
  "nbformat_minor": 0
}
